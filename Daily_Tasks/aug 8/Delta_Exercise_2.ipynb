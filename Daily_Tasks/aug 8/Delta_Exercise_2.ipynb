{
  "cells": [
    {
      "cell_type": "markdown",
      "metadata": {
        "application/vnd.databricks.v1+cell": {
          "cellMetadata": {},
          "inputWidgets": {},
          "nuid": "3f60118d-abd0-40b9-a2f3-d549e615b279",
          "showTitle": false,
          "tableResultSettingsMap": {},
          "title": ""
        },
        "id": "o4E-y7I2qBuw"
      },
      "source": [
        "#Dataset: Inline CSV – student_scores.csv"
      ]
    },
    {
      "cell_type": "code",
      "execution_count": null,
      "metadata": {
        "application/vnd.databricks.v1+cell": {
          "cellMetadata": {
            "byteLimit": 2048000,
            "rowLimit": 10000
          },
          "inputWidgets": {},
          "nuid": "2c8b26df-e701-4267-b481-e27d7fad5905",
          "showTitle": false,
          "tableResultSettingsMap": {},
          "title": ""
        },
        "id": "Jy9JRCAQqBux",
        "outputId": "dd473b3a-73a3-4d23-823c-0bc0a389d344"
      },
      "outputs": [
        {
          "output_type": "stream",
          "name": "stdout",
          "text": [
            "Wrote 234 bytes.\n"
          ]
        },
        {
          "output_type": "execute_result",
          "data": {
            "text/plain": [
              "True"
            ]
          },
          "execution_count": 20,
          "metadata": {}
        }
      ],
      "source": [
        "csv_data = \"\"\"student_id,name,subject,score,grade\n",
        "1,Ankit,Math,85,A\n",
        "2,Divya,Science,92,A\n",
        "3,Rahul,English,78,B\n",
        "4,Sneha,Math,65,C\n",
        "5,Aryan,Science,55,D\n",
        "6,Isha,English,88,A\n",
        "7,Tanvi,Math,91,A\n",
        "8,Kunal,Science,72,B\n",
        "9,Megha,English,60,C\n",
        "10,Rohan,Math,40,F\n",
        "\"\"\"\n",
        "\n",
        "dbutils.fs.put(\"dbfs:/tmp/student_scores.csv\", csv_data, overwrite=True)"
      ]
    },
    {
      "cell_type": "markdown",
      "metadata": {
        "application/vnd.databricks.v1+cell": {
          "cellMetadata": {},
          "inputWidgets": {},
          "nuid": "932831cd-2633-4f91-a95b-e0698a1870f4",
          "showTitle": false,
          "tableResultSettingsMap": {},
          "title": ""
        },
        "id": "ek-4jwY0qBuy"
      },
      "source": [
        "Step 1: Read into DataFrame"
      ]
    },
    {
      "cell_type": "code",
      "execution_count": null,
      "metadata": {
        "application/vnd.databricks.v1+cell": {
          "cellMetadata": {
            "byteLimit": 2048000,
            "rowLimit": 10000
          },
          "inputWidgets": {},
          "nuid": "becddb67-178d-441b-8593-568878ba8cf0",
          "showTitle": false,
          "tableResultSettingsMap": {},
          "title": ""
        },
        "id": "zftqbfnQqBuy",
        "outputId": "59113064-6fb6-41b5-9778-6369460662a1"
      },
      "outputs": [
        {
          "output_type": "stream",
          "name": "stdout",
          "text": [
            "+----------+-----+-------+-----+-----+\n|student_id| name|subject|score|grade|\n+----------+-----+-------+-----+-----+\n|         1|Ankit|   Math|   85|    A|\n|         2|Divya|Science|   92|    A|\n|         3|Rahul|English|   78|    B|\n|         4|Sneha|   Math|   65|    C|\n|         5|Aryan|Science|   55|    D|\n|         6| Isha|English|   88|    A|\n|         7|Tanvi|   Math|   91|    A|\n|         8|Kunal|Science|   72|    B|\n|         9|Megha|English|   60|    C|\n|        10|Rohan|   Math|   40|    F|\n+----------+-----+-------+-----+-----+\n\n"
          ]
        }
      ],
      "source": [
        "df = spark.read.option(\"header\", True).option(\"inferSchema\", True).csv(\"dbfs:/tmp/student_scores.csv\")\n",
        "df.show()"
      ]
    },
    {
      "cell_type": "markdown",
      "metadata": {
        "application/vnd.databricks.v1+cell": {
          "cellMetadata": {},
          "inputWidgets": {},
          "nuid": "212a9f15-4801-4ed4-a694-4eb2d3bf8c27",
          "showTitle": false,
          "tableResultSettingsMap": {},
          "title": ""
        },
        "id": "iEp_KLm9qBuy"
      },
      "source": [
        "Step 2: Write to Delta"
      ]
    },
    {
      "cell_type": "code",
      "execution_count": null,
      "metadata": {
        "application/vnd.databricks.v1+cell": {
          "cellMetadata": {
            "byteLimit": 2048000,
            "rowLimit": 10000
          },
          "inputWidgets": {},
          "nuid": "04228f21-3d33-471e-b847-aecd086c269e",
          "showTitle": false,
          "tableResultSettingsMap": {},
          "title": ""
        },
        "id": "n_hO-ch-qBuy"
      },
      "outputs": [],
      "source": [
        "df.write.mode(\"overwrite\").format(\"delta\").save(\"/tmp/delta/student_scores\")"
      ]
    },
    {
      "cell_type": "markdown",
      "metadata": {
        "application/vnd.databricks.v1+cell": {
          "cellMetadata": {},
          "inputWidgets": {},
          "nuid": "851b3b5f-8d67-46bf-b31d-46c8c31e2e11",
          "showTitle": false,
          "tableResultSettingsMap": {},
          "title": ""
        },
        "id": "Du87L-fnqBuz"
      },
      "source": [
        "Step 3: Register Delta Table"
      ]
    },
    {
      "cell_type": "code",
      "execution_count": null,
      "metadata": {
        "application/vnd.databricks.v1+cell": {
          "cellMetadata": {
            "byteLimit": 2048000,
            "rowLimit": 10000
          },
          "inputWidgets": {},
          "nuid": "53443dc1-363b-4dfc-842a-ffd9740b9cb8",
          "showTitle": false,
          "tableResultSettingsMap": {},
          "title": ""
        },
        "id": "RcBoySQ6qBuz",
        "outputId": "e924e060-ef30-4b15-8b28-873cd58179b8"
      },
      "outputs": [
        {
          "output_type": "execute_result",
          "data": {
            "text/plain": [
              "DataFrame[]"
            ]
          },
          "execution_count": 6,
          "metadata": {}
        }
      ],
      "source": [
        "spark.sql(\"DROP TABLE IF EXISTS student_scores\")"
      ]
    },
    {
      "cell_type": "code",
      "execution_count": null,
      "metadata": {
        "application/vnd.databricks.v1+cell": {
          "cellMetadata": {},
          "inputWidgets": {},
          "nuid": "03dfe672-055a-45cb-95b8-af5b112ad83d",
          "showTitle": false,
          "tableResultSettingsMap": {},
          "title": ""
        },
        "id": "Br023uSfqBuz"
      },
      "outputs": [],
      "source": [
        "spark.sql(\"CREATE TABLE default.student_scores USING DELTA LOCATION 'dbfs:/tmp/delta/student_scores'\")"
      ]
    },
    {
      "cell_type": "code",
      "execution_count": null,
      "metadata": {
        "application/vnd.databricks.v1+cell": {
          "cellMetadata": {
            "byteLimit": 2048000,
            "rowLimit": 10000
          },
          "inputWidgets": {},
          "nuid": "638c2972-3901-444f-9995-576e996a7c59",
          "showTitle": false,
          "tableResultSettingsMap": {},
          "title": ""
        },
        "id": "o11ld8U_qBuz",
        "outputId": "75ce6951-25fd-44f0-e2a6-77921f3f71a1"
      },
      "outputs": [
        {
          "output_type": "stream",
          "name": "stdout",
          "text": [
            "+----------+-----+-------+-----+-----+\n|student_id| name|subject|score|grade|\n+----------+-----+-------+-----+-----+\n|         1|Ankit|   Math|   85|    A|\n|         2|Divya|Science|   92|    A|\n|         3|Rahul|English|   78|    B|\n|         4|Sneha|   Math|   65|    C|\n|         5|Aryan|Science|   55|    D|\n|         6| Isha|English|   88|    A|\n|         7|Tanvi|   Math|   91|    A|\n|         8|Kunal|Science|   72|    B|\n|         9|Megha|English|   60|    C|\n|        10|Rohan|   Math|   40|    F|\n+----------+-----+-------+-----+-----+\n\n"
          ]
        }
      ],
      "source": [
        "from delta.tables import DeltaTable\n",
        "\n",
        "delta_table = DeltaTable.forPath(spark, \"/tmp/delta/student_scores\")\n",
        "df = delta_table.toDF()\n",
        "df.show()"
      ]
    },
    {
      "cell_type": "markdown",
      "metadata": {
        "application/vnd.databricks.v1+cell": {
          "cellMetadata": {},
          "inputWidgets": {},
          "nuid": "aa6a8901-cfff-493b-b9c4-459069cc0046",
          "showTitle": false,
          "tableResultSettingsMap": {},
          "title": ""
        },
        "id": "_VwIoso8qBuz"
      },
      "source": [
        "Basic Tasks\n",
        "\n",
        "1. Show all students and their scores."
      ]
    },
    {
      "cell_type": "code",
      "execution_count": null,
      "metadata": {
        "application/vnd.databricks.v1+cell": {
          "cellMetadata": {
            "byteLimit": 2048000,
            "rowLimit": 10000
          },
          "inputWidgets": {},
          "nuid": "482cbeeb-650d-4447-8c70-5b0a83abc77e",
          "showTitle": false,
          "tableResultSettingsMap": {},
          "title": ""
        },
        "id": "_-6iUIayqBuz"
      },
      "outputs": [],
      "source": [
        "df = spark.read.format(\"delta\").load(\"/tmp/delta/student_scores\")\n",
        "df.createOrReplaceTempView(\"student_scores\")"
      ]
    },
    {
      "cell_type": "code",
      "execution_count": null,
      "metadata": {
        "application/vnd.databricks.v1+cell": {
          "cellMetadata": {
            "byteLimit": 2048000,
            "rowLimit": 10000
          },
          "inputWidgets": {},
          "nuid": "0c8b2f97-8f5f-4997-bff7-356b2881204e",
          "showTitle": false,
          "tableResultSettingsMap": {},
          "title": ""
        },
        "id": "qkyZcArWqBuz",
        "outputId": "6b1bb9eb-0038-467a-bb73-745b32f7c86d"
      },
      "outputs": [
        {
          "output_type": "stream",
          "name": "stdout",
          "text": [
            "+-----+-----+\n| name|score|\n+-----+-----+\n|Ankit|   85|\n|Divya|   92|\n|Rahul|   78|\n|Sneha|   65|\n|Aryan|   55|\n| Isha|   88|\n|Tanvi|   91|\n|Kunal|   72|\n|Megha|   60|\n|Rohan|   40|\n+-----+-----+\n\n"
          ]
        }
      ],
      "source": [
        "spark.sql(\"SELECT name, score FROM student_scores\").show()"
      ]
    },
    {
      "cell_type": "markdown",
      "metadata": {
        "application/vnd.databricks.v1+cell": {
          "cellMetadata": {},
          "inputWidgets": {},
          "nuid": "38c783f7-5b57-4991-9376-c7c1de4b0049",
          "showTitle": false,
          "tableResultSettingsMap": {},
          "title": ""
        },
        "id": "NwkSGvaSqBuz"
      },
      "source": [
        "2. Count number of students in each subject."
      ]
    },
    {
      "cell_type": "code",
      "execution_count": null,
      "metadata": {
        "application/vnd.databricks.v1+cell": {
          "cellMetadata": {
            "byteLimit": 2048000,
            "rowLimit": 10000
          },
          "inputWidgets": {},
          "nuid": "2c09bad1-2ca1-4e27-8fff-89000f552758",
          "showTitle": false,
          "tableResultSettingsMap": {},
          "title": ""
        },
        "id": "gIjzpec7qBu0",
        "outputId": "6cd7335d-55d2-4c5f-e01b-b0232b0c522d"
      },
      "outputs": [
        {
          "output_type": "stream",
          "name": "stdout",
          "text": [
            "+-------+-------------+\n|subject|student_count|\n+-------+-------------+\n|Science|            3|\n|   Math|            4|\n|English|            3|\n+-------+-------------+\n\n"
          ]
        }
      ],
      "source": [
        "spark.sql(\"\"\"SELECT subject, COUNT(*) AS student_count FROM student_scores GROUP BY subject\"\"\").show()"
      ]
    },
    {
      "cell_type": "markdown",
      "metadata": {
        "application/vnd.databricks.v1+cell": {
          "cellMetadata": {},
          "inputWidgets": {},
          "nuid": "8b57aa49-07e9-4623-b9c2-a410b9f0856f",
          "showTitle": false,
          "tableResultSettingsMap": {},
          "title": ""
        },
        "id": "TpUoljL_qBu0"
      },
      "source": [
        "3. Find average score per subject."
      ]
    },
    {
      "cell_type": "code",
      "execution_count": null,
      "metadata": {
        "application/vnd.databricks.v1+cell": {
          "cellMetadata": {
            "byteLimit": 2048000,
            "rowLimit": 10000
          },
          "inputWidgets": {},
          "nuid": "0b18fb0f-a36d-4e19-a651-0b9c7e445ef1",
          "showTitle": false,
          "tableResultSettingsMap": {},
          "title": ""
        },
        "id": "fkSdhvWnqBu0",
        "outputId": "69aa37ad-33da-4c0f-c070-27b8a0e26038"
      },
      "outputs": [
        {
          "output_type": "stream",
          "name": "stdout",
          "text": [
            "+-------+---------+\n|subject|avg_score|\n+-------+---------+\n|Science|     73.0|\n|   Math|    70.25|\n|English|    75.33|\n+-------+---------+\n\n"
          ]
        }
      ],
      "source": [
        "spark.sql(\"\"\"SELECT subject, ROUND(AVG(score), 2) AS avg_score FROM student_scores GROUP BY subject\"\"\").show()"
      ]
    },
    {
      "cell_type": "markdown",
      "metadata": {
        "application/vnd.databricks.v1+cell": {
          "cellMetadata": {},
          "inputWidgets": {},
          "nuid": "6cb0c620-32f8-4a50-bcb2-6d7a1cab76a0",
          "showTitle": false,
          "tableResultSettingsMap": {},
          "title": ""
        },
        "id": "IseFyu6hqBu0"
      },
      "source": [
        "4. List all students who scored more than 80."
      ]
    },
    {
      "cell_type": "code",
      "execution_count": null,
      "metadata": {
        "application/vnd.databricks.v1+cell": {
          "cellMetadata": {
            "byteLimit": 2048000,
            "rowLimit": 10000
          },
          "inputWidgets": {},
          "nuid": "1147a068-dcea-48fd-bcde-4becee7d6ab0",
          "showTitle": false,
          "tableResultSettingsMap": {},
          "title": ""
        },
        "id": "Pv7b8_HrqBu0",
        "outputId": "d2875099-3e92-4c73-9ce4-68edcc19ff92"
      },
      "outputs": [
        {
          "output_type": "stream",
          "name": "stdout",
          "text": [
            "+----------+-----+-------+-----+-----+\n|student_id| name|subject|score|grade|\n+----------+-----+-------+-----+-----+\n|         1|Ankit|   Math|   85|    A|\n|         2|Divya|Science|   92|    A|\n|         6| Isha|English|   88|    A|\n|         7|Tanvi|   Math|   91|    A|\n+----------+-----+-------+-----+-----+\n\n"
          ]
        }
      ],
      "source": [
        "spark.sql(\"SELECT * FROM student_scores WHERE score > 80\").show()"
      ]
    },
    {
      "cell_type": "markdown",
      "metadata": {
        "application/vnd.databricks.v1+cell": {
          "cellMetadata": {},
          "inputWidgets": {},
          "nuid": "b097e945-7c11-462d-afc0-89e4b1b63b1c",
          "showTitle": false,
          "tableResultSettingsMap": {},
          "title": ""
        },
        "id": "WlFQkAqXqBu0"
      },
      "source": [
        "#Advanced Queries\n",
        "\n",
        "5. Show student(s) with the highest score in each subject."
      ]
    },
    {
      "cell_type": "code",
      "execution_count": null,
      "metadata": {
        "application/vnd.databricks.v1+cell": {
          "cellMetadata": {
            "byteLimit": 2048000,
            "rowLimit": 10000
          },
          "inputWidgets": {},
          "nuid": "b5d0c24a-16f0-4224-8bc3-687bf9c52be1",
          "showTitle": false,
          "tableResultSettingsMap": {},
          "title": ""
        },
        "id": "VwDC22lrqBu0",
        "outputId": "8ad57681-c119-4b44-c55b-380f6ea1ba87"
      },
      "outputs": [
        {
          "output_type": "stream",
          "name": "stdout",
          "text": [
            "+-------+-----+-----+\n|subject| name|score|\n+-------+-----+-----+\n|English| Isha|   88|\n|   Math|Tanvi|   91|\n|Science|Divya|   92|\n+-------+-----+-----+\n\n"
          ]
        }
      ],
      "source": [
        "spark.sql(\"\"\"SELECT subject, name, score FROM (SELECT *, RANK() OVER (PARTITION BY subject ORDER BY score DESC) AS rnk FROM student_scores) WHERE rnk = 1\"\"\").show()"
      ]
    },
    {
      "cell_type": "markdown",
      "metadata": {
        "application/vnd.databricks.v1+cell": {
          "cellMetadata": {},
          "inputWidgets": {},
          "nuid": "5517adac-d20a-4bc1-948c-f534c91807ef",
          "showTitle": false,
          "tableResultSettingsMap": {},
          "title": ""
        },
        "id": "W29Gy_S4qBu0"
      },
      "source": [
        "6. Display grades with count of students in each."
      ]
    },
    {
      "cell_type": "code",
      "execution_count": null,
      "metadata": {
        "application/vnd.databricks.v1+cell": {
          "cellMetadata": {
            "byteLimit": 2048000,
            "rowLimit": 10000
          },
          "inputWidgets": {},
          "nuid": "789a122b-0b17-4fd6-bbf4-36156d4cbd98",
          "showTitle": false,
          "tableResultSettingsMap": {},
          "title": ""
        },
        "id": "6qsE2EMAqBu0",
        "outputId": "e9e41afc-26c4-4838-bb57-c11d60fad493"
      },
      "outputs": [
        {
          "output_type": "stream",
          "name": "stdout",
          "text": [
            "+-----+-------------+\n|grade|student_count|\n+-----+-------------+\n|    F|            1|\n|    B|            2|\n|    D|            1|\n|    C|            2|\n|    A|            4|\n+-----+-------------+\n\n"
          ]
        }
      ],
      "source": [
        "spark.sql(\"\"\"SELECT grade, COUNT(*) AS student_count FROM student_scores GROUP BY grade\"\"\").show()"
      ]
    },
    {
      "cell_type": "markdown",
      "metadata": {
        "application/vnd.databricks.v1+cell": {
          "cellMetadata": {},
          "inputWidgets": {},
          "nuid": "2cd4c565-eb7e-4add-9b03-4b34cf9231e5",
          "showTitle": false,
          "tableResultSettingsMap": {},
          "title": ""
        },
        "id": "pcYwCgnEqBu1"
      },
      "source": [
        "7. Show names of students who failed (grade F)."
      ]
    },
    {
      "cell_type": "code",
      "execution_count": null,
      "metadata": {
        "application/vnd.databricks.v1+cell": {
          "cellMetadata": {
            "byteLimit": 2048000,
            "rowLimit": 10000
          },
          "inputWidgets": {},
          "nuid": "f03a1d31-fbaf-4291-a674-a526108c79d3",
          "showTitle": false,
          "tableResultSettingsMap": {},
          "title": ""
        },
        "id": "P_zB--o7qBu1",
        "outputId": "f48f5e75-ba61-4ff5-97e1-0c54e9d3752c"
      },
      "outputs": [
        {
          "output_type": "stream",
          "name": "stdout",
          "text": [
            "+----------+-----+-------+-----+-----+\n|student_id| name|subject|score|grade|\n+----------+-----+-------+-----+-----+\n|        10|Rohan|   Math|   40|    F|\n+----------+-----+-------+-----+-----+\n\n"
          ]
        }
      ],
      "source": [
        "spark.sql(\"\"\"SELECT * FROM student_scores WHERE grade = 'F'\"\"\").show()"
      ]
    },
    {
      "cell_type": "markdown",
      "metadata": {
        "application/vnd.databricks.v1+cell": {
          "cellMetadata": {},
          "inputWidgets": {},
          "nuid": "de1b60ba-97aa-40e7-a51a-da4ce9205186",
          "showTitle": false,
          "tableResultSettingsMap": {},
          "title": ""
        },
        "id": "zZkOBqv6qBu1"
      },
      "source": [
        "8. List students with score between 60 and 90."
      ]
    },
    {
      "cell_type": "code",
      "execution_count": null,
      "metadata": {
        "application/vnd.databricks.v1+cell": {
          "cellMetadata": {
            "byteLimit": 2048000,
            "rowLimit": 10000
          },
          "inputWidgets": {},
          "nuid": "2a4d474c-29bc-44d6-a237-c9191658c4ff",
          "showTitle": false,
          "tableResultSettingsMap": {},
          "title": ""
        },
        "id": "9UN_IMsnqBu1",
        "outputId": "8e63ecf0-dabf-4eac-846f-b2344050b6f2"
      },
      "outputs": [
        {
          "output_type": "stream",
          "name": "stdout",
          "text": [
            "+----------+-----+-------+-----+-----+\n|student_id| name|subject|score|grade|\n+----------+-----+-------+-----+-----+\n|         1|Ankit|   Math|   85|    A|\n|         3|Rahul|English|   78|    B|\n|         4|Sneha|   Math|   65|    C|\n|         6| Isha|English|   88|    A|\n|         8|Kunal|Science|   72|    B|\n|         9|Megha|English|   60|    C|\n+----------+-----+-------+-----+-----+\n\n"
          ]
        }
      ],
      "source": [
        "spark.sql(\"\"\"SELECT * FROM student_scores where score BETWEEN 60 AND 90\"\"\").show()"
      ]
    },
    {
      "cell_type": "markdown",
      "metadata": {
        "application/vnd.databricks.v1+cell": {
          "cellMetadata": {},
          "inputWidgets": {},
          "nuid": "46868b17-9f3b-4eb0-af9a-faac5204fecf",
          "showTitle": false,
          "tableResultSettingsMap": {},
          "title": ""
        },
        "id": "BtX3P_EkqBu1"
      },
      "source": [
        "9. Rank students within each subject based on scores."
      ]
    },
    {
      "cell_type": "code",
      "execution_count": null,
      "metadata": {
        "application/vnd.databricks.v1+cell": {
          "cellMetadata": {
            "byteLimit": 2048000,
            "rowLimit": 10000
          },
          "inputWidgets": {},
          "nuid": "1b3af10e-47c1-4c4b-8b1f-17f64fdafe8d",
          "showTitle": false,
          "tableResultSettingsMap": {},
          "title": ""
        },
        "id": "dEVokuc_qBu1",
        "outputId": "fbe04938-8947-4b45-e608-31be5087bd65"
      },
      "outputs": [
        {
          "output_type": "stream",
          "name": "stdout",
          "text": [
            "+-------+-----+-----+---+\n|subject| name|score|rnk|\n+-------+-----+-----+---+\n|English| Isha|   88|  1|\n|English|Rahul|   78|  2|\n|English|Megha|   60|  3|\n|   Math|Tanvi|   91|  1|\n|   Math|Ankit|   85|  2|\n|   Math|Sneha|   65|  3|\n|   Math|Rohan|   40|  4|\n|Science|Divya|   92|  1|\n|Science|Kunal|   72|  2|\n|Science|Aryan|   55|  3|\n+-------+-----+-----+---+\n\n"
          ]
        }
      ],
      "source": [
        "spark.sql(\"\"\"SELECT subject, name, score, RANK() OVER (PARTITION BY subject ORDER BY score DESC) AS rnk FROM student_scores\"\"\").show()"
      ]
    },
    {
      "cell_type": "markdown",
      "metadata": {
        "application/vnd.databricks.v1+cell": {
          "cellMetadata": {},
          "inputWidgets": {},
          "nuid": "155b0b52-6f96-41ee-8653-dcbbdb0336c1",
          "showTitle": false,
          "tableResultSettingsMap": {},
          "title": ""
        },
        "id": "JsYh4y72qBu1"
      },
      "source": [
        "#Update & Delete Tasks\n",
        "\n",
        "10. Increase score of all English subject students by 5."
      ]
    },
    {
      "cell_type": "code",
      "execution_count": null,
      "metadata": {
        "application/vnd.databricks.v1+cell": {
          "cellMetadata": {
            "byteLimit": 2048000,
            "rowLimit": 10000
          },
          "inputWidgets": {},
          "nuid": "51a212bd-c3d4-4e55-8fc9-880868e4d0ef",
          "showTitle": false,
          "tableResultSettingsMap": {},
          "title": ""
        },
        "id": "_c5PcpR6qBu1",
        "outputId": "74a8fc4b-ee7f-4e29-9f93-c66974c54184"
      },
      "outputs": [
        {
          "output_type": "stream",
          "name": "stdout",
          "text": [
            "+----------+-----+-------+-----+-----+\n|student_id| name|subject|score|grade|\n+----------+-----+-------+-----+-----+\n|         1|Ankit|   Math|   85|    A|\n|         2|Divya|Science|   92|    A|\n|         4|Sneha|   Math|   65|    C|\n|         5|Aryan|Science|   55|    D|\n|         7|Tanvi|   Math|   91|    A|\n|         8|Kunal|Science|   72|    B|\n|        10|Rohan|   Math|   40|    F|\n|         3|Rahul|English|   88|    B|\n|         6| Isha|English|   98|    A|\n|         9|Megha|English|   70|    C|\n+----------+-----+-------+-----+-----+\n\n"
          ]
        }
      ],
      "source": [
        "spark.sql(\"\"\"UPDATE student_scores SET score = score+5 WHERE subject = 'English'\"\"\")\n",
        "spark.sql(\"\"\"SELECT * FROM student_scores\"\"\").show()"
      ]
    },
    {
      "cell_type": "markdown",
      "metadata": {
        "application/vnd.databricks.v1+cell": {
          "cellMetadata": {},
          "inputWidgets": {},
          "nuid": "1066eb7b-8800-4cb5-a6ca-62876a416be5",
          "showTitle": false,
          "tableResultSettingsMap": {},
          "title": ""
        },
        "id": "qPQQxAZpqBu1"
      },
      "source": [
        "11. Delete all records where score is less than 50."
      ]
    },
    {
      "cell_type": "code",
      "execution_count": null,
      "metadata": {
        "application/vnd.databricks.v1+cell": {
          "cellMetadata": {
            "byteLimit": 2048000,
            "rowLimit": 10000
          },
          "inputWidgets": {},
          "nuid": "4eff11ac-61b2-4c90-acc3-c9d514663953",
          "showTitle": false,
          "tableResultSettingsMap": {},
          "title": ""
        },
        "id": "KJ-WupdpqBu1",
        "outputId": "66ce49a4-dfe9-4145-f625-aa8954fb22d2"
      },
      "outputs": [
        {
          "output_type": "execute_result",
          "data": {
            "text/plain": [
              "DataFrame[num_affected_rows: bigint]"
            ]
          },
          "execution_count": 36,
          "metadata": {}
        }
      ],
      "source": [
        "spark.sql(\"\"\"DELETE FROM student_scores WHERE score < 50\"\"\")"
      ]
    },
    {
      "cell_type": "code",
      "execution_count": null,
      "metadata": {
        "application/vnd.databricks.v1+cell": {
          "cellMetadata": {
            "byteLimit": 2048000,
            "rowLimit": 10000
          },
          "inputWidgets": {},
          "nuid": "a4b8c410-6255-4fd2-b89d-d3fe2ef3cee1",
          "showTitle": false,
          "tableResultSettingsMap": {},
          "title": ""
        },
        "id": "ht6nuw1LqBu1",
        "outputId": "84e0bb9b-9a7d-4a2a-8fa0-8b8d5850ce64"
      },
      "outputs": [
        {
          "output_type": "stream",
          "name": "stdout",
          "text": [
            "+----------+-----+-------+-----+-----+\n|student_id| name|subject|score|grade|\n+----------+-----+-------+-----+-----+\n|         3|Rahul|English|   88|    B|\n|         6| Isha|English|   98|    A|\n|         9|Megha|English|   70|    C|\n|         1|Ankit|   Math|   85|    A|\n|         2|Divya|Science|   92|    A|\n|         4|Sneha|   Math|   65|    C|\n|         5|Aryan|Science|   55|    D|\n|         7|Tanvi|   Math|   91|    A|\n|         8|Kunal|Science|   72|    B|\n+----------+-----+-------+-----+-----+\n\n"
          ]
        }
      ],
      "source": [
        "spark.sql(\"\"\"SELECT * FROM student_scores\"\"\").show()"
      ]
    },
    {
      "cell_type": "markdown",
      "metadata": {
        "application/vnd.databricks.v1+cell": {
          "cellMetadata": {},
          "inputWidgets": {},
          "nuid": "660c2138-023d-42ff-9176-00215d5a5b04",
          "showTitle": false,
          "tableResultSettingsMap": {},
          "title": ""
        },
        "id": "p5NLFtYeqBu1"
      },
      "source": [
        "12. Add a new column pass_status (PASS if score >= 50 else FAIL)."
      ]
    },
    {
      "cell_type": "code",
      "execution_count": null,
      "metadata": {
        "application/vnd.databricks.v1+cell": {
          "cellMetadata": {
            "byteLimit": 2048000,
            "rowLimit": 10000
          },
          "inputWidgets": {},
          "nuid": "f569d6b6-fe10-4853-a68b-d06d338ffb31",
          "showTitle": false,
          "tableResultSettingsMap": {},
          "title": ""
        },
        "id": "D9QfgJKEqBu2",
        "outputId": "efdec5cd-c3d2-4e55-e990-ad90b1ca00ec"
      },
      "outputs": [
        {
          "output_type": "stream",
          "name": "stdout",
          "text": [
            "+----------+-----+-------+-----+-----+-----------+\n|student_id| name|subject|score|grade|pass_status|\n+----------+-----+-------+-----+-----+-----------+\n|         3|Rahul|English|   88|    B|       PASS|\n|         6| Isha|English|   98|    A|       PASS|\n|         9|Megha|English|   70|    C|       PASS|\n|         1|Ankit|   Math|   85|    A|       PASS|\n|         2|Divya|Science|   92|    A|       PASS|\n|         4|Sneha|   Math|   65|    C|       PASS|\n|         5|Aryan|Science|   55|    D|       PASS|\n|         7|Tanvi|   Math|   91|    A|       PASS|\n|         8|Kunal|Science|   72|    B|       PASS|\n+----------+-----+-------+-----+-----+-----------+\n\n"
          ]
        }
      ],
      "source": [
        "spark.sql(\"\"\"SELECT *, CASE WHEN score >= 50 THEN 'PASS' ELSE 'FAIL' END AS pass_status FROM student_scores;\"\"\").show()"
      ]
    },
    {
      "cell_type": "markdown",
      "metadata": {
        "application/vnd.databricks.v1+cell": {
          "cellMetadata": {},
          "inputWidgets": {},
          "nuid": "46b0d524-23f7-452d-afd2-0aecb6b2937c",
          "showTitle": false,
          "tableResultSettingsMap": {},
          "title": ""
        },
        "id": "91nEwnk_qBu2"
      },
      "source": [
        "#Data Transformation & Views\n",
        "\n",
        "13. Create a temporary view and run SQL to get average scores."
      ]
    },
    {
      "cell_type": "code",
      "execution_count": null,
      "metadata": {
        "application/vnd.databricks.v1+cell": {
          "cellMetadata": {
            "byteLimit": 2048000,
            "rowLimit": 10000
          },
          "inputWidgets": {},
          "nuid": "89de48a6-9d50-452b-8e81-bc7a4ed14664",
          "showTitle": false,
          "tableResultSettingsMap": {},
          "title": ""
        },
        "id": "V2lqivw_qBu2",
        "outputId": "19be243d-68ff-4ff3-9cb1-79aefa2a2798"
      },
      "outputs": [
        {
          "output_type": "stream",
          "name": "stdout",
          "text": [
            "+-------+---------+\n|subject|avg_score|\n+-------+---------+\n|Science|     73.0|\n|   Math|    80.33|\n|English|    85.33|\n+-------+---------+\n\n"
          ]
        }
      ],
      "source": [
        "spark.sql(\"\"\"SELECT subject, ROUND(AVG(score), 2) AS avg_score FROM student_scores GROUP BY subject\"\"\").show()"
      ]
    },
    {
      "cell_type": "markdown",
      "metadata": {
        "application/vnd.databricks.v1+cell": {
          "cellMetadata": {},
          "inputWidgets": {},
          "nuid": "95528270-3283-4596-9f9c-9ab0c2b119ad",
          "showTitle": false,
          "tableResultSettingsMap": {},
          "title": ""
        },
        "id": "_nZyRISNqBu2"
      },
      "source": [
        "14. Convert updated DataFrame into a new Delta table called student_scores_v2 ."
      ]
    },
    {
      "cell_type": "code",
      "execution_count": null,
      "metadata": {
        "application/vnd.databricks.v1+cell": {
          "cellMetadata": {
            "byteLimit": 2048000,
            "rowLimit": 10000
          },
          "inputWidgets": {},
          "nuid": "11fc89ba-8f8b-4156-8d18-17cdeee0af8e",
          "showTitle": false,
          "tableResultSettingsMap": {},
          "title": ""
        },
        "id": "VZvhksQiqBu5",
        "outputId": "e6c9ca34-ae4c-4e56-f048-a4b548b5f44b"
      },
      "outputs": [
        {
          "output_type": "execute_result",
          "data": {
            "text/plain": [
              "DataFrame[num_affected_rows: bigint, num_inserted_rows: bigint]"
            ]
          },
          "execution_count": 40,
          "metadata": {}
        }
      ],
      "source": [
        "spark.sql(\"\"\"CREATE OR REPLACE TABLE student_scores_v2 USING DELTA AS SELECT * FROM student_scores\"\"\")"
      ]
    },
    {
      "cell_type": "markdown",
      "metadata": {
        "application/vnd.databricks.v1+cell": {
          "cellMetadata": {},
          "inputWidgets": {},
          "nuid": "3aca3599-9954-47f9-9857-49ac197c843a",
          "showTitle": false,
          "tableResultSettingsMap": {},
          "title": ""
        },
        "id": "U1yZFsCJqBu5"
      },
      "source": [
        "15. Write the final data to Parquet and JSON formats."
      ]
    },
    {
      "cell_type": "code",
      "execution_count": null,
      "metadata": {
        "application/vnd.databricks.v1+cell": {
          "cellMetadata": {
            "byteLimit": 2048000,
            "rowLimit": 10000
          },
          "inputWidgets": {},
          "nuid": "856ba3de-06a3-4fa8-8466-43232bab3fca",
          "showTitle": false,
          "tableResultSettingsMap": {},
          "title": ""
        },
        "id": "6s-XSc5aqBu6"
      },
      "outputs": [],
      "source": [
        "df_final = spark.table(\"student_scores\")\n",
        "df_final.write.mode(\"overwrite\").parquet(\"/tmp/parquet/student_scores\")\n",
        "df_final.write.mode(\"overwrite\").json(\"/tmp/json/student_scores\")"
      ]
    }
  ],
  "metadata": {
    "application/vnd.databricks.v1+notebook": {
      "computePreferences": null,
      "dashboards": [],
      "environmentMetadata": {
        "base_environment": "",
        "environment_version": "2"
      },
      "inputWidgetPreferences": null,
      "language": "python",
      "notebookMetadata": {
        "pythonIndentUnit": 4
      },
      "notebookName": "Delta Exercise- 1",
      "widgets": {}
    },
    "language_info": {
      "name": "python"
    },
    "colab": {
      "provenance": []
    }
  },
  "nbformat": 4,
  "nbformat_minor": 0
}