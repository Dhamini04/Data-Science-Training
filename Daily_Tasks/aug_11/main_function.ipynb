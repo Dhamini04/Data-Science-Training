{
  "nbformat": 4,
  "nbformat_minor": 0,
  "metadata": {
    "colab": {
      "provenance": []
    },
    "kernelspec": {
      "name": "python3",
      "display_name": "Python 3"
    },
    "language_info": {
      "name": "python"
    }
  },
  "cells": [
    {
      "cell_type": "code",
      "execution_count": 3,
      "metadata": {
        "colab": {
          "base_uri": "https://localhost:8080/"
        },
        "id": "5Rr5dtT4JwxS",
        "outputId": "167f6056-0c4c-4ea4-c77d-e330fb426e36"
      },
      "outputs": [
        {
          "output_type": "stream",
          "name": "stdout",
          "text": [
            "Drive already mounted at /content/drive; to attempt to forcibly remount, call drive.mount(\"/content/drive\", force_remount=True).\n",
            "Enter shape (rectangle/circle): circle\n",
            "Enter radius: 43\n",
            "Area of circle = 5808.80\n",
            "Circumference of circle = 270.18\n"
          ]
        }
      ],
      "source": [
        "from google.colab import drive\n",
        "drive.mount('/content/drive')\n",
        "\n",
        "import sys\n",
        "sys.path.append('/content/drive/MyDrive/hexaware_training_dataengineering')\n",
        "\n",
        "from geometry_functions import rectangle_area, rectangle_perimeter, circle_area, circle_circumference\n",
        "\n",
        "shape = input(\"Enter shape (rectangle/circle): \").strip().lower()\n",
        "\n",
        "if shape == \"rectangle\":\n",
        "    length = float(input(\"Enter length: \"))\n",
        "    width = float(input(\"Enter width: \"))\n",
        "    print(f\"Area of rectangle = {rectangle_area(length, width):.2f}\")\n",
        "    print(f\"Perimeter of rectangle = {rectangle_perimeter(length, width):.2f}\")\n",
        "\n",
        "elif shape == \"circle\":\n",
        "    radius = float(input(\"Enter radius: \"))\n",
        "    print(f\"Area of circle = {circle_area(radius):.2f}\")\n",
        "    print(f\"Circumference of circle = {circle_circumference(radius):.2f}\")\n",
        "\n",
        "else:\n",
        "    print(\"Invalid shape entered.\")"
      ]
    }
  ]
}