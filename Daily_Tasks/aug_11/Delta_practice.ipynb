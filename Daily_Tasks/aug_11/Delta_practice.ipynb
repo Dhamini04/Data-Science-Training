{
  "nbformat": 4,
  "nbformat_minor": 0,
  "metadata": {
    "colab": {
      "provenance": []
    },
    "kernelspec": {
      "name": "python3",
      "display_name": "Python 3"
    },
    "language_info": {
      "name": "python"
    }
  },
  "cells": [
    {
      "cell_type": "markdown",
      "source": [
        "Delta Live Tables\n"
      ],
      "metadata": {
        "id": "Lf5vpt81bVys"
      }
    },
    {
      "cell_type": "code",
      "execution_count": 31,
      "metadata": {
        "colab": {
          "base_uri": "https://localhost:8080/"
        },
        "id": "0U8NBrh0VIYI",
        "outputId": "6ed78e01-0d08-4c7a-ba91-057dac5e863d"
      },
      "outputs": [
        {
          "output_type": "stream",
          "name": "stdout",
          "text": [
            "We will store data in:\n",
            "Landing Orders folder:    dbfs:/FileStore/tables/dlt/landing/orders\n",
            "Landing Customers folder: dbfs:/FileStore/tables/dlt/landing/customers\n",
            "Silver Delta folder:      dbfs:/tmp/delta/sil_orders\n",
            "SQL Table name:           sil_orders_tbl\n"
          ]
        }
      ],
      "source": [
        " #STEP 0 — Setup\n",
        "# These variables store the paths for each stage of the pipeline\n",
        "\n",
        "# Landing folders: raw files exactly as they arrive\n",
        "LANDING_ORDERS    = \"dbfs:/FileStore/tables/dlt/landing/orders\"\n",
        "LANDING_CUSTOMERS = \"dbfs:/FileStore/tables/dlt/landing/customers\"\n",
        "\n",
        "# Silver folder: cleaned data in Delta format\n",
        "DELTA_SILVER_PATH = \"dbfs:/tmp/delta/sil_orders\"\n",
        "\n",
        "# SQL table name pointing to the silver Delta folder\n",
        "DELTA_TABLE_NAME  = \"sil_orders_tbl\"\n",
        "\n",
        "print(\"We will store data in:\")\n",
        "print(f\"Landing Orders folder:    {LANDING_ORDERS}\")\n",
        "print(f\"Landing Customers folder: {LANDING_CUSTOMERS}\")\n",
        "print(f\"Silver Delta folder:      {DELTA_SILVER_PATH}\")\n",
        "print(f\"SQL Table name:           {DELTA_TABLE_NAME}\")"
      ]
    },
    {
      "cell_type": "code",
      "source": [
        "# Install Java\n",
        "!apt-get install openjdk-11-jdk-headless -qq > /dev/null\n",
        "\n",
        "!wget -q https://archive.apache.org/dist/spark/spark-3.4.1/spark-3.4.1-bin-hadoop3.tgz\n",
        "!tar xf spark-3.4.1-bin-hadoop3.tgz\n",
        "\n",
        "# Install findspark to locate Spark easily\n",
        "!pip install -q findspark"
      ],
      "metadata": {
        "id": "bRCRDk1Qc6CO"
      },
      "execution_count": 1,
      "outputs": []
    },
    {
      "cell_type": "code",
      "source": [
        "import os\n",
        "os.environ[\"JAVA_HOME\"] = \"/usr/lib/jvm/java-11-openjdk-amd64\"\n",
        "os.environ[\"SPARK_HOME\"] = \"/content/spark-3.4.1-bin-hadoop3\"\n",
        "\n",
        "import findspark\n",
        "findspark.init()\n",
        "\n",
        "from pyspark.sql import SparkSession\n",
        "\n",
        "# Download Delta Lake JAR\n",
        "!wget -q https://repo1.maven.org/maven2/io/delta/delta-core_2.12/2.4.0/delta-core_2.12-2.4.0.jar\n",
        "\n",
        "#spark = SparkSession.builder \\\n",
        "#    .appName(\"DeltaExample\") \\\n",
        "#    .config(\"spark.jars\", \"/content/delta-core_2.12-2.4.0.jar\") \\\n",
        "#    .config(\"spark.sql.extensions\", \"io.delta.sql.DeltaSparkSessionExtension\") \\\n",
        "#    .config(\"spark.sql.catalog.spark_catalog\", \"org.apache.spark.sql.delta.catalog.DeltaCatalog\") \\\n",
        "#    .getOrCreate()"
      ],
      "metadata": {
        "id": "dTE9zKtZeJpu"
      },
      "execution_count": 2,
      "outputs": []
    },
    {
      "cell_type": "code",
      "source": [
        "# Install PySpark\n",
        "!pip install --upgrade pyspark==3.5.1 delta-spark==3.1.0 findspark > /dev/null\n",
        "\n",
        "import findspark\n",
        "findspark.init()\n",
        "\n",
        "from pyspark.sql import SparkSession\n",
        "\n",
        "# Create Spark Session (local master so it runs without a cluster)\n",
        "spark = SparkSession.builder \\\n",
        "    .appName(\"StructuredStreamingRate\") \\\n",
        "    .master(\"local[*]\") \\\n",
        "    .config(\"spark.sql.shuffle.partitions\", \"1\") \\\n",
        "    .getOrCreate()\n",
        "\n",
        "print(\"Spark with Delta ready!\")\n"
      ],
      "metadata": {
        "colab": {
          "base_uri": "https://localhost:8080/"
        },
        "id": "n9WbWgBWvHGv",
        "outputId": "58e95c6b-1c3e-4ffa-81cc-fd55d295fb22"
      },
      "execution_count": 3,
      "outputs": [
        {
          "output_type": "stream",
          "name": "stdout",
          "text": [
            "Spark with Delta ready!\n"
          ]
        }
      ]
    },
    {
      "cell_type": "code",
      "source": [
        "from pyspark.sql import functions as F\n",
        "from pyspark.sql import types as T\n",
        "\n",
        "LANDING_ORDERS = \"/content/landing/orders\"\n",
        "LANDING_CUSTOMERS = \"/content/landing/customers\"\n",
        "\n",
        "print(\"STEP 1: Seeding inline data to landing (JSON) ...\")\n",
        "\n",
        "orders_rows = [\n",
        "    (1, \"C001\", \"2025-08-08 09:00:00\", 12000, \"placed\"),\n",
        "    (2, \"C002\", \"2025-08-08 09:05:00\",  4500, \"placed\"),\n",
        "    (3, \"C001\", \"2025-08-08 09:10:00\", 22000, \"cancelled\"),\n",
        "    (4, \"C003\", \"2025-08-08 09:15:00\",   800, \"placed\")\n",
        "]\n",
        "customers_rows = [\n",
        "    (\"C001\", \"Ananya\", \"Bengaluru\"),\n",
        "    (\"C002\", \"Rahul\",  \"Hyderabad\"),\n",
        "    (\"C003\", \"Meera\",  \"Pune\")\n",
        "]\n",
        "\n",
        "orders_schema = T.StructType([\n",
        "    T.StructField(\"order_id\",    T.IntegerType()),\n",
        "    T.StructField(\"customer_id\", T.StringType()),\n",
        "    T.StructField(\"order_ts\",    T.StringType()),\n",
        "    T.StructField(\"amount\",      T.IntegerType()),\n",
        "    T.StructField(\"status\",      T.StringType())\n",
        "])\n",
        "cust_schema = T.StructType([\n",
        "    T.StructField(\"customer_id\", T.StringType()),\n",
        "    T.StructField(\"name\",        T.StringType()),\n",
        "    T.StructField(\"city\",        T.StringType())\n",
        "])\n",
        "\n",
        "orders_df = (spark.createDataFrame(orders_rows, orders_schema)\n",
        "             .withColumn(\"order_ts\", F.to_timestamp(\"order_ts\")))\n",
        "customers_df = spark.createDataFrame(customers_rows, cust_schema)\n",
        "\n",
        "orders_df.write.mode(\"overwrite\").json(LANDING_ORDERS)\n",
        "customers_df.write.mode(\"overwrite\").json(LANDING_CUSTOMERS)\n",
        "\n",
        "print(\"✅ Seeded landing JSON:\")\n",
        "print(f\"  {LANDING_ORDERS}\")\n",
        "print(f\"  {LANDING_CUSTOMERS}\")\n"
      ],
      "metadata": {
        "colab": {
          "base_uri": "https://localhost:8080/"
        },
        "id": "mSCXP3OFbT4O",
        "outputId": "41ef8a1f-09ef-40e5-a2db-7bd2a3349b56"
      },
      "execution_count": 4,
      "outputs": [
        {
          "output_type": "stream",
          "name": "stdout",
          "text": [
            "STEP 1: Seeding inline data to landing (JSON) ...\n",
            "✅ Seeded landing JSON:\n",
            "  /content/landing/orders\n",
            "  /content/landing/customers\n"
          ]
        }
      ]
    },
    {
      "cell_type": "code",
      "source": [
        "print(\"STEP 2: BRONZE - Reading raw landing data (no transformations)\")\n",
        "\n",
        "bron_orders = spark.read.json(LANDING_ORDERS)\n",
        "bron_customers = spark.read.json(LANDING_CUSTOMERS)\n",
        "\n",
        "print(\"Bronze Orders - schema & sample\")\n",
        "bron_orders.printSchema()\n",
        "bron_orders.show(truncate=False)\n",
        "\n",
        "print(\"Bronze Customers - schema & sample\")\n",
        "bron_customers.printSchema()\n",
        "bron_customers.show(truncate=False)"
      ],
      "metadata": {
        "colab": {
          "base_uri": "https://localhost:8080/"
        },
        "id": "cKk16Zb7cRch",
        "outputId": "d58eec76-dd77-414f-f547-bd65ab6495db"
      },
      "execution_count": 5,
      "outputs": [
        {
          "output_type": "stream",
          "name": "stdout",
          "text": [
            "STEP 2: BRONZE - Reading raw landing data (no transformations)\n",
            "Bronze Orders - schema & sample\n",
            "root\n",
            " |-- amount: long (nullable = true)\n",
            " |-- customer_id: string (nullable = true)\n",
            " |-- order_id: long (nullable = true)\n",
            " |-- order_ts: string (nullable = true)\n",
            " |-- status: string (nullable = true)\n",
            "\n",
            "+------+-----------+--------+------------------------+---------+\n",
            "|amount|customer_id|order_id|order_ts                |status   |\n",
            "+------+-----------+--------+------------------------+---------+\n",
            "|22000 |C001       |3       |2025-08-08T09:10:00.000Z|cancelled|\n",
            "|800   |C003       |4       |2025-08-08T09:15:00.000Z|placed   |\n",
            "|12000 |C001       |1       |2025-08-08T09:00:00.000Z|placed   |\n",
            "|4500  |C002       |2       |2025-08-08T09:05:00.000Z|placed   |\n",
            "+------+-----------+--------+------------------------+---------+\n",
            "\n",
            "Bronze Customers - schema & sample\n",
            "root\n",
            " |-- city: string (nullable = true)\n",
            " |-- customer_id: string (nullable = true)\n",
            " |-- name: string (nullable = true)\n",
            "\n",
            "+---------+-----------+------+\n",
            "|city     |customer_id|name  |\n",
            "+---------+-----------+------+\n",
            "|Hyderabad|C002       |Rahul |\n",
            "|Pune     |C003       |Meera |\n",
            "|Bengaluru|C001       |Ananya|\n",
            "+---------+-----------+------+\n",
            "\n"
          ]
        }
      ]
    },
    {
      "cell_type": "code",
      "source": [],
      "metadata": {
        "id": "PI7s47Jq23P7"
      },
      "execution_count": null,
      "outputs": []
    }
  ]
}
