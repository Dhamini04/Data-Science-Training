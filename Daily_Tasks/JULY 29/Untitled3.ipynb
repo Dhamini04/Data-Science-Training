{
  "nbformat": 4,
  "nbformat_minor": 0,
  "metadata": {
    "colab": {
      "provenance": []
    },
    "kernelspec": {
      "name": "python3",
      "display_name": "Python 3"
    },
    "language_info": {
      "name": "python"
    }
  },
  "cells": [
    {
      "cell_type": "code",
      "execution_count": 1,
      "metadata": {
        "colab": {
          "base_uri": "https://localhost:8080/"
        },
        "id": "dlB0_Bcs9JZ8",
        "outputId": "636086b4-98a4-426a-e842-28eaccd42620"
      },
      "outputs": [
        {
          "output_type": "stream",
          "name": "stdout",
          "text": [
            "hello Dhams\n"
          ]
        }
      ],
      "source": [
        "name =\"Dhams\"\n",
        "print(\"hello\" , name)\n"
      ]
    },
    {
      "cell_type": "code",
      "source": [
        "length = 10\n",
        "width = 5\n",
        "area = length * width\n",
        "print(\"area of rectangle is\" , area)\n"
      ],
      "metadata": {
        "colab": {
          "base_uri": "https://localhost:8080/"
        },
        "id": "pmkx5zO9-Rn5",
        "outputId": "3e9ad880-bf4f-4a57-aaf9-0f07c799580f"
      },
      "execution_count": 2,
      "outputs": [
        {
          "output_type": "stream",
          "name": "stdout",
          "text": [
            "area of rectangle is 50\n"
          ]
        }
      ]
    },
    {
      "cell_type": "code",
      "source": [
        "import pandas as pd\n",
        "data = {\n",
        "  'name':['Raj', 'priya', 'Amit'],\n",
        "  'Age':[25,30,22],\n",
        "  'city':['Delhi', 'mumbai','banglore']\n",
        "}\n",
        "df = pd.DataFrame(data)\n",
        "print(df)"
      ],
      "metadata": {
        "colab": {
          "base_uri": "https://localhost:8080/"
        },
        "id": "yTw6EAVzDD4x",
        "outputId": "74fd6de4-9ff0-4b62-e50a-e89648422a7d"
      },
      "execution_count": 4,
      "outputs": [
        {
          "output_type": "stream",
          "name": "stdout",
          "text": [
            "    name  Age      city\n",
            "0    Raj   25     Delhi\n",
            "1  priya   30    mumbai\n",
            "2   Amit   22  banglore\n"
          ]
        }
      ]
    },
    {
      "cell_type": "code",
      "source": [
        "print(df['name'])"
      ],
      "metadata": {
        "colab": {
          "base_uri": "https://localhost:8080/"
        },
        "id": "NrljLkPMjfaf",
        "outputId": "fbb73f51-0368-4f75-da76-0caaa38c1901"
      },
      "execution_count": 10,
      "outputs": [
        {
          "output_type": "stream",
          "name": "stdout",
          "text": [
            "0      Raj\n",
            "1    priya\n",
            "2     Amit\n",
            "Name: name, dtype: object\n"
          ]
        }
      ]
    },
    {
      "cell_type": "code",
      "source": [
        "print(df.shape) # (rows, columns)"
      ],
      "metadata": {
        "colab": {
          "base_uri": "https://localhost:8080/"
        },
        "id": "SNODhHKonWhw",
        "outputId": "47e8787e-f177-43ca-a202-50d340deba13"
      },
      "execution_count": 11,
      "outputs": [
        {
          "output_type": "stream",
          "name": "stdout",
          "text": [
            "(3, 3)\n"
          ]
        }
      ]
    },
    {
      "cell_type": "code",
      "source": [
        "print(df.columns)# Column names"
      ],
      "metadata": {
        "colab": {
          "base_uri": "https://localhost:8080/"
        },
        "id": "IJhAjzCfnfuw",
        "outputId": "ecc6e323-c93b-4f92-9453-b21c85b9fedf"
      },
      "execution_count": 12,
      "outputs": [
        {
          "output_type": "stream",
          "name": "stdout",
          "text": [
            "Index(['name', 'Age', 'city'], dtype='object')\n"
          ]
        }
      ]
    },
    {
      "cell_type": "code",
      "source": [
        "print(df.info()) #Data types and memory usuage"
      ],
      "metadata": {
        "colab": {
          "base_uri": "https://localhost:8080/"
        },
        "id": "O5TRhCEknkRg",
        "outputId": "a9bf1c37-ada3-449e-e223-d93f5433760e"
      },
      "execution_count": 13,
      "outputs": [
        {
          "output_type": "stream",
          "name": "stdout",
          "text": [
            "<class 'pandas.core.frame.DataFrame'>\n",
            "RangeIndex: 3 entries, 0 to 2\n",
            "Data columns (total 3 columns):\n",
            " #   Column  Non-Null Count  Dtype \n",
            "---  ------  --------------  ----- \n",
            " 0   name    3 non-null      object\n",
            " 1   Age     3 non-null      int64 \n",
            " 2   city    3 non-null      object\n",
            "dtypes: int64(1), object(2)\n",
            "memory usage: 204.0+ bytes\n",
            "None\n"
          ]
        }
      ]
    },
    {
      "cell_type": "code",
      "source": [
        "print(df.describe()) # Stats (only numeric columns)"
      ],
      "metadata": {
        "colab": {
          "base_uri": "https://localhost:8080/"
        },
        "id": "1YBMj3WanocA",
        "outputId": "291ae3ce-5013-4225-e890-8cf675dd838b"
      },
      "execution_count": 14,
      "outputs": [
        {
          "output_type": "stream",
          "name": "stdout",
          "text": [
            "             Age\n",
            "count   3.000000\n",
            "mean   25.666667\n",
            "std     4.041452\n",
            "min    22.000000\n",
            "25%    23.500000\n",
            "50%    25.000000\n",
            "75%    27.500000\n",
            "max    30.000000\n"
          ]
        }
      ]
    },
    {
      "cell_type": "code",
      "source": [
        "# Create a CSV in Colab using file I/O\n",
        "csv_data = \"\"\"Name,Age,Department,Salary\n",
        "Aarav,28,Sales,50000\n",
        "Sneha,32,Engineering,80000\n",
        "Kabir,25,HR,45000\n",
        "Anaya,29,Marketing,60000\n",
        "Rohan,35,Engineering,85000\n",
        "\"\"\"\n",
        ""
      ],
      "metadata": {
        "id": "o3SlUmM9nymL"
      },
      "execution_count": 34,
      "outputs": []
    },
    {
      "cell_type": "code",
      "source": [
        "engg_employees = df_csv[df_csv['Department'] == 'Engineering']\n",
        "print(engg_employees)"
      ],
      "metadata": {
        "colab": {
          "base_uri": "https://localhost:8080/"
        },
        "id": "DreSFjRFn-yl",
        "outputId": "51a33fc2-b21f-4818-efc6-16c62caf790c"
      },
      "execution_count": 35,
      "outputs": [
        {
          "output_type": "stream",
          "name": "stdout",
          "text": [
            "    Name  Age   Department  Salary\n",
            "1  Sneha   32  Engineering   80000\n",
            "4  Rohan   35  Engineering   85000\n"
          ]
        }
      ]
    },
    {
      "cell_type": "code",
      "source": [
        "import io\n",
        "\n",
        "# Create a new DataFrame from the csv_data\n",
        "df_csv = pd.read_csv(io.StringIO(csv_data))\n",
        "\n",
        "# Find the highest paid employee from the new DataFrame\n",
        "highest_paid = df_csv[df_csv['Salary'] == df_csv['Salary'].max()]\n",
        "print('Highest paid Employee:\\n',highest_paid)"
      ],
      "metadata": {
        "colab": {
          "base_uri": "https://localhost:8080/"
        },
        "id": "ynkzT2-XoaId",
        "outputId": "63bb2957-112e-4f31-ff05-ea9fe490465e"
      },
      "execution_count": 31,
      "outputs": [
        {
          "output_type": "stream",
          "name": "stdout",
          "text": [
            "Highest paid Employee:\n",
            "     Name  Age   Department  Salary\n",
            "4  Rohan   35  Engineering   85000\n"
          ]
        }
      ]
    },
    {
      "cell_type": "code",
      "source": [
        "avg_salary_by_dept = df_csv.groupby('Department')['Salary'].mean()\n",
        "print('Average salary by department:\\n', avg_salary_by_dept)"
      ],
      "metadata": {
        "colab": {
          "base_uri": "https://localhost:8080/"
        },
        "id": "27vybo50o1n_",
        "outputId": "58549482-3b5b-494c-883d-69185058e31b"
      },
      "execution_count": 30,
      "outputs": [
        {
          "output_type": "stream",
          "name": "stdout",
          "text": [
            "Average salary by department:\n",
            " Department\n",
            "Engineering    82500.0\n",
            "HR             45000.0\n",
            "Marketing      60000.0\n",
            "Sales          50000.0\n",
            "Name: Salary, dtype: float64\n"
          ]
        }
      ]
    },
    {
      "cell_type": "code",
      "source": [
        "sorted_by_age = df.sort_values(by='Age')\n",
        "print(\"Sorted by Age:\\n\", sorted_by_age)"
      ],
      "metadata": {
        "colab": {
          "base_uri": "https://localhost:8080/"
        },
        "id": "TNXypN6jolKQ",
        "outputId": "6e831543-37ce-4eb5-d97e-db86b8ce04a8"
      },
      "execution_count": 27,
      "outputs": [
        {
          "output_type": "stream",
          "name": "stdout",
          "text": [
            "Sorted by Age:\n",
            "     name  Age      city\n",
            "2   Amit   22  banglore\n",
            "0    Raj   25     Delhi\n",
            "1  priya   30    mumbai\n"
          ]
        }
      ]
    },
    {
      "cell_type": "code",
      "source": [
        "import matplotlib.pyplot as plt\n",
        "plt.figure(figsize = (8,5))\n",
        "plt.bar(df['name'],df['Age'], color = 'skyblue') # Assuming 'Age' should be plotted as salary\n",
        "plt.title ('Employees Salaries')\n",
        "plt.xlabel( 'Name')\n",
        "plt.ylabel('Age') # Assuming 'Age' should be plotted as salary\n",
        "plt.xticks(rotation=45)\n",
        "plt.grid(True)\n",
        "plt.tight_layout()\n",
        "plt.show()"
      ],
      "metadata": {
        "colab": {
          "base_uri": "https://localhost:8080/",
          "height": 527
        },
        "id": "1EhMtCrWlWjW",
        "outputId": "2a02908f-3408-4c97-98b3-c74f94c913ac"
      },
      "execution_count": 8,
      "outputs": [
        {
          "output_type": "display_data",
          "data": {
            "text/plain": [
              "<Figure size 800x500 with 1 Axes>"
            ],
            "image/png": "[encoded data removed]"
          },
          "metadata": {}
        }
      ]
    }
  ]
}