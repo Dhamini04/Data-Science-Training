{
  "nbformat": 4,
  "nbformat_minor": 0,
  "metadata": {
    "colab": {
      "provenance": []
    },
    "kernelspec": {
      "name": "python3",
      "display_name": "Python 3"
    },
    "language_info": {
      "name": "python"
    }
  },
  "cells": [
    {
      "cell_type": "markdown",
      "source": [
        "\n",
        "Assignment: Movie Ratings & Revenue Analysis\n"
      ],
      "metadata": {
        "id": "IEotB_U2Qwx8"
      }
    },
    {
      "cell_type": "markdown",
      "source": [
        "Step 1: Create a CSV – movies.csv"
      ],
      "metadata": {
        "id": "QO2iGHAkRIbN"
      }
    },
    {
      "cell_type": "code",
      "source": [
        "\n",
        "import pandas as pd\n",
        "\n",
        "data = \"\"\"MovieID,Title,Genre,ReleaseDate,Rating,Revenue,Budget\n",
        "1,Inception,Sci-Fi,2010-07-16,8.8,825532764,160000000\n",
        "2,The Dark Knight,Action,2008-07-18,9.0,1004558444,185000000\n",
        "3,Titanic,Romance,1997-12-19,7.8,2187463944,200000000\n",
        "4,Interstellar,Sci-Fi,2014-11-07,8.6,677471339,165000000\n",
        "5,Joker,Drama,2019-10-04,8.4,1074251311,55000000\n",
        "6,The Notebook,Romance,2004-06-25,7.9,,29000000\n",
        "7,Avengers: Endgame,Action,2019-04-26,8.4,2797800564,356000000\"\"\"\n",
        "\n",
        "# Save to CSV\n",
        "with open(\"movies.csv\", \"w\") as file:\n",
        "    file.write(data)\n",
        "\n",
        "# Download the \"movies.csv\" csv file\n",
        "from google.colab import files\n",
        "files.download(\"movies.csv\")"
      ],
      "metadata": {
        "colab": {
          "base_uri": "https://localhost:8080/",
          "height": 17
        },
        "id": "ylf4B0KWRK24",
        "outputId": "81fcccd8-c393-43f6-ce53-2fa1042ef934"
      },
      "execution_count": 2,
      "outputs": [
        {
          "output_type": "display_data",
          "data": {
            "text/plain": [
              "<IPython.core.display.Javascript object>"
            ],
            "application/javascript": [
              "\n",
              "    async function download(id, filename, size) {\n",
              "      if (!google.colab.kernel.accessAllowed) {\n",
              "        return;\n",
              "      }\n",
              "      const div = document.createElement('div');\n",
              "      const label = document.createElement('label');\n",
              "      label.textContent = `Downloading \"${filename}\": `;\n",
              "      div.appendChild(label);\n",
              "      const progress = document.createElement('progress');\n",
              "      progress.max = size;\n",
              "      div.appendChild(progress);\n",
              "      document.body.appendChild(div);\n",
              "\n",
              "      const buffers = [];\n",
              "      let downloaded = 0;\n",
              "\n",
              "      const channel = await google.colab.kernel.comms.open(id);\n",
              "      // Send a message to notify the kernel that we're ready.\n",
              "      channel.send({})\n",
              "\n",
              "      for await (const message of channel.messages) {\n",
              "        // Send a message to notify the kernel that we're ready.\n",
              "        channel.send({})\n",
              "        if (message.buffers) {\n",
              "          for (const buffer of message.buffers) {\n",
              "            buffers.push(buffer);\n",
              "            downloaded += buffer.byteLength;\n",
              "            progress.value = downloaded;\n",
              "          }\n",
              "        }\n",
              "      }\n",
              "      const blob = new Blob(buffers, {type: 'application/binary'});\n",
              "      const a = document.createElement('a');\n",
              "      a.href = window.URL.createObjectURL(blob);\n",
              "      a.download = filename;\n",
              "      div.appendChild(a);\n",
              "      a.click();\n",
              "      div.remove();\n",
              "    }\n",
              "  "
            ]
          },
          "metadata": {}
        },
        {
          "output_type": "display_data",
          "data": {
            "text/plain": [
              "<IPython.core.display.Javascript object>"
            ],
            "application/javascript": [
              "download(\"download_ae33a690-084c-433d-9603-7dd148581f16\", \"movies.csv\", 439)"
            ]
          },
          "metadata": {}
        }
      ]
    },
    {
      "cell_type": "markdown",
      "source": [
        "PART 1: Pandas Operations"
      ],
      "metadata": {
        "id": "BMUbXYVORY6m"
      }
    },
    {
      "cell_type": "markdown",
      "source": [
        "1. Load movies.csv into a Pandas DataFrame."
      ],
      "metadata": {
        "id": "5CC-tXLaRbEo"
      }
    },
    {
      "cell_type": "code",
      "source": [
        "\n",
        "df = pd.read_csv(\"movies.csv\")\n",
        "print(df)"
      ],
      "metadata": {
        "colab": {
          "base_uri": "https://localhost:8080/"
        },
        "id": "g5Bj9vhDRTQ7",
        "outputId": "19823ab4-8fac-4ecb-baad-fcd23d9be0f4"
      },
      "execution_count": 3,
      "outputs": [
        {
          "output_type": "stream",
          "name": "stdout",
          "text": [
            "   MovieID              Title    Genre ReleaseDate  Rating       Revenue  \\\n",
            "0        1          Inception   Sci-Fi  2010-07-16     8.8  8.255328e+08   \n",
            "1        2    The Dark Knight   Action  2008-07-18     9.0  1.004558e+09   \n",
            "2        3            Titanic  Romance  1997-12-19     7.8  2.187464e+09   \n",
            "3        4       Interstellar   Sci-Fi  2014-11-07     8.6  6.774713e+08   \n",
            "4        5              Joker    Drama  2019-10-04     8.4  1.074251e+09   \n",
            "5        6       The Notebook  Romance  2004-06-25     7.9           NaN   \n",
            "6        7  Avengers: Endgame   Action  2019-04-26     8.4  2.797801e+09   \n",
            "\n",
            "      Budget  \n",
            "0  160000000  \n",
            "1  185000000  \n",
            "2  200000000  \n",
            "3  165000000  \n",
            "4   55000000  \n",
            "5   29000000  \n",
            "6  356000000  \n"
          ]
        }
      ]
    },
    {
      "cell_type": "markdown",
      "source": [
        "2. Convert ReleaseDate to datetime."
      ],
      "metadata": {
        "id": "W1hzJn8wRkFq"
      }
    },
    {
      "cell_type": "code",
      "source": [
        "df['ReleaseDate'] = pd.to_datetime(df['ReleaseDate'])\n",
        "print(df)"
      ],
      "metadata": {
        "colab": {
          "base_uri": "https://localhost:8080/"
        },
        "id": "s_SN1wb0RnFD",
        "outputId": "703df9b9-194e-438d-89c7-9492b55f1831"
      },
      "execution_count": 4,
      "outputs": [
        {
          "output_type": "stream",
          "name": "stdout",
          "text": [
            "   MovieID              Title    Genre ReleaseDate  Rating       Revenue  \\\n",
            "0        1          Inception   Sci-Fi  2010-07-16     8.8  8.255328e+08   \n",
            "1        2    The Dark Knight   Action  2008-07-18     9.0  1.004558e+09   \n",
            "2        3            Titanic  Romance  1997-12-19     7.8  2.187464e+09   \n",
            "3        4       Interstellar   Sci-Fi  2014-11-07     8.6  6.774713e+08   \n",
            "4        5              Joker    Drama  2019-10-04     8.4  1.074251e+09   \n",
            "5        6       The Notebook  Romance  2004-06-25     7.9           NaN   \n",
            "6        7  Avengers: Endgame   Action  2019-04-26     8.4  2.797801e+09   \n",
            "\n",
            "      Budget  \n",
            "0  160000000  \n",
            "1  185000000  \n",
            "2  200000000  \n",
            "3  165000000  \n",
            "4   55000000  \n",
            "5   29000000  \n",
            "6  356000000  \n"
          ]
        }
      ]
    },
    {
      "cell_type": "markdown",
      "source": [
        "3. Calculate Profit = Revenue - Budget ."
      ],
      "metadata": {
        "id": "eJtAgP_NRnsi"
      }
    },
    {
      "cell_type": "code",
      "source": [
        "\n",
        "df['Profit'] = df['Revenue'] - df['Budget']\n",
        "print(df)"
      ],
      "metadata": {
        "colab": {
          "base_uri": "https://localhost:8080/"
        },
        "id": "C28nwd2zRoFF",
        "outputId": "a865143b-d2fd-4044-fd63-4a88cf0b8be9"
      },
      "execution_count": 6,
      "outputs": [
        {
          "output_type": "stream",
          "name": "stdout",
          "text": [
            "   MovieID              Title    Genre ReleaseDate  Rating       Revenue  \\\n",
            "0        1          Inception   Sci-Fi  2010-07-16     8.8  8.255328e+08   \n",
            "1        2    The Dark Knight   Action  2008-07-18     9.0  1.004558e+09   \n",
            "2        3            Titanic  Romance  1997-12-19     7.8  2.187464e+09   \n",
            "3        4       Interstellar   Sci-Fi  2014-11-07     8.6  6.774713e+08   \n",
            "4        5              Joker    Drama  2019-10-04     8.4  1.074251e+09   \n",
            "5        6       The Notebook  Romance  2004-06-25     7.9           NaN   \n",
            "6        7  Avengers: Endgame   Action  2019-04-26     8.4  2.797801e+09   \n",
            "\n",
            "      Budget        Profit  \n",
            "0  160000000  6.655328e+08  \n",
            "1  185000000  8.195584e+08  \n",
            "2  200000000  1.987464e+09  \n",
            "3  165000000  5.124713e+08  \n",
            "4   55000000  1.019251e+09  \n",
            "5   29000000           NaN  \n",
            "6  356000000  2.441801e+09  \n"
          ]
        }
      ]
    },
    {
      "cell_type": "markdown",
      "source": [
        "4. Add a column \"Era\" :\n",
        "\n",
        "\n",
        "Before 2000 → Classic\n",
        "\n",
        "2000-2010 → Mid\n",
        "\n",
        "After 2010 → Modern"
      ],
      "metadata": {
        "id": "Ksj2pQCFRog-"
      }
    },
    {
      "cell_type": "code",
      "source": [
        "df['Era'] = df['ReleaseDate'].dt.year.apply(\n",
        "    lambda x: 'Classic' if x < 2000 else 'Mid' if x <= 2010 else 'Modern'\n",
        ")\n",
        "print(df)"
      ],
      "metadata": {
        "colab": {
          "base_uri": "https://localhost:8080/"
        },
        "id": "6t0sBg66RozD",
        "outputId": "13ebb600-c516-497e-cde6-31a21573d236"
      },
      "execution_count": 7,
      "outputs": [
        {
          "output_type": "stream",
          "name": "stdout",
          "text": [
            "   MovieID              Title    Genre ReleaseDate  Rating       Revenue  \\\n",
            "0        1          Inception   Sci-Fi  2010-07-16     8.8  8.255328e+08   \n",
            "1        2    The Dark Knight   Action  2008-07-18     9.0  1.004558e+09   \n",
            "2        3            Titanic  Romance  1997-12-19     7.8  2.187464e+09   \n",
            "3        4       Interstellar   Sci-Fi  2014-11-07     8.6  6.774713e+08   \n",
            "4        5              Joker    Drama  2019-10-04     8.4  1.074251e+09   \n",
            "5        6       The Notebook  Romance  2004-06-25     7.9           NaN   \n",
            "6        7  Avengers: Endgame   Action  2019-04-26     8.4  2.797801e+09   \n",
            "\n",
            "      Budget        Profit      Era  \n",
            "0  160000000  6.655328e+08      Mid  \n",
            "1  185000000  8.195584e+08      Mid  \n",
            "2  200000000  1.987464e+09  Classic  \n",
            "3  165000000  5.124713e+08   Modern  \n",
            "4   55000000  1.019251e+09   Modern  \n",
            "5   29000000           NaN      Mid  \n",
            "6  356000000  2.441801e+09   Modern  \n"
          ]
        }
      ]
    },
    {
      "cell_type": "markdown",
      "source": [
        "5. Handle nulls in Revenue by filling with average revenue."
      ],
      "metadata": {
        "id": "iE3BuUSdRpEl"
      }
    },
    {
      "cell_type": "code",
      "source": [
        "df['Revenue'] = df['Revenue'].fillna(df['Revenue'].mean())\n",
        "print(df)"
      ],
      "metadata": {
        "colab": {
          "base_uri": "https://localhost:8080/"
        },
        "id": "2eLNTdCYRpTw",
        "outputId": "11c54113-8acc-4c19-a62d-c80361a2f48d"
      },
      "execution_count": 8,
      "outputs": [
        {
          "output_type": "stream",
          "name": "stdout",
          "text": [
            "   MovieID              Title    Genre ReleaseDate  Rating       Revenue  \\\n",
            "0        1          Inception   Sci-Fi  2010-07-16     8.8  8.255328e+08   \n",
            "1        2    The Dark Knight   Action  2008-07-18     9.0  1.004558e+09   \n",
            "2        3            Titanic  Romance  1997-12-19     7.8  2.187464e+09   \n",
            "3        4       Interstellar   Sci-Fi  2014-11-07     8.6  6.774713e+08   \n",
            "4        5              Joker    Drama  2019-10-04     8.4  1.074251e+09   \n",
            "5        6       The Notebook  Romance  2004-06-25     7.9  1.427846e+09   \n",
            "6        7  Avengers: Endgame   Action  2019-04-26     8.4  2.797801e+09   \n",
            "\n",
            "      Budget        Profit      Era  \n",
            "0  160000000  6.655328e+08      Mid  \n",
            "1  185000000  8.195584e+08      Mid  \n",
            "2  200000000  1.987464e+09  Classic  \n",
            "3  165000000  5.124713e+08   Modern  \n",
            "4   55000000  1.019251e+09   Modern  \n",
            "5   29000000           NaN      Mid  \n",
            "6  356000000  2.441801e+09   Modern  \n"
          ]
        }
      ]
    },
    {
      "cell_type": "markdown",
      "source": [
        "6. Sort by Rating descending."
      ],
      "metadata": {
        "id": "1jYwtMICRpr6"
      }
    },
    {
      "cell_type": "code",
      "source": [
        "df_sorted = df.sort_values(by='Rating', ascending=False)\n",
        "print(df_sorted)"
      ],
      "metadata": {
        "colab": {
          "base_uri": "https://localhost:8080/"
        },
        "id": "doPfIMwyRp7K",
        "outputId": "f82108ff-0afb-4cb5-f372-b9a27bcf7ca0"
      },
      "execution_count": 10,
      "outputs": [
        {
          "output_type": "stream",
          "name": "stdout",
          "text": [
            "   MovieID              Title    Genre ReleaseDate  Rating       Revenue  \\\n",
            "1        2    The Dark Knight   Action  2008-07-18     9.0  1.004558e+09   \n",
            "0        1          Inception   Sci-Fi  2010-07-16     8.8  8.255328e+08   \n",
            "3        4       Interstellar   Sci-Fi  2014-11-07     8.6  6.774713e+08   \n",
            "6        7  Avengers: Endgame   Action  2019-04-26     8.4  2.797801e+09   \n",
            "4        5              Joker    Drama  2019-10-04     8.4  1.074251e+09   \n",
            "5        6       The Notebook  Romance  2004-06-25     7.9  1.427846e+09   \n",
            "2        3            Titanic  Romance  1997-12-19     7.8  2.187464e+09   \n",
            "\n",
            "      Budget        Profit      Era  \n",
            "1  185000000  8.195584e+08      Mid  \n",
            "0  160000000  6.655328e+08      Mid  \n",
            "3  165000000  5.124713e+08   Modern  \n",
            "6  356000000  2.441801e+09   Modern  \n",
            "4   55000000  1.019251e+09   Modern  \n",
            "5   29000000           NaN      Mid  \n",
            "2  200000000  1.987464e+09  Classic  \n"
          ]
        }
      ]
    },
    {
      "cell_type": "markdown",
      "source": [
        "7. Group by Genre → average Rating & total Revenue."
      ],
      "metadata": {
        "id": "yWQi5NvnSTD6"
      }
    },
    {
      "cell_type": "code",
      "source": [
        "\n",
        "genre_stats = df.groupby('Genre').agg({'Rating': 'mean', 'Revenue': 'sum'})\n",
        "print(genre_stats)"
      ],
      "metadata": {
        "colab": {
          "base_uri": "https://localhost:8080/"
        },
        "id": "11ue4EjaSTY8",
        "outputId": "0a8c8002-6a46-4721-d384-edca17a2db33"
      },
      "execution_count": 11,
      "outputs": [
        {
          "output_type": "stream",
          "name": "stdout",
          "text": [
            "         Rating       Revenue\n",
            "Genre                        \n",
            "Action     8.70  3.802359e+09\n",
            "Drama      8.40  1.074251e+09\n",
            "Romance    7.85  3.615310e+09\n",
            "Sci-Fi     8.70  1.503004e+09\n"
          ]
        }
      ]
    },
    {
      "cell_type": "markdown",
      "source": [
        "8. Filter movies with Rating ≥ 8.5 and Profit > 500M."
      ],
      "metadata": {
        "id": "ql_9Sr4zSTt8"
      }
    },
    {
      "cell_type": "code",
      "source": [
        "high_perf_movies = df[(df['Rating'] >= 8.5) & (df['Profit'] > 500_000_000)]\n",
        "print(high_perf_movies)"
      ],
      "metadata": {
        "colab": {
          "base_uri": "https://localhost:8080/"
        },
        "id": "3P_wXVNgST9T",
        "outputId": "b4c6f91a-e70e-4475-a789-e857eacd2368"
      },
      "execution_count": 9,
      "outputs": [
        {
          "output_type": "stream",
          "name": "stdout",
          "text": [
            "   MovieID            Title   Genre ReleaseDate  Rating       Revenue  \\\n",
            "0        1        Inception  Sci-Fi  2010-07-16     8.8  8.255328e+08   \n",
            "1        2  The Dark Knight  Action  2008-07-18     9.0  1.004558e+09   \n",
            "3        4     Interstellar  Sci-Fi  2014-11-07     8.6  6.774713e+08   \n",
            "\n",
            "      Budget       Profit     Era  \n",
            "0  160000000  665532764.0     Mid  \n",
            "1  185000000  819558444.0     Mid  \n",
            "3  165000000  512471339.0  Modern  \n"
          ]
        }
      ]
    },
    {
      "cell_type": "markdown",
      "source": [
        "9. Plot bar chart of Movie Title vs Profit.\n",
        "\n"
      ],
      "metadata": {
        "id": "i1ZwqJA6StEk"
      }
    },
    {
      "cell_type": "code",
      "source": [
        "\n",
        "import matplotlib.pyplot as plt\n",
        "df.plot(x='Title', y='Profit', kind='bar', figsize=(10,5))\n",
        "plt.title(\"Movie Profit\")\n",
        "plt.ylabel(\"Profit\")\n",
        "plt.xticks(rotation=45)\n",
        "plt.tight_layout()\n",
        "plt.show()"
      ],
      "metadata": {
        "id": "487ACEzPS0Xp"
      },
      "execution_count": null,
      "outputs": []
    },
    {
      "cell_type": "markdown",
      "source": [
        "PART 2: PySpark Operations"
      ],
      "metadata": {
        "id": "JfsFsXp4S7jj"
      }
    },
    {
      "cell_type": "markdown",
      "source": [
        "1. Read the same CSV using PySpark."
      ],
      "metadata": {
        "id": "geH5iK8US7nH"
      }
    },
    {
      "cell_type": "code",
      "source": [
        "from pyspark.sql import SparkSession\n",
        "from pyspark.sql.functions import col, when, to_date, year, month, rank\n",
        "from pyspark.sql.window import Window\n",
        "\n",
        "spark = SparkSession.builder.appName(\"MovieAnalysis\").getOrCreate()\n",
        "\n",
        "# Read CSV\n",
        "df_spark = spark.read.option(\"header\", True).option(\"inferSchema\", True).csv(\"movies.csv\")\n",
        "print(df_spark.show())"
      ],
      "metadata": {
        "colab": {
          "base_uri": "https://localhost:8080/"
        },
        "id": "1kjjSDrDTSSe",
        "outputId": "83f0cdb7-b285-43a6-80d7-f83de98b1482"
      },
      "execution_count": 12,
      "outputs": [
        {
          "output_type": "stream",
          "name": "stdout",
          "text": [
            "+-------+-----------------+-------+-----------+------+----------+---------+\n",
            "|MovieID|            Title|  Genre|ReleaseDate|Rating|   Revenue|   Budget|\n",
            "+-------+-----------------+-------+-----------+------+----------+---------+\n",
            "|      1|        Inception| Sci-Fi| 2010-07-16|   8.8| 825532764|160000000|\n",
            "|      2|  The Dark Knight| Action| 2008-07-18|   9.0|1004558444|185000000|\n",
            "|      3|          Titanic|Romance| 1997-12-19|   7.8|2187463944|200000000|\n",
            "|      4|     Interstellar| Sci-Fi| 2014-11-07|   8.6| 677471339|165000000|\n",
            "|      5|            Joker|  Drama| 2019-10-04|   8.4|1074251311| 55000000|\n",
            "|      6|     The Notebook|Romance| 2004-06-25|   7.9|      NULL| 29000000|\n",
            "|      7|Avengers: Endgame| Action| 2019-04-26|   8.4|2797800564|356000000|\n",
            "+-------+-----------------+-------+-----------+------+----------+---------+\n",
            "\n",
            "None\n"
          ]
        }
      ]
    },
    {
      "cell_type": "markdown",
      "source": [
        "2. Create Profit column ( Revenue - Budget )."
      ],
      "metadata": {
        "id": "Lj0-M4CXTdWX"
      }
    },
    {
      "cell_type": "code",
      "source": [
        "\n",
        "df_spark = df_spark.withColumn(\"Profit\", col(\"Revenue\") - col(\"Budget\"))\n",
        "print(df_spark.show())"
      ],
      "metadata": {
        "colab": {
          "base_uri": "https://localhost:8080/"
        },
        "id": "CJq1bNtQTdml",
        "outputId": "3edca57e-7adb-4c88-ca57-72e71dac5ae4"
      },
      "execution_count": 13,
      "outputs": [
        {
          "output_type": "stream",
          "name": "stdout",
          "text": [
            "+-------+-----------------+-------+-----------+------+----------+---------+----------+\n",
            "|MovieID|            Title|  Genre|ReleaseDate|Rating|   Revenue|   Budget|    Profit|\n",
            "+-------+-----------------+-------+-----------+------+----------+---------+----------+\n",
            "|      1|        Inception| Sci-Fi| 2010-07-16|   8.8| 825532764|160000000| 665532764|\n",
            "|      2|  The Dark Knight| Action| 2008-07-18|   9.0|1004558444|185000000| 819558444|\n",
            "|      3|          Titanic|Romance| 1997-12-19|   7.8|2187463944|200000000|1987463944|\n",
            "|      4|     Interstellar| Sci-Fi| 2014-11-07|   8.6| 677471339|165000000| 512471339|\n",
            "|      5|            Joker|  Drama| 2019-10-04|   8.4|1074251311| 55000000|1019251311|\n",
            "|      6|     The Notebook|Romance| 2004-06-25|   7.9|      NULL| 29000000|      NULL|\n",
            "|      7|Avengers: Endgame| Action| 2019-04-26|   8.4|2797800564|356000000|2441800564|\n",
            "+-------+-----------------+-------+-----------+------+----------+---------+----------+\n",
            "\n",
            "None\n"
          ]
        }
      ]
    },
    {
      "cell_type": "markdown",
      "source": [
        "3. Filter where Genre == 'Sci-Fi' and Profit > 500000000 ."
      ],
      "metadata": {
        "id": "6O8Qm0MyTlXp"
      }
    },
    {
      "cell_type": "code",
      "source": [
        "df_spark.filter((col(\"Genre\") == \"Sci-Fi\") & (col(\"Profit\") > 500_000_000)).show()"
      ],
      "metadata": {
        "colab": {
          "base_uri": "https://localhost:8080/"
        },
        "id": "jfzsDGhcToiU",
        "outputId": "52394a4e-d473-42be-d2b8-5921f8e06396"
      },
      "execution_count": 14,
      "outputs": [
        {
          "output_type": "stream",
          "name": "stdout",
          "text": [
            "+-------+------------+------+-----------+------+---------+---------+---------+\n",
            "|MovieID|       Title| Genre|ReleaseDate|Rating|  Revenue|   Budget|   Profit|\n",
            "+-------+------------+------+-----------+------+---------+---------+---------+\n",
            "|      1|   Inception|Sci-Fi| 2010-07-16|   8.8|825532764|160000000|665532764|\n",
            "|      4|Interstellar|Sci-Fi| 2014-11-07|   8.6|677471339|165000000|512471339|\n",
            "+-------+------------+------+-----------+------+---------+---------+---------+\n",
            "\n"
          ]
        }
      ]
    },
    {
      "cell_type": "markdown",
      "source": [
        "4. Group by Genre → avg(Rating) , sum(Profit)"
      ],
      "metadata": {
        "id": "1g96Y5g3TspQ"
      }
    },
    {
      "cell_type": "code",
      "source": [
        "df_spark.groupBy(\"Genre\").agg({'Rating': 'avg', 'Profit': 'sum'}).show()"
      ],
      "metadata": {
        "colab": {
          "base_uri": "https://localhost:8080/"
        },
        "id": "9eTp6R8STxgn",
        "outputId": "ac008fd9-203b-4d39-c16f-b251e412050d"
      },
      "execution_count": 15,
      "outputs": [
        {
          "output_type": "stream",
          "name": "stdout",
          "text": [
            "+-------+-----------+-----------+\n",
            "|  Genre|avg(Rating)|sum(Profit)|\n",
            "+-------+-----------+-----------+\n",
            "|Romance|       7.85| 1987463944|\n",
            "|  Drama|        8.4| 1019251311|\n",
            "| Action|        8.7| 3261359008|\n",
            "| Sci-Fi|        8.7| 1178004103|\n",
            "+-------+-----------+-----------+\n",
            "\n"
          ]
        }
      ]
    },
    {
      "cell_type": "markdown",
      "source": [
        "5. Use when().otherwise() to classify Rating as:\n",
        "\n",
        "\n",
        "=9 → Blockbuster\n",
        "\n",
        "8–9 → Hit\n",
        "\n",
        "below 8 → Average"
      ],
      "metadata": {
        "id": "En0OT2EgT1XI"
      }
    },
    {
      "cell_type": "code",
      "source": [
        "df_spark = df_spark.withColumn(\n",
        "    \"RatingClass\",\n",
        "    when(col(\"Rating\") == 9.0, \"Blockbuster\")\n",
        "    .when((col(\"Rating\") >= 8.0) & (col(\"Rating\") < 9.0), \"Hit\")\n",
        "    .otherwise(\"Average\")\n",
        ")\n",
        "print(df_spark.show())"
      ],
      "metadata": {
        "colab": {
          "base_uri": "https://localhost:8080/"
        },
        "id": "FtuLtC47UDz2",
        "outputId": "94de3a91-3dc9-40ef-f18b-81f90424ecf4"
      },
      "execution_count": 16,
      "outputs": [
        {
          "output_type": "stream",
          "name": "stdout",
          "text": [
            "+-------+-----------------+-------+-----------+------+----------+---------+----------+-----------+\n",
            "|MovieID|            Title|  Genre|ReleaseDate|Rating|   Revenue|   Budget|    Profit|RatingClass|\n",
            "+-------+-----------------+-------+-----------+------+----------+---------+----------+-----------+\n",
            "|      1|        Inception| Sci-Fi| 2010-07-16|   8.8| 825532764|160000000| 665532764|        Hit|\n",
            "|      2|  The Dark Knight| Action| 2008-07-18|   9.0|1004558444|185000000| 819558444|Blockbuster|\n",
            "|      3|          Titanic|Romance| 1997-12-19|   7.8|2187463944|200000000|1987463944|    Average|\n",
            "|      4|     Interstellar| Sci-Fi| 2014-11-07|   8.6| 677471339|165000000| 512471339|        Hit|\n",
            "|      5|            Joker|  Drama| 2019-10-04|   8.4|1074251311| 55000000|1019251311|        Hit|\n",
            "|      6|     The Notebook|Romance| 2004-06-25|   7.9|      NULL| 29000000|      NULL|    Average|\n",
            "|      7|Avengers: Endgame| Action| 2019-04-26|   8.4|2797800564|356000000|2441800564|        Hit|\n",
            "+-------+-----------------+-------+-----------+------+----------+---------+----------+-----------+\n",
            "\n",
            "None\n"
          ]
        }
      ]
    },
    {
      "cell_type": "markdown",
      "source": [
        "6. Drop the Budget column."
      ],
      "metadata": {
        "id": "7cxlQroMUHz2"
      }
    },
    {
      "cell_type": "code",
      "source": [
        "df_spark = df_spark.drop(\"Budget\")\n",
        "print(df_spark.show())"
      ],
      "metadata": {
        "colab": {
          "base_uri": "https://localhost:8080/"
        },
        "id": "IzrrkPjFUKqq",
        "outputId": "71fb3fa8-47f8-417f-c920-041e344b1de4"
      },
      "execution_count": 17,
      "outputs": [
        {
          "output_type": "stream",
          "name": "stdout",
          "text": [
            "+-------+-----------------+-------+-----------+------+----------+----------+-----------+\n",
            "|MovieID|            Title|  Genre|ReleaseDate|Rating|   Revenue|    Profit|RatingClass|\n",
            "+-------+-----------------+-------+-----------+------+----------+----------+-----------+\n",
            "|      1|        Inception| Sci-Fi| 2010-07-16|   8.8| 825532764| 665532764|        Hit|\n",
            "|      2|  The Dark Knight| Action| 2008-07-18|   9.0|1004558444| 819558444|Blockbuster|\n",
            "|      3|          Titanic|Romance| 1997-12-19|   7.8|2187463944|1987463944|    Average|\n",
            "|      4|     Interstellar| Sci-Fi| 2014-11-07|   8.6| 677471339| 512471339|        Hit|\n",
            "|      5|            Joker|  Drama| 2019-10-04|   8.4|1074251311|1019251311|        Hit|\n",
            "|      6|     The Notebook|Romance| 2004-06-25|   7.9|      NULL|      NULL|    Average|\n",
            "|      7|Avengers: Endgame| Action| 2019-04-26|   8.4|2797800564|2441800564|        Hit|\n",
            "+-------+-----------------+-------+-----------+------+----------+----------+-----------+\n",
            "\n",
            "None\n"
          ]
        }
      ]
    },
    {
      "cell_type": "markdown",
      "source": [
        "7. Fill null revenue with average (use na.fill() or na.replace())."
      ],
      "metadata": {
        "id": "Gc3_V8apUORg"
      }
    },
    {
      "cell_type": "code",
      "source": [
        "avg_revenue = df_spark.selectExpr(\"avg(Revenue)\").first()[0]\n",
        "df_spark = df_spark.na.fill({\"Revenue\": avg_revenue})\n",
        "print(df_spark.show())"
      ],
      "metadata": {
        "colab": {
          "base_uri": "https://localhost:8080/"
        },
        "id": "SPN-_bHgUREy",
        "outputId": "c46b662b-76fd-4b5d-accd-fd2c2746b7ef"
      },
      "execution_count": 18,
      "outputs": [
        {
          "output_type": "stream",
          "name": "stdout",
          "text": [
            "+-------+-----------------+-------+-----------+------+----------+----------+-----------+\n",
            "|MovieID|            Title|  Genre|ReleaseDate|Rating|   Revenue|    Profit|RatingClass|\n",
            "+-------+-----------------+-------+-----------+------+----------+----------+-----------+\n",
            "|      1|        Inception| Sci-Fi| 2010-07-16|   8.8| 825532764| 665532764|        Hit|\n",
            "|      2|  The Dark Knight| Action| 2008-07-18|   9.0|1004558444| 819558444|Blockbuster|\n",
            "|      3|          Titanic|Romance| 1997-12-19|   7.8|2187463944|1987463944|    Average|\n",
            "|      4|     Interstellar| Sci-Fi| 2014-11-07|   8.6| 677471339| 512471339|        Hit|\n",
            "|      5|            Joker|  Drama| 2019-10-04|   8.4|1074251311|1019251311|        Hit|\n",
            "|      6|     The Notebook|Romance| 2004-06-25|   7.9|1427846394|      NULL|    Average|\n",
            "|      7|Avengers: Endgame| Action| 2019-04-26|   8.4|2797800564|2441800564|        Hit|\n",
            "+-------+-----------------+-------+-----------+------+----------+----------+-----------+\n",
            "\n",
            "None\n"
          ]
        }
      ]
    },
    {
      "cell_type": "markdown",
      "source": [
        "\n",
        "8. Convert ReleaseDate to date type, extract year and month ."
      ],
      "metadata": {
        "id": "0S3B4xhBUU8n"
      }
    },
    {
      "cell_type": "code",
      "source": [
        "\n",
        "df_spark = df_spark.withColumn(\"ReleaseDate\", to_date(\"ReleaseDate\"))\n",
        "df_spark = df_spark.withColumn(\"Year\", year(\"ReleaseDate\"))\n",
        "df_spark = df_spark.withColumn(\"Month\", month(\"ReleaseDate\"))\n",
        "print(df_spark.show())\n",
        ""
      ],
      "metadata": {
        "colab": {
          "base_uri": "https://localhost:8080/"
        },
        "id": "lTdU-NMcUX7X",
        "outputId": "79d1048b-65d9-495e-d6e5-3a1d24690194"
      },
      "execution_count": 19,
      "outputs": [
        {
          "output_type": "stream",
          "name": "stdout",
          "text": [
            "+-------+-----------------+-------+-----------+------+----------+----------+-----------+----+-----+\n",
            "|MovieID|            Title|  Genre|ReleaseDate|Rating|   Revenue|    Profit|RatingClass|Year|Month|\n",
            "+-------+-----------------+-------+-----------+------+----------+----------+-----------+----+-----+\n",
            "|      1|        Inception| Sci-Fi| 2010-07-16|   8.8| 825532764| 665532764|        Hit|2010|    7|\n",
            "|      2|  The Dark Knight| Action| 2008-07-18|   9.0|1004558444| 819558444|Blockbuster|2008|    7|\n",
            "|      3|          Titanic|Romance| 1997-12-19|   7.8|2187463944|1987463944|    Average|1997|   12|\n",
            "|      4|     Interstellar| Sci-Fi| 2014-11-07|   8.6| 677471339| 512471339|        Hit|2014|   11|\n",
            "|      5|            Joker|  Drama| 2019-10-04|   8.4|1074251311|1019251311|        Hit|2019|   10|\n",
            "|      6|     The Notebook|Romance| 2004-06-25|   7.9|1427846394|      NULL|    Average|2004|    6|\n",
            "|      7|Avengers: Endgame| Action| 2019-04-26|   8.4|2797800564|2441800564|        Hit|2019|    4|\n",
            "+-------+-----------------+-------+-----------+------+----------+----------+-----------+----+-----+\n",
            "\n",
            "None\n"
          ]
        }
      ]
    },
    {
      "cell_type": "markdown",
      "source": [
        "9. Use a window function to rank movies within each genre by profit."
      ],
      "metadata": {
        "id": "rKasfnr3UbKv"
      }
    },
    {
      "cell_type": "code",
      "source": [
        "\n",
        "windowSpec = Window.partitionBy(\"Genre\").orderBy(col(\"Profit\").desc())\n",
        "df_spark = df_spark.withColumn(\"ProfitRank\", rank().over(windowSpec))\n",
        "df_spark.select(\"Title\", \"Genre\", \"Profit\", \"ProfitRank\").show()"
      ],
      "metadata": {
        "colab": {
          "base_uri": "https://localhost:8080/"
        },
        "id": "5vwHKSD7Ueez",
        "outputId": "47aa3180-61a9-4b42-fdd3-ead79b03c0b3"
      },
      "execution_count": 20,
      "outputs": [
        {
          "output_type": "stream",
          "name": "stdout",
          "text": [
            "+-----------------+-------+----------+----------+\n",
            "|            Title|  Genre|    Profit|ProfitRank|\n",
            "+-----------------+-------+----------+----------+\n",
            "|Avengers: Endgame| Action|2441800564|         1|\n",
            "|  The Dark Knight| Action| 819558444|         2|\n",
            "|            Joker|  Drama|1019251311|         1|\n",
            "|          Titanic|Romance|1987463944|         1|\n",
            "|     The Notebook|Romance|      NULL|         2|\n",
            "|        Inception| Sci-Fi| 665532764|         1|\n",
            "|     Interstellar| Sci-Fi| 512471339|         2|\n",
            "+-----------------+-------+----------+----------+\n",
            "\n"
          ]
        }
      ]
    },
    {
      "cell_type": "markdown",
      "source": [
        "PART 3: JSON + Union Example"
      ],
      "metadata": {
        "id": "QlBvJprrUiTZ"
      }
    },
    {
      "cell_type": "markdown",
      "source": [
        "movies_bonus.json"
      ],
      "metadata": {
        "id": "1HCgufG2UpIV"
      }
    },
    {
      "cell_type": "code",
      "source": [
        "import json\n",
        "\n",
        "movies_bonus = [\n",
        "  {\"MovieID\": 8, \"Title\": \"Barbie\", \"Genre\": \"Drama\", \"Rating\": 7.5, \"Revenue\": 1456000000, \"Budget\": 145000000},\n",
        "  {\"MovieID\": 9, \"Title\": \"Oppenheimer\", \"Genre\": \"Drama\", \"Rating\": 8.6, \"Revenue\": 950000000, \"Budget\": 100000000}\n",
        "]\n",
        "\n",
        "with open(\"movies_bonus.json\", \"w\") as f:\n",
        "    json.dump(movies_bonus, f, indent=4)\n",
        "\n",
        "# Download the \"movies_bonus.json\" JSON file\n",
        "from google.colab import files\n",
        "files.download(\"movies_bonus.json\")"
      ],
      "metadata": {
        "colab": {
          "base_uri": "https://localhost:8080/",
          "height": 17
        },
        "id": "RCHptveXUmWc",
        "outputId": "913721b0-b71d-422f-9f63-a0d444a3eab5"
      },
      "execution_count": 21,
      "outputs": [
        {
          "output_type": "display_data",
          "data": {
            "text/plain": [
              "<IPython.core.display.Javascript object>"
            ],
            "application/javascript": [
              "\n",
              "    async function download(id, filename, size) {\n",
              "      if (!google.colab.kernel.accessAllowed) {\n",
              "        return;\n",
              "      }\n",
              "      const div = document.createElement('div');\n",
              "      const label = document.createElement('label');\n",
              "      label.textContent = `Downloading \"${filename}\": `;\n",
              "      div.appendChild(label);\n",
              "      const progress = document.createElement('progress');\n",
              "      progress.max = size;\n",
              "      div.appendChild(progress);\n",
              "      document.body.appendChild(div);\n",
              "\n",
              "      const buffers = [];\n",
              "      let downloaded = 0;\n",
              "\n",
              "      const channel = await google.colab.kernel.comms.open(id);\n",
              "      // Send a message to notify the kernel that we're ready.\n",
              "      channel.send({})\n",
              "\n",
              "      for await (const message of channel.messages) {\n",
              "        // Send a message to notify the kernel that we're ready.\n",
              "        channel.send({})\n",
              "        if (message.buffers) {\n",
              "          for (const buffer of message.buffers) {\n",
              "            buffers.push(buffer);\n",
              "            downloaded += buffer.byteLength;\n",
              "            progress.value = downloaded;\n",
              "          }\n",
              "        }\n",
              "      }\n",
              "      const blob = new Blob(buffers, {type: 'application/binary'});\n",
              "      const a = document.createElement('a');\n",
              "      a.href = window.URL.createObjectURL(blob);\n",
              "      a.download = filename;\n",
              "      div.appendChild(a);\n",
              "      a.click();\n",
              "      div.remove();\n",
              "    }\n",
              "  "
            ]
          },
          "metadata": {}
        },
        {
          "output_type": "display_data",
          "data": {
            "text/plain": [
              "<IPython.core.display.Javascript object>"
            ],
            "application/javascript": [
              "download(\"download_c3e7b57d-ea57-4485-a47e-b19718395d2e\", \"movies_bonus.json\", 346)"
            ]
          },
          "metadata": {}
        }
      ]
    },
    {
      "cell_type": "markdown",
      "source": [
        "1. Read this JSON using PySpark."
      ],
      "metadata": {
        "id": "Ep5xf1jrUuJx"
      }
    },
    {
      "cell_type": "code",
      "source": [
        "# Load the original movies.csv\n",
        "df_movies = spark.read.csv(\"movies.csv\", header=True, inferSchema=True)\n",
        "df_movies.show()\n",
        "\n",
        "# Load the movies_bonus.json\n",
        "df_json = spark.read.json(\"movies_bonus.json\", multiLine=True)\n",
        "df_json.show()"
      ],
      "metadata": {
        "colab": {
          "base_uri": "https://localhost:8080/"
        },
        "id": "AzU1GEurUn2I",
        "outputId": "84cd4c92-261d-47ed-aae7-cca9d486624b"
      },
      "execution_count": 22,
      "outputs": [
        {
          "output_type": "stream",
          "name": "stdout",
          "text": [
            "+-------+-----------------+-------+-----------+------+----------+---------+\n",
            "|MovieID|            Title|  Genre|ReleaseDate|Rating|   Revenue|   Budget|\n",
            "+-------+-----------------+-------+-----------+------+----------+---------+\n",
            "|      1|        Inception| Sci-Fi| 2010-07-16|   8.8| 825532764|160000000|\n",
            "|      2|  The Dark Knight| Action| 2008-07-18|   9.0|1004558444|185000000|\n",
            "|      3|          Titanic|Romance| 1997-12-19|   7.8|2187463944|200000000|\n",
            "|      4|     Interstellar| Sci-Fi| 2014-11-07|   8.6| 677471339|165000000|\n",
            "|      5|            Joker|  Drama| 2019-10-04|   8.4|1074251311| 55000000|\n",
            "|      6|     The Notebook|Romance| 2004-06-25|   7.9|      NULL| 29000000|\n",
            "|      7|Avengers: Endgame| Action| 2019-04-26|   8.4|2797800564|356000000|\n",
            "+-------+-----------------+-------+-----------+------+----------+---------+\n",
            "\n",
            "+---------+-----+-------+------+----------+-----------+\n",
            "|   Budget|Genre|MovieID|Rating|   Revenue|      Title|\n",
            "+---------+-----+-------+------+----------+-----------+\n",
            "|145000000|Drama|      8|   7.5|1456000000|     Barbie|\n",
            "|100000000|Drama|      9|   8.6| 950000000|Oppenheimer|\n",
            "+---------+-----+-------+------+----------+-----------+\n",
            "\n"
          ]
        }
      ]
    },
    {
      "cell_type": "markdown",
      "source": [
        "2. Union it with your original movies DataFrame."
      ],
      "metadata": {
        "id": "rMAJ8oOEU2YY"
      }
    },
    {
      "cell_type": "code",
      "source": [
        "# View and match columns\n",
        "print(\"Original df_movies columns:\", df_movies.columns)\n",
        "print(\"Bonus df_bonus columns:\", df_json.columns)"
      ],
      "metadata": {
        "colab": {
          "base_uri": "https://localhost:8080/"
        },
        "id": "k-9YVn4GU6G8",
        "outputId": "55ce860c-a7fc-48b1-f544-9ff6004ee01f"
      },
      "execution_count": 23,
      "outputs": [
        {
          "output_type": "stream",
          "name": "stdout",
          "text": [
            "Original df_movies columns: ['MovieID', 'Title', 'Genre', 'ReleaseDate', 'Rating', 'Revenue', 'Budget']\n",
            "Bonus df_bonus columns: ['Budget', 'Genre', 'MovieID', 'Rating', 'Revenue', 'Title']\n"
          ]
        }
      ]
    },
    {
      "cell_type": "code",
      "source": [
        "# Import the required function\n",
        "from pyspark.sql.functions import lit\n",
        "\n",
        "# Add the missing ReleaseDate column and reorder\n",
        "df_bonus_fixed = df_json \\\n",
        "    .withColumn(\"ReleaseDate\", lit(None).cast(\"string\")) \\\n",
        "    .select(\"MovieID\", \"Title\", \"Genre\", \"ReleaseDate\", \"Rating\", \"Revenue\", \"Budget\")\n",
        "\n",
        "# Union the DataFrames\n",
        "df_combined = df_movies.union(df_bonus_fixed)\n",
        "df_combined.show(truncate=False)"
      ],
      "metadata": {
        "colab": {
          "base_uri": "https://localhost:8080/"
        },
        "id": "F-Zd-LqxVI2b",
        "outputId": "a20ac384-72a7-4c88-b41d-a3503fbdc6c4"
      },
      "execution_count": 24,
      "outputs": [
        {
          "output_type": "stream",
          "name": "stdout",
          "text": [
            "+-------+-----------------+-------+-----------+------+----------+---------+\n",
            "|MovieID|Title            |Genre  |ReleaseDate|Rating|Revenue   |Budget   |\n",
            "+-------+-----------------+-------+-----------+------+----------+---------+\n",
            "|1      |Inception        |Sci-Fi |2010-07-16 |8.8   |825532764 |160000000|\n",
            "|2      |The Dark Knight  |Action |2008-07-18 |9.0   |1004558444|185000000|\n",
            "|3      |Titanic          |Romance|1997-12-19 |7.8   |2187463944|200000000|\n",
            "|4      |Interstellar     |Sci-Fi |2014-11-07 |8.6   |677471339 |165000000|\n",
            "|5      |Joker            |Drama  |2019-10-04 |8.4   |1074251311|55000000 |\n",
            "|6      |The Notebook     |Romance|2004-06-25 |7.9   |NULL      |29000000 |\n",
            "|7      |Avengers: Endgame|Action |2019-04-26 |8.4   |2797800564|356000000|\n",
            "|8      |Barbie           |Drama  |NULL       |7.5   |1456000000|145000000|\n",
            "|9      |Oppenheimer      |Drama  |NULL       |8.6   |950000000 |100000000|\n",
            "+-------+-----------------+-------+-----------+------+----------+---------+\n",
            "\n"
          ]
        }
      ]
    },
    {
      "cell_type": "markdown",
      "source": [
        "3. Show top 5 highest grossing movies."
      ],
      "metadata": {
        "id": "XYscDNyMVF5O"
      }
    },
    {
      "cell_type": "code",
      "source": [
        "\n",
        "df_combined.orderBy(df_combined.Revenue.desc()).show(5, truncate=False)"
      ],
      "metadata": {
        "colab": {
          "base_uri": "https://localhost:8080/"
        },
        "id": "qFKILQVZVQE2",
        "outputId": "b798edc3-7ab2-4cbe-eb7f-b3525ca94b2c"
      },
      "execution_count": 25,
      "outputs": [
        {
          "output_type": "stream",
          "name": "stdout",
          "text": [
            "+-------+-----------------+-------+-----------+------+----------+---------+\n",
            "|MovieID|Title            |Genre  |ReleaseDate|Rating|Revenue   |Budget   |\n",
            "+-------+-----------------+-------+-----------+------+----------+---------+\n",
            "|7      |Avengers: Endgame|Action |2019-04-26 |8.4   |2797800564|356000000|\n",
            "|3      |Titanic          |Romance|1997-12-19 |7.8   |2187463944|200000000|\n",
            "|8      |Barbie           |Drama  |NULL       |7.5   |1456000000|145000000|\n",
            "|5      |Joker            |Drama  |2019-10-04 |8.4   |1074251311|55000000 |\n",
            "|2      |The Dark Knight  |Action |2008-07-18 |9.0   |1004558444|185000000|\n",
            "+-------+-----------------+-------+-----------+------+----------+---------+\n",
            "only showing top 5 rows\n",
            "\n"
          ]
        }
      ]
    },
    {
      "cell_type": "markdown",
      "source": [
        "4. Save final merged DataFrame as CSV."
      ],
      "metadata": {
        "id": "orB6pAD3UoVc"
      }
    },
    {
      "cell_type": "code",
      "source": [
        "df_combined.write.mode(\"overwrite\").option(\"header\", True).csv(\"combined_movies.csv\")"
      ],
      "metadata": {
        "id": "bfM4bQ6_VYA3"
      },
      "execution_count": 26,
      "outputs": []
    },
    {
      "cell_type": "markdown",
      "source": [
        "Bonus:"
      ],
      "metadata": {
        "id": "p7xRJ1qyVc7H"
      }
    },
    {
      "cell_type": "markdown",
      "source": [
        "Create a column ReturnOnInvestment = Profit / Budget"
      ],
      "metadata": {
        "id": "6WvmH__yVfbe"
      }
    },
    {
      "cell_type": "code",
      "source": [
        "from pyspark.sql.functions import expr\n",
        "\n",
        "df_roi = df_combined.withColumn(\"ReturnOnInvestment\", expr(\"(Revenue - Budget)/Budget\"))\n",
        "df_roi.select(\"Title\", \"Budget\", \"Revenue\", \"ReturnOnInvestment\").show()"
      ],
      "metadata": {
        "colab": {
          "base_uri": "https://localhost:8080/"
        },
        "id": "npqu5hNzVitf",
        "outputId": "c65be5bb-3bd2-4825-a626-2e4c809734b1"
      },
      "execution_count": 27,
      "outputs": [
        {
          "output_type": "stream",
          "name": "stdout",
          "text": [
            "+-----------------+---------+----------+------------------+\n",
            "|            Title|   Budget|   Revenue|ReturnOnInvestment|\n",
            "+-----------------+---------+----------+------------------+\n",
            "|        Inception|160000000| 825532764|       4.159579775|\n",
            "|  The Dark Knight|185000000|1004558444| 4.430045643243243|\n",
            "|          Titanic|200000000|2187463944|        9.93731972|\n",
            "|     Interstellar|165000000| 677471339| 3.105886903030303|\n",
            "|            Joker| 55000000|1074251311| 18.53184201818182|\n",
            "|     The Notebook| 29000000|      NULL|              NULL|\n",
            "|Avengers: Endgame|356000000|2797800564| 6.858990348314607|\n",
            "|           Barbie|145000000|1456000000| 9.041379310344828|\n",
            "|      Oppenheimer|100000000| 950000000|               8.5|\n",
            "+-----------------+---------+----------+------------------+\n",
            "\n"
          ]
        }
      ]
    },
    {
      "cell_type": "markdown",
      "source": [
        "Show top ROI movies (minimum budget 50M)"
      ],
      "metadata": {
        "id": "jsp1yZjMVyv_"
      }
    },
    {
      "cell_type": "code",
      "source": [
        "df_roi.filter(df_roi.Budget >= 50000000).orderBy(df_roi.ReturnOnInvestment.desc()).show(5, truncate=False)"
      ],
      "metadata": {
        "id": "KSfpvPd_VztS",
        "outputId": "17e40447-34f0-4fbd-cd4f-b6be2cc5878d",
        "colab": {
          "base_uri": "https://localhost:8080/"
        }
      },
      "execution_count": 29,
      "outputs": [
        {
          "output_type": "stream",
          "name": "stdout",
          "text": [
            "+-------+-----------------+-------+-----------+------+----------+---------+------------------+\n",
            "|MovieID|Title            |Genre  |ReleaseDate|Rating|Revenue   |Budget   |ReturnOnInvestment|\n",
            "+-------+-----------------+-------+-----------+------+----------+---------+------------------+\n",
            "|5      |Joker            |Drama  |2019-10-04 |8.4   |1074251311|55000000 |18.53184201818182 |\n",
            "|3      |Titanic          |Romance|1997-12-19 |7.8   |2187463944|200000000|9.93731972        |\n",
            "|8      |Barbie           |Drama  |NULL       |7.5   |1456000000|145000000|9.041379310344828 |\n",
            "|9      |Oppenheimer      |Drama  |NULL       |8.6   |950000000 |100000000|8.5               |\n",
            "|7      |Avengers: Endgame|Action |2019-04-26 |8.4   |2797800564|356000000|6.858990348314607 |\n",
            "+-------+-----------------+-------+-----------+------+----------+---------+------------------+\n",
            "only showing top 5 rows\n",
            "\n"
          ]
        }
      ]
    },
    {
      "cell_type": "markdown",
      "source": [
        "Plot genre-wise ROI as a bar chart using Pandas"
      ],
      "metadata": {
        "id": "GCP6LQifV8SB"
      }
    },
    {
      "cell_type": "code",
      "source": [
        "# Convert to Pandas\n",
        "df_pandas = df_roi.select(\"Genre\", \"ReturnOnInvestment\").toPandas()\n",
        "\n",
        "# Group by genre and calculate average ROI\n",
        "genre_roi = df_pandas.groupby(\"Genre\")[\"ReturnOnInvestment\"].mean().sort_values(ascending=False)\n",
        "\n",
        "# Plot\n",
        "import matplotlib.pyplot as plt\n",
        "\n",
        "plt.figure(figsize=(10,6))\n",
        "genre_roi.plot(kind='bar', color='skyblue')\n",
        "plt.title(\"Average ROI by Genre\")\n",
        "plt.xlabel(\"Genre\")\n",
        "plt.ylabel(\"Average ROI\")\n",
        "plt.grid(axis='y')\n",
        "plt.tight_layout()\n",
        "plt.show()"
      ],
      "metadata": {
        "id": "BPuPRVsxV4du",
        "outputId": "a1a85045-3771-41c9-f941-5acf24fb9be6",
        "colab": {
          "base_uri": "https://localhost:8080/",
          "height": 433
        }
      },
      "execution_count": 30,
      "outputs": [
        {
          "output_type": "display_data",
          "data": {
            "text/plain": [
              "<Figure size 1000x600 with 1 Axes>"
            ],
            "image/png": "[encoded data removed]"
          },
          "metadata": {}
        }
      ]
    }
  ]
}