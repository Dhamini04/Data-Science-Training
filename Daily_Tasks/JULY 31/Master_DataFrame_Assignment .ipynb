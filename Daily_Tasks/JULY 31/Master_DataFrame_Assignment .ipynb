{
  "nbformat": 4,
  "nbformat_minor": 0,
  "metadata": {
    "colab": {
      "provenance": []
    },
    "kernelspec": {
      "name": "python3",
      "display_name": "Python 3"
    },
    "language_info": {
      "name": "python"
    }
  },
  "cells": [
    {
      "cell_type": "code",
      "execution_count": 4,
      "metadata": {
        "id": "43LlNSlBujks"
      },
      "outputs": [],
      "source": [
        "import pandas as pd"
      ]
    },
    {
      "cell_type": "markdown",
      "source": [
        "PART 1: Pandas DataFrame Operations"
      ],
      "metadata": {
        "id": "Toi_f4Mp8BeS"
      }
    },
    {
      "cell_type": "markdown",
      "source": [
        "\n",
        "1. Load the CSV using pandas .\n",
        "2. Print schema, head, shape, dtypes.\n",
        "3. Select Customer , Product , Profit columns.\n",
        "4. Filter orders where Profit > 2000 and Discount = 0 .\n",
        "5. Sort by Profit descending.\n",
        "6. GroupBy Category → Total Profit, Avg Discount.\n",
        "7. Add a column TotalPrice = Quantity * UnitPrice .\n",
        "8. Drop the SubCategory column.\n",
        "9. Fill nulls in Discount with 0.10.\n",
        "10. Apply a function to categorize orders:"
      ],
      "metadata": {
        "id": "iF4Ot-vUvK7_"
      }
    },
    {
      "cell_type": "code",
      "source": [
        "#1\n",
        "df = pd.read_csv(\"superstore.csv\")"
      ],
      "metadata": {
        "id": "sFMhsVHDvdHB"
      },
      "execution_count": 5,
      "outputs": []
    },
    {
      "cell_type": "code",
      "source": [
        "# Step 2: Schema, head, shape, dtypes\n",
        "print(\"Schema:\")\n",
        "print(df.info())\n",
        "print(\"\\nHead:\")\n",
        "print(df.head())\n",
        "print(\"\\nShape:\", df.shape)\n",
        "print(\"\\nData Types:\\n\", df.dtypes)"
      ],
      "metadata": {
        "colab": {
          "base_uri": "https://localhost:8080/"
        },
        "id": "IDo4tGaVvsW4",
        "outputId": "95049a32-c55f-4592-91eb-ab9e9437a1da"
      },
      "execution_count": 6,
      "outputs": [
        {
          "output_type": "stream",
          "name": "stdout",
          "text": [
            "Schema:\n",
            "<class 'pandas.core.frame.DataFrame'>\n",
            "RangeIndex: 5 entries, 0 to 4\n",
            "Data columns (total 12 columns):\n",
            " #   Column       Non-Null Count  Dtype  \n",
            "---  ------       --------------  -----  \n",
            " 0   OrderID      5 non-null      object \n",
            " 1   OrderDate    5 non-null      object \n",
            " 2   Customer     5 non-null      object \n",
            " 3   Segment      5 non-null      object \n",
            " 4   Region       5 non-null      object \n",
            " 5   Product      5 non-null      object \n",
            " 6   Category     5 non-null      object \n",
            " 7   SubCategory  5 non-null      object \n",
            " 8   Quantity     5 non-null      int64  \n",
            " 9   UnitPrice    5 non-null      int64  \n",
            " 10  Discount     5 non-null      float64\n",
            " 11  Profit       5 non-null      int64  \n",
            "dtypes: float64(1), int64(3), object(8)\n",
            "memory usage: 612.0+ bytes\n",
            "None\n",
            "\n",
            "Head:\n",
            "   OrderID   OrderDate Customer      Segment Region   Product  \\\n",
            "0  CA-1001  2023-01-15     Ravi     Consumer  South    Laptop   \n",
            "1  CA-1002  2023-02-20    Priya    Corporate  North   Printer   \n",
            "2  CA-1003  2023-01-25     Amit     Consumer   East  Notebook   \n",
            "3  CA-1004  2023-03-01    Anita  Home Office   West     Table   \n",
            "4  CA-1005  2023-02-05    Divya     Consumer  South     Phone   \n",
            "\n",
            "          Category  SubCategory  Quantity  UnitPrice  Discount  Profit  \n",
            "0       Technology    Computers         1      55000      0.10    5000  \n",
            "1       Technology  Peripherals         2      12000      0.15    1800  \n",
            "2  Office Supplies        Paper         3        200      0.05     150  \n",
            "3        Furniture       Tables         1      18000      0.20   -1500  \n",
            "4       Technology       Phones         2      20000      0.00    3000  \n",
            "\n",
            "Shape: (5, 12)\n",
            "\n",
            "Data Types:\n",
            " OrderID         object\n",
            "OrderDate       object\n",
            "Customer        object\n",
            "Segment         object\n",
            "Region          object\n",
            "Product         object\n",
            "Category        object\n",
            "SubCategory     object\n",
            "Quantity         int64\n",
            "UnitPrice        int64\n",
            "Discount       float64\n",
            "Profit           int64\n",
            "dtype: object\n"
          ]
        }
      ]
    },
    {
      "cell_type": "code",
      "source": [
        "# Step 3: Select Customer, Product, Profit columns\n",
        "print(\"\\nSelected Columns:\")\n",
        "print(df[[\"Customer\", \"Product\", \"Profit\"]])"
      ],
      "metadata": {
        "colab": {
          "base_uri": "https://localhost:8080/"
        },
        "id": "1p24n6ocv2qd",
        "outputId": "c76ada18-f731-41b2-e253-8a9854221f5c"
      },
      "execution_count": 7,
      "outputs": [
        {
          "output_type": "stream",
          "name": "stdout",
          "text": [
            "\n",
            "Selected Columns:\n",
            "  Customer   Product  Profit\n",
            "0     Ravi    Laptop    5000\n",
            "1    Priya   Printer    1800\n",
            "2     Amit  Notebook     150\n",
            "3    Anita     Table   -1500\n",
            "4    Divya     Phone    3000\n"
          ]
        }
      ]
    },
    {
      "cell_type": "code",
      "source": [
        "# Step 4: Filter Profit > 2000 and Discount = 0\n",
        "filtered_df = df[(df[\"Profit\"] > 2000) & (df[\"Discount\"] == 0.0)]\n",
        "print(\"\\nFiltered Orders (Profit > 2000 & Discount = 0):\")\n",
        "print(filtered_df)"
      ],
      "metadata": {
        "colab": {
          "base_uri": "https://localhost:8080/"
        },
        "id": "jxeYfyeFv__p",
        "outputId": "c43b3573-b5d1-40f3-e65c-bfa281655bce"
      },
      "execution_count": 8,
      "outputs": [
        {
          "output_type": "stream",
          "name": "stdout",
          "text": [
            "\n",
            "Filtered Orders (Profit > 2000 & Discount = 0):\n",
            "   OrderID   OrderDate Customer   Segment Region Product    Category  \\\n",
            "4  CA-1005  2023-02-05    Divya  Consumer  South   Phone  Technology   \n",
            "\n",
            "  SubCategory  Quantity  UnitPrice  Discount  Profit  \n",
            "4      Phones         2      20000       0.0    3000  \n"
          ]
        }
      ]
    },
    {
      "cell_type": "code",
      "source": [
        "# Step 5: Sort by Profit descending\n",
        "sorted_df = df.sort_values(by=\"Profit\", ascending=False)\n",
        "print(\"\\nSorted by Profit Descending:\")\n",
        "print(sorted_df)"
      ],
      "metadata": {
        "colab": {
          "base_uri": "https://localhost:8080/"
        },
        "id": "GJpx7iGzwEmD",
        "outputId": "b3230e1e-3c88-4fdf-c3d2-5b4f02d76b6d"
      },
      "execution_count": 9,
      "outputs": [
        {
          "output_type": "stream",
          "name": "stdout",
          "text": [
            "\n",
            "Sorted by Profit Descending:\n",
            "   OrderID   OrderDate Customer      Segment Region   Product  \\\n",
            "0  CA-1001  2023-01-15     Ravi     Consumer  South    Laptop   \n",
            "4  CA-1005  2023-02-05    Divya     Consumer  South     Phone   \n",
            "1  CA-1002  2023-02-20    Priya    Corporate  North   Printer   \n",
            "2  CA-1003  2023-01-25     Amit     Consumer   East  Notebook   \n",
            "3  CA-1004  2023-03-01    Anita  Home Office   West     Table   \n",
            "\n",
            "          Category  SubCategory  Quantity  UnitPrice  Discount  Profit  \n",
            "0       Technology    Computers         1      55000      0.10    5000  \n",
            "4       Technology       Phones         2      20000      0.00    3000  \n",
            "1       Technology  Peripherals         2      12000      0.15    1800  \n",
            "2  Office Supplies        Paper         3        200      0.05     150  \n",
            "3        Furniture       Tables         1      18000      0.20   -1500  \n"
          ]
        }
      ]
    },
    {
      "cell_type": "code",
      "source": [
        "# Step 6: GroupBy Category → Total Profit, Avg Discount\n",
        "grouped = df.groupby(\"Category\").agg({\n",
        "    \"Profit\": \"sum\",\n",
        "    \"Discount\": \"mean\"\n",
        "}).reset_index()\n",
        "print(\"\\nGrouped by Category (Total Profit & Avg Discount):\")\n",
        "print(grouped)"
      ],
      "metadata": {
        "colab": {
          "base_uri": "https://localhost:8080/"
        },
        "id": "wLL6RCNBwPoM",
        "outputId": "27366f39-d551-4dea-cf51-ed9f2a33ce0b"
      },
      "execution_count": 12,
      "outputs": [
        {
          "output_type": "stream",
          "name": "stdout",
          "text": [
            "\n",
            "Grouped by Category (Total Profit & Avg Discount):\n",
            "          Category  Profit  Discount\n",
            "0        Furniture   -1500  0.200000\n",
            "1  Office Supplies     150  0.050000\n",
            "2       Technology    9800  0.083333\n"
          ]
        }
      ]
    },
    {
      "cell_type": "code",
      "source": [
        "# Step 7: Add TotalPrice = Quantity * UnitPrice\n",
        "df[\"TotalPrice\"] = df[\"Quantity\"] * df[\"UnitPrice\"]\n",
        "print(\"\\nWith TotalPrice Column:\")\n",
        "print(df[[\"Product\", \"Quantity\", \"UnitPrice\", \"TotalPrice\"]])"
      ],
      "metadata": {
        "colab": {
          "base_uri": "https://localhost:8080/"
        },
        "id": "70O9umjcwZnQ",
        "outputId": "d572d610-177b-449f-da2e-18a2e8c6ee67"
      },
      "execution_count": 13,
      "outputs": [
        {
          "output_type": "stream",
          "name": "stdout",
          "text": [
            "\n",
            "With TotalPrice Column:\n",
            "    Product  Quantity  UnitPrice  TotalPrice\n",
            "0    Laptop         1      55000       55000\n",
            "1   Printer         2      12000       24000\n",
            "2  Notebook         3        200         600\n",
            "3     Table         1      18000       18000\n",
            "4     Phone         2      20000       40000\n"
          ]
        }
      ]
    },
    {
      "cell_type": "code",
      "source": [
        "# Step 8: Drop SubCategory column\n",
        "df = df.drop(columns=[\"SubCategory\"])\n",
        "print(\"\\nAfter Dropping 'SubCategory':\")\n",
        "print(df.columns)"
      ],
      "metadata": {
        "colab": {
          "base_uri": "https://localhost:8080/"
        },
        "id": "dbclmSGSwpDq",
        "outputId": "ca365926-1a6f-450d-85ac-1df6eb3be139"
      },
      "execution_count": 14,
      "outputs": [
        {
          "output_type": "stream",
          "name": "stdout",
          "text": [
            "\n",
            "After Dropping 'SubCategory':\n",
            "Index(['OrderID', 'OrderDate', 'Customer', 'Segment', 'Region', 'Product',\n",
            "       'Category', 'Quantity', 'UnitPrice', 'Discount', 'Profit',\n",
            "       'TotalPrice'],\n",
            "      dtype='object')\n"
          ]
        }
      ]
    },
    {
      "cell_type": "code",
      "source": [
        "# Step 9: Fill nulls in Discount with 0.10\n",
        "df[\"Discount\"] = df[\"Discount\"].fillna(0.10)"
      ],
      "metadata": {
        "id": "XSsWWGZBw01j"
      },
      "execution_count": 15,
      "outputs": []
    },
    {
      "cell_type": "code",
      "source": [
        "# Step 10: Apply classification function\n",
        "def classify(row):\n",
        "    if row['Profit'] > 4000:\n",
        "        return 'High'\n",
        "    elif row['Profit'] > 0:\n",
        "        return 'Medium'\n",
        "    else:\n",
        "        return 'Low'\n",
        "\n",
        "df[\"ProfitCategory\"] = df.apply(classify, axis=1)\n",
        "print(\"\\nWith ProfitCategory:\")\n",
        "print(df[[\"Product\", \"Profit\", \"ProfitCategory\"]])"
      ],
      "metadata": {
        "colab": {
          "base_uri": "https://localhost:8080/"
        },
        "id": "X4hJeWQyxBGc",
        "outputId": "d7824190-b8de-4877-e4d0-cfe9a465a34b"
      },
      "execution_count": 16,
      "outputs": [
        {
          "output_type": "stream",
          "name": "stdout",
          "text": [
            "\n",
            "With ProfitCategory:\n",
            "    Product  Profit ProfitCategory\n",
            "0    Laptop    5000           High\n",
            "1   Printer    1800         Medium\n",
            "2  Notebook     150         Medium\n",
            "3     Table   -1500            Low\n",
            "4     Phone    3000         Medium\n"
          ]
        }
      ]
    },
    {
      "cell_type": "markdown",
      "source": [
        "PART 2: PySpark DataFrame Operations"
      ],
      "metadata": {
        "id": "TRRTGS1nxSRo"
      }
    },
    {
      "cell_type": "code",
      "source": [
        "pip install pyspark"
      ],
      "metadata": {
        "colab": {
          "base_uri": "https://localhost:8080/"
        },
        "id": "IZr6fGU3xTiy",
        "outputId": "81a51e17-9de5-4ff9-84f2-0c512ccbc691"
      },
      "execution_count": 17,
      "outputs": [
        {
          "output_type": "stream",
          "name": "stdout",
          "text": [
            "Requirement already satisfied: pyspark in /usr/local/lib/python3.11/dist-packages (3.5.1)\n",
            "Requirement already satisfied: py4j==0.10.9.7 in /usr/local/lib/python3.11/dist-packages (from pyspark) (0.10.9.7)\n"
          ]
        }
      ]
    },
    {
      "cell_type": "code",
      "source": [
        "from pyspark.sql import SparkSession\n",
        "from pyspark.sql.functions import col\n",
        "\n",
        "# Start Spark session\n",
        "spark = SparkSession.builder.appName(\"SuperstoreAnalysis\").getOrCreate()\n"
      ],
      "metadata": {
        "id": "828lc-wQxhfA"
      },
      "execution_count": 18,
      "outputs": []
    },
    {
      "cell_type": "markdown",
      "source": [
        "1. Load the same CSV using PySpark.\n",
        "2. Show schema and first 5 rows.\n",
        "3. Select columns, Rename Customer → Client .\n",
        "4. Filter Segment = 'Consumer' and Profit < 1000 .\n",
        "5. GroupBy Region and show average profit.\n",
        "6. Use withColumn to create TotalPrice = Quantity * UnitPrice .\n",
        "7. Use when().otherwise() to classify Profit as:\n",
        "'Profit' > 2000 → 'High'\n",
        "'Profit' <= 0 → 'Loss'\n",
        "else 'Medium'\n",
        "8. Use drop() to remove SubCategory .\n",
        "9. Handle nulls in Discount using fillna(0.10) .\n",
        "10. Convert OrderDate to date type and extract year , month ."
      ],
      "metadata": {
        "id": "ucSzk_ylx4Lx"
      }
    },
    {
      "cell_type": "code",
      "source": [
        "#1\n",
        "df_spark = spark.read.csv(\"superstore.csv\", header=True, inferSchema=True)\n"
      ],
      "metadata": {
        "id": "X7TP6VioxmYe"
      },
      "execution_count": 19,
      "outputs": []
    },
    {
      "cell_type": "code",
      "source": [
        "#2\n",
        "df_spark.printSchema()\n",
        "df_spark.show(5)\n"
      ],
      "metadata": {
        "colab": {
          "base_uri": "https://localhost:8080/"
        },
        "id": "0moA0ejnxwiZ",
        "outputId": "8a950451-d7b0-4464-9750-5b5f4df88fea"
      },
      "execution_count": 20,
      "outputs": [
        {
          "output_type": "stream",
          "name": "stdout",
          "text": [
            "root\n",
            " |-- OrderID: string (nullable = true)\n",
            " |-- OrderDate: date (nullable = true)\n",
            " |-- Customer: string (nullable = true)\n",
            " |-- Segment: string (nullable = true)\n",
            " |-- Region: string (nullable = true)\n",
            " |-- Product: string (nullable = true)\n",
            " |-- Category: string (nullable = true)\n",
            " |-- SubCategory: string (nullable = true)\n",
            " |-- Quantity: integer (nullable = true)\n",
            " |-- UnitPrice: integer (nullable = true)\n",
            " |-- Discount: double (nullable = true)\n",
            " |-- Profit: integer (nullable = true)\n",
            "\n",
            "+-------+----------+--------+-----------+------+--------+---------------+-----------+--------+---------+--------+------+\n",
            "|OrderID| OrderDate|Customer|    Segment|Region| Product|       Category|SubCategory|Quantity|UnitPrice|Discount|Profit|\n",
            "+-------+----------+--------+-----------+------+--------+---------------+-----------+--------+---------+--------+------+\n",
            "|CA-1001|2023-01-15|    Ravi|   Consumer| South|  Laptop|     Technology|  Computers|       1|    55000|     0.1|  5000|\n",
            "|CA-1002|2023-02-20|   Priya|  Corporate| North| Printer|     Technology|Peripherals|       2|    12000|    0.15|  1800|\n",
            "|CA-1003|2023-01-25|    Amit|   Consumer|  East|Notebook|Office Supplies|      Paper|       3|      200|    0.05|   150|\n",
            "|CA-1004|2023-03-01|   Anita|Home Office|  West|   Table|      Furniture|     Tables|       1|    18000|     0.2| -1500|\n",
            "|CA-1005|2023-02-05|   Divya|   Consumer| South|   Phone|     Technology|     Phones|       2|    20000|     0.0|  3000|\n",
            "+-------+----------+--------+-----------+------+--------+---------------+-----------+--------+---------+--------+------+\n",
            "\n"
          ]
        }
      ]
    },
    {
      "cell_type": "code",
      "source": [
        "#3\n",
        "selected_df = df_spark.select(\n",
        "    col(\"Customer\").alias(\"Client\"),\n",
        "    \"Product\",\n",
        "    \"Profit\"\n",
        ")\n",
        "selected_df.show()"
      ],
      "metadata": {
        "colab": {
          "base_uri": "https://localhost:8080/"
        },
        "id": "WWJ5jR5Ox15x",
        "outputId": "81349f85-170d-4260-e280-a2910ba7288b"
      },
      "execution_count": 21,
      "outputs": [
        {
          "output_type": "stream",
          "name": "stdout",
          "text": [
            "+------+--------+------+\n",
            "|Client| Product|Profit|\n",
            "+------+--------+------+\n",
            "|  Ravi|  Laptop|  5000|\n",
            "| Priya| Printer|  1800|\n",
            "|  Amit|Notebook|   150|\n",
            "| Anita|   Table| -1500|\n",
            "| Divya|   Phone|  3000|\n",
            "+------+--------+------+\n",
            "\n"
          ]
        }
      ]
    },
    {
      "cell_type": "code",
      "source": [
        "#4\n",
        "filtered_df = df_spark.filter((col(\"Segment\") == \"Consumer\") & (col(\"Profit\") < 1000))\n",
        "filtered_df.show()\n"
      ],
      "metadata": {
        "colab": {
          "base_uri": "https://localhost:8080/"
        },
        "id": "rnhbia69yUF5",
        "outputId": "a094a848-061c-4b45-f8a7-6342457ac3e5"
      },
      "execution_count": 22,
      "outputs": [
        {
          "output_type": "stream",
          "name": "stdout",
          "text": [
            "+-------+----------+--------+--------+------+--------+---------------+-----------+--------+---------+--------+------+\n",
            "|OrderID| OrderDate|Customer| Segment|Region| Product|       Category|SubCategory|Quantity|UnitPrice|Discount|Profit|\n",
            "+-------+----------+--------+--------+------+--------+---------------+-----------+--------+---------+--------+------+\n",
            "|CA-1003|2023-01-25|    Amit|Consumer|  East|Notebook|Office Supplies|      Paper|       3|      200|    0.05|   150|\n",
            "+-------+----------+--------+--------+------+--------+---------------+-----------+--------+---------+--------+------+\n",
            "\n"
          ]
        }
      ]
    },
    {
      "cell_type": "code",
      "source": [
        "#5\n",
        "df_spark.groupBy(\"Region\").avg(\"Profit\").show()\n"
      ],
      "metadata": {
        "colab": {
          "base_uri": "https://localhost:8080/"
        },
        "id": "hMjfWu8mycLZ",
        "outputId": "db28bb41-c37f-4129-c51d-6abce9e52c26"
      },
      "execution_count": 23,
      "outputs": [
        {
          "output_type": "stream",
          "name": "stdout",
          "text": [
            "+------+-----------+\n",
            "|Region|avg(Profit)|\n",
            "+------+-----------+\n",
            "| South|     4000.0|\n",
            "|  East|      150.0|\n",
            "|  West|    -1500.0|\n",
            "| North|     1800.0|\n",
            "+------+-----------+\n",
            "\n"
          ]
        }
      ]
    },
    {
      "cell_type": "code",
      "source": [
        "#6\n",
        "df_spark = df_spark.withColumn(\"TotalPrice\", col(\"Quantity\") * col(\"UnitPrice\"))\n",
        "df_spark.select(\"Product\", \"Quantity\", \"UnitPrice\", \"TotalPrice\").show()\n"
      ],
      "metadata": {
        "colab": {
          "base_uri": "https://localhost:8080/"
        },
        "id": "4YcqRJx_yqup",
        "outputId": "66966d8e-8b76-4a7d-f0d3-f6958d5ca188"
      },
      "execution_count": 24,
      "outputs": [
        {
          "output_type": "stream",
          "name": "stdout",
          "text": [
            "+--------+--------+---------+----------+\n",
            "| Product|Quantity|UnitPrice|TotalPrice|\n",
            "+--------+--------+---------+----------+\n",
            "|  Laptop|       1|    55000|     55000|\n",
            "| Printer|       2|    12000|     24000|\n",
            "|Notebook|       3|      200|       600|\n",
            "|   Table|       1|    18000|     18000|\n",
            "|   Phone|       2|    20000|     40000|\n",
            "+--------+--------+---------+----------+\n",
            "\n"
          ]
        }
      ]
    },
    {
      "cell_type": "code",
      "source": [
        "#7\n",
        "from pyspark.sql.functions import when\n",
        "\n",
        "df_spark = df_spark.withColumn(\n",
        "    \"ProfitCategory\",\n",
        "    when(col(\"Profit\") > 2000, \"High\")\n",
        "    .when(col(\"Profit\") <= 0, \"Loss\")\n",
        "    .otherwise(\"Medium\")\n",
        ")\n",
        "df_spark.select(\"Product\", \"Profit\", \"ProfitCategory\").show()"
      ],
      "metadata": {
        "colab": {
          "base_uri": "https://localhost:8080/"
        },
        "id": "Wz_qjaJmyxaX",
        "outputId": "f0a58253-9c8a-49c2-d271-5c1a14a0894d"
      },
      "execution_count": 26,
      "outputs": [
        {
          "output_type": "stream",
          "name": "stdout",
          "text": [
            "+--------+------+--------------+\n",
            "| Product|Profit|ProfitCategory|\n",
            "+--------+------+--------------+\n",
            "|  Laptop|  5000|          High|\n",
            "| Printer|  1800|        Medium|\n",
            "|Notebook|   150|        Medium|\n",
            "|   Table| -1500|          Loss|\n",
            "|   Phone|  3000|          High|\n",
            "+--------+------+--------------+\n",
            "\n"
          ]
        }
      ]
    },
    {
      "cell_type": "code",
      "source": [
        "#8\n",
        "df_spark = df_spark.drop(\"SubCategory\")\n",
        "print(\"Remaining Columns:\", df_spark.columns)\n"
      ],
      "metadata": {
        "colab": {
          "base_uri": "https://localhost:8080/"
        },
        "id": "uOHDLC4pzMZ4",
        "outputId": "ab5a9a04-b678-4990-e6fa-8e4af8251de3"
      },
      "execution_count": 27,
      "outputs": [
        {
          "output_type": "stream",
          "name": "stdout",
          "text": [
            "Remaining Columns: ['OrderID', 'OrderDate', 'Customer', 'Segment', 'Region', 'Product', 'Category', 'Quantity', 'UnitPrice', 'Discount', 'Profit', 'TotalPrice', 'ProfitCategory']\n"
          ]
        }
      ]
    },
    {
      "cell_type": "code",
      "source": [
        "#9\n",
        "df_spark = df_spark.fillna({\"Discount\": 0.10})\n",
        "df_spark.select(\"Product\", \"Discount\").show()\n"
      ],
      "metadata": {
        "colab": {
          "base_uri": "https://localhost:8080/"
        },
        "id": "s14DbdSXzXfk",
        "outputId": "2914f3ee-e074-4184-f410-93811e1355a1"
      },
      "execution_count": 28,
      "outputs": [
        {
          "output_type": "stream",
          "name": "stdout",
          "text": [
            "+--------+--------+\n",
            "| Product|Discount|\n",
            "+--------+--------+\n",
            "|  Laptop|     0.1|\n",
            "| Printer|    0.15|\n",
            "|Notebook|    0.05|\n",
            "|   Table|     0.2|\n",
            "|   Phone|     0.0|\n",
            "+--------+--------+\n",
            "\n"
          ]
        }
      ]
    },
    {
      "cell_type": "code",
      "source": [
        "#10\n",
        "from pyspark.sql.functions import to_date, year, month\n",
        "\n",
        "df_spark = df_spark.withColumn(\"OrderDate\", to_date(col(\"OrderDate\"), \"yyyy-MM-dd\"))\n",
        "df_spark = df_spark.withColumn(\"Year\", year(col(\"OrderDate\")))\n",
        "df_spark = df_spark.withColumn(\"Month\", month(col(\"OrderDate\")))\n",
        "df_spark.select(\"OrderID\", \"OrderDate\", \"Year\", \"Month\").show()"
      ],
      "metadata": {
        "colab": {
          "base_uri": "https://localhost:8080/"
        },
        "id": "lyFmHZHnzh5n",
        "outputId": "19b7feae-3a74-4c81-9e91-7e130dc29fd3"
      },
      "execution_count": 30,
      "outputs": [
        {
          "output_type": "stream",
          "name": "stdout",
          "text": [
            "+-------+----------+----+-----+\n",
            "|OrderID| OrderDate|Year|Month|\n",
            "+-------+----------+----+-----+\n",
            "|CA-1001|2023-01-15|2023|    1|\n",
            "|CA-1002|2023-02-20|2023|    2|\n",
            "|CA-1003|2023-01-25|2023|    1|\n",
            "|CA-1004|2023-03-01|2023|    3|\n",
            "|CA-1005|2023-02-05|2023|    2|\n",
            "+-------+----------+----+-----+\n",
            "\n"
          ]
        }
      ]
    },
    {
      "cell_type": "markdown",
      "source": [
        "PART 3: Dask DataFrame Operations (Pandas Alternative)"
      ],
      "metadata": {
        "id": "4zoUjma7zyX0"
      }
    },
    {
      "cell_type": "code",
      "source": [
        "!pip install dask"
      ],
      "metadata": {
        "colab": {
          "base_uri": "https://localhost:8080/"
        },
        "id": "Mo-JH7fQzzzl",
        "outputId": "c2544883-ce3e-4df7-b98b-c3faa878f347"
      },
      "execution_count": 31,
      "outputs": [
        {
          "output_type": "stream",
          "name": "stdout",
          "text": [
            "Requirement already satisfied: dask in /usr/local/lib/python3.11/dist-packages (2025.5.0)\n",
            "Requirement already satisfied: click>=8.1 in /usr/local/lib/python3.11/dist-packages (from dask) (8.2.1)\n",
            "Requirement already satisfied: cloudpickle>=3.0.0 in /usr/local/lib/python3.11/dist-packages (from dask) (3.1.1)\n",
            "Requirement already satisfied: fsspec>=2021.09.0 in /usr/local/lib/python3.11/dist-packages (from dask) (2025.3.0)\n",
            "Requirement already satisfied: packaging>=20.0 in /usr/local/lib/python3.11/dist-packages (from dask) (25.0)\n",
            "Requirement already satisfied: partd>=1.4.0 in /usr/local/lib/python3.11/dist-packages (from dask) (1.4.2)\n",
            "Requirement already satisfied: pyyaml>=5.3.1 in /usr/local/lib/python3.11/dist-packages (from dask) (6.0.2)\n",
            "Requirement already satisfied: toolz>=0.10.0 in /usr/local/lib/python3.11/dist-packages (from dask) (0.12.1)\n",
            "Requirement already satisfied: importlib_metadata>=4.13.0 in /usr/local/lib/python3.11/dist-packages (from dask) (8.7.0)\n",
            "Requirement already satisfied: zipp>=3.20 in /usr/local/lib/python3.11/dist-packages (from importlib_metadata>=4.13.0->dask) (3.23.0)\n",
            "Requirement already satisfied: locket in /usr/local/lib/python3.11/dist-packages (from partd>=1.4.0->dask) (1.0.0)\n"
          ]
        }
      ]
    },
    {
      "cell_type": "code",
      "source": [
        "import dask.dataframe as dd\n",
        "df = dd.read_csv('superstore.csv')"
      ],
      "metadata": {
        "id": "n5wpBKRVz8KO"
      },
      "execution_count": 32,
      "outputs": []
    },
    {
      "cell_type": "code",
      "source": [
        "#1\n",
        "avg_discount = df.groupby(\"Category\")[\"Discount\"].mean().compute()\n",
        "print(\"Average Discount by Category:\\n\", avg_discount)\n"
      ],
      "metadata": {
        "colab": {
          "base_uri": "https://localhost:8080/"
        },
        "id": "MrtZFX1H0HZ4",
        "outputId": "463d715b-a3c6-4207-a420-c80f523426ca"
      },
      "execution_count": 33,
      "outputs": [
        {
          "output_type": "stream",
          "name": "stdout",
          "text": [
            "Average Discount by Category:\n",
            " Category\n",
            "Furniture          0.200000\n",
            "Office Supplies    0.050000\n",
            "Technology         0.083333\n",
            "Name: Discount, dtype: float64\n"
          ]
        }
      ]
    },
    {
      "cell_type": "code",
      "source": [
        "#2\n",
        "filtered_df = df[(df[\"Quantity\"] > 1) & (df[\"Profit\"] > 2000)]\n",
        "filtered_df_result = filtered_df.compute()\n",
        "print(filtered_df_result)\n"
      ],
      "metadata": {
        "colab": {
          "base_uri": "https://localhost:8080/"
        },
        "id": "m_d6-qMb0WcO",
        "outputId": "3357d69c-5158-4085-bcc0-492582ca9a97"
      },
      "execution_count": 34,
      "outputs": [
        {
          "output_type": "stream",
          "name": "stdout",
          "text": [
            "   OrderID   OrderDate Customer   Segment Region Product    Category  \\\n",
            "4  CA-1005  2023-02-05    Divya  Consumer  South   Phone  Technology   \n",
            "\n",
            "  SubCategory  Quantity  UnitPrice  Discount  Profit  \n",
            "4      Phones         2      20000       0.0    3000  \n"
          ]
        }
      ]
    },
    {
      "cell_type": "code",
      "source": [
        "#3\n",
        "filtered_df.to_csv(\"filtered_superstore_*.csv\", index=False, single_file=True)\n"
      ],
      "metadata": {
        "colab": {
          "base_uri": "https://localhost:8080/"
        },
        "id": "SS6SVnfe0bOF",
        "outputId": "4e18ab18-7052-4934-b25e-6af5dfe9a52b"
      },
      "execution_count": 35,
      "outputs": [
        {
          "output_type": "execute_result",
          "data": {
            "text/plain": [
              "['/content/filtered_superstore_*.csv']"
            ]
          },
          "metadata": {},
          "execution_count": 35
        }
      ]
    },
    {
      "cell_type": "markdown",
      "source": [
        "PART 4: JSON Handling (Complex Nested)"
      ],
      "metadata": {
        "id": "y3aDCOp-0qo4"
      }
    },
    {
      "cell_type": "code",
      "source": [
        "# Step 1: Import and start Spark\n",
        "from pyspark.sql import SparkSession\n",
        "\n",
        "spark = SparkSession.builder.appName(\"JSONHandling\").getOrCreate()\n",
        "\n",
        "# Step 2: Create sample JSON file\n",
        "import json\n",
        "\n",
        "data = [\n",
        "    {\n",
        "        \"OrderID\": \"CA-1001\",\n",
        "        \"Customer\": {\"Name\": \"Ravi\", \"Segment\": \"Consumer\"},\n",
        "        \"Details\": {\"Region\": \"South\", \"Profit\": 5000}\n",
        "    },\n",
        "    {\n",
        "        \"OrderID\": \"CA-1002\",\n",
        "        \"Customer\": {\"Name\": \"Priya\", \"Segment\": \"Corporate\"},\n",
        "        \"Details\": {\"Region\": \"North\", \"Profit\": 1800}\n",
        "    }\n",
        "]\n",
        "\n",
        "with open(\"orders.json\", \"w\") as f:\n",
        "    json.dump(data, f, indent=2)\n",
        "\n",
        "# Step 3: Load the JSON using PySpark\n",
        "df_json = spark.read.json(\"orders.json\", multiLine=True)\n",
        "\n",
        "# Step 4: Explore the data\n",
        "df_json.printSchema()\n",
        "df_json.select(\"OrderID\", \"Customer.Name\", \"Details.Profit\").show()\n"
      ],
      "metadata": {
        "colab": {
          "base_uri": "https://localhost:8080/"
        },
        "id": "gftv5MLl51EQ",
        "outputId": "eeff2459-1f44-4a4c-a30a-dbd8cb64802d"
      },
      "execution_count": 7,
      "outputs": [
        {
          "output_type": "stream",
          "name": "stdout",
          "text": [
            "root\n",
            " |-- Customer: struct (nullable = true)\n",
            " |    |-- Name: string (nullable = true)\n",
            " |    |-- Segment: string (nullable = true)\n",
            " |-- Details: struct (nullable = true)\n",
            " |    |-- Profit: long (nullable = true)\n",
            " |    |-- Region: string (nullable = true)\n",
            " |-- OrderID: string (nullable = true)\n",
            "\n",
            "+-------+-----+------+\n",
            "|OrderID| Name|Profit|\n",
            "+-------+-----+------+\n",
            "|CA-1001| Ravi|  5000|\n",
            "|CA-1002|Priya|  1800|\n",
            "+-------+-----+------+\n",
            "\n"
          ]
        }
      ]
    }
  ]
}
