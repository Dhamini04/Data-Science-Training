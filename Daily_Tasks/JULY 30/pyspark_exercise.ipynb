{
  "nbformat": 4,
  "nbformat_minor": 0,
  "metadata": {
    "colab": {
      "provenance": []
    },
    "kernelspec": {
      "name": "python3",
      "display_name": "Python 3"
    },
    "language_info": {
      "name": "python"
    }
  },
  "cells": [
    {
      "cell_type": "markdown",
      "source": [
        "**Product Sales Analysis**\n",
        "\n",
        "\n",
        "\n"
      ],
      "metadata": {
        "id": "19O0Kn4dNngi"
      }
    },
    {
      "cell_type": "code",
      "execution_count": 1,
      "metadata": {
        "id": "PFg8B99hKcQI"
      },
      "outputs": [],
      "source": [
        "\n",
        "from pyspark.sql import SparkSession\n",
        "spark = SparkSession.builder.appName(\"ProductSalesAnalysis\").getOrCreate()"
      ]
    },
    {
      "cell_type": "markdown",
      "source": [
        "Load Sales Data from CSV"
      ],
      "metadata": {
        "id": "ka3RUpBSNeZd"
      }
    },
    {
      "cell_type": "code",
      "source": [
        "data = \"\"\"OrderID,Product,Category,Quantity,UnitPrice,Region\n",
        "1001,Mobile,Electronics,2,15000,North\n",
        "1002,Laptop,Electronics,1,55000,South\n",
        "1003,T-Shirt,Apparel,3,500,East\n",
        "1004,Jeans,Apparel,2,1200,North\n",
        "1005,TV,Electronics,1,40000,West\n",
        "1006,Shoes,Footwear,4,2000,South\n",
        "1007,Watch,Accessories,2,3000,East\n",
        "1008,Headphones,Electronics,3,2500,North\n",
        "\"\"\"\n",
        "\n",
        "with open(\"sales.csv\", \"w\") as f:\n",
        "    f.write(data)\n",
        "\n",
        "df = spark.read.csv(\"sales.csv\", header=True, inferSchema=True)\n",
        "df.printSchema()\n",
        "df.show(5)"
      ],
      "metadata": {
        "colab": {
          "base_uri": "https://localhost:8080/"
        },
        "id": "0tOyZeNGKkO-",
        "outputId": "41cf516b-7682-419b-fe43-e0b7e6128aa0"
      },
      "execution_count": 2,
      "outputs": [
        {
          "output_type": "stream",
          "name": "stdout",
          "text": [
            "root\n",
            " |-- OrderID: integer (nullable = true)\n",
            " |-- Product: string (nullable = true)\n",
            " |-- Category: string (nullable = true)\n",
            " |-- Quantity: integer (nullable = true)\n",
            " |-- UnitPrice: integer (nullable = true)\n",
            " |-- Region: string (nullable = true)\n",
            "\n",
            "+-------+-------+-----------+--------+---------+------+\n",
            "|OrderID|Product|   Category|Quantity|UnitPrice|Region|\n",
            "+-------+-------+-----------+--------+---------+------+\n",
            "|   1001| Mobile|Electronics|       2|    15000| North|\n",
            "|   1002| Laptop|Electronics|       1|    55000| South|\n",
            "|   1003|T-Shirt|    Apparel|       3|      500|  East|\n",
            "|   1004|  Jeans|    Apparel|       2|     1200| North|\n",
            "|   1005|     TV|Electronics|       1|    40000|  West|\n",
            "+-------+-------+-----------+--------+---------+------+\n",
            "only showing top 5 rows\n",
            "\n"
          ]
        }
      ]
    },
    {
      "cell_type": "markdown",
      "source": [
        "Business Questions"
      ],
      "metadata": {
        "id": "i0m98VXiK1Or"
      }
    },
    {
      "cell_type": "markdown",
      "source": [
        "1. Add a new column TotalPrice = Quantity × UnitPrice"
      ],
      "metadata": {
        "id": "OBOTPR4QK_tz"
      }
    },
    {
      "cell_type": "code",
      "source": [
        "from pyspark.sql.functions import col\n",
        "\n",
        "df = df.withColumn(\"TotalPrice\", col(\"Quantity\") * col(\"UnitPrice\"))\n",
        "df.show()"
      ],
      "metadata": {
        "colab": {
          "base_uri": "https://localhost:8080/"
        },
        "id": "7eYYgVXFLHEl",
        "outputId": "ae239e08-8ae0-4549-8ceb-53e399a1a557"
      },
      "execution_count": 3,
      "outputs": [
        {
          "output_type": "stream",
          "name": "stdout",
          "text": [
            "+-------+----------+-----------+--------+---------+------+----------+\n",
            "|OrderID|   Product|   Category|Quantity|UnitPrice|Region|TotalPrice|\n",
            "+-------+----------+-----------+--------+---------+------+----------+\n",
            "|   1001|    Mobile|Electronics|       2|    15000| North|     30000|\n",
            "|   1002|    Laptop|Electronics|       1|    55000| South|     55000|\n",
            "|   1003|   T-Shirt|    Apparel|       3|      500|  East|      1500|\n",
            "|   1004|     Jeans|    Apparel|       2|     1200| North|      2400|\n",
            "|   1005|        TV|Electronics|       1|    40000|  West|     40000|\n",
            "|   1006|     Shoes|   Footwear|       4|     2000| South|      8000|\n",
            "|   1007|     Watch|Accessories|       2|     3000|  East|      6000|\n",
            "|   1008|Headphones|Electronics|       3|     2500| North|      7500|\n",
            "+-------+----------+-----------+--------+---------+------+----------+\n",
            "\n"
          ]
        }
      ]
    },
    {
      "cell_type": "markdown",
      "source": [
        "2. Total revenue generated across all regions."
      ],
      "metadata": {
        "id": "8nuCszLyLOcU"
      }
    },
    {
      "cell_type": "code",
      "source": [
        "df.agg({\"TotalPrice\": \"sum\"}).show()"
      ],
      "metadata": {
        "colab": {
          "base_uri": "https://localhost:8080/"
        },
        "id": "hli3GdKCLNIL",
        "outputId": "c74651b5-9c39-48c0-bc2f-410ef1d43947"
      },
      "execution_count": 4,
      "outputs": [
        {
          "output_type": "stream",
          "name": "stdout",
          "text": [
            "+---------------+\n",
            "|sum(TotalPrice)|\n",
            "+---------------+\n",
            "|         150400|\n",
            "+---------------+\n",
            "\n"
          ]
        }
      ]
    },
    {
      "cell_type": "markdown",
      "source": [
        "3. Category-wise revenue sorted in descending order."
      ],
      "metadata": {
        "id": "putoqlvnLWO_"
      }
    },
    {
      "cell_type": "code",
      "source": [
        "df.groupBy(\"Category\").sum(\"TotalPrice\").orderBy(\"sum(TotalPrice)\", ascending=False).show()"
      ],
      "metadata": {
        "colab": {
          "base_uri": "https://localhost:8080/"
        },
        "id": "fTWXFpQeLm_L",
        "outputId": "d6bb9f7b-074e-40e5-fa4c-c52e87ea890c"
      },
      "execution_count": 5,
      "outputs": [
        {
          "output_type": "stream",
          "name": "stdout",
          "text": [
            "+-----------+---------------+\n",
            "|   Category|sum(TotalPrice)|\n",
            "+-----------+---------------+\n",
            "|Electronics|         132500|\n",
            "|   Footwear|           8000|\n",
            "|Accessories|           6000|\n",
            "|    Apparel|           3900|\n",
            "+-----------+---------------+\n",
            "\n"
          ]
        }
      ]
    },
    {
      "cell_type": "markdown",
      "source": [
        "4. Region with the highest number of orders\n"
      ],
      "metadata": {
        "id": "DRrcNWkyLmAO"
      }
    },
    {
      "cell_type": "code",
      "source": [
        "from pyspark.sql.functions import count\n",
        "\n",
        "df.groupBy(\"Region\").agg(count(\"OrderID\").alias(\"OrderCount\")).orderBy(\"OrderCount\", ascending=False).show(1)"
      ],
      "metadata": {
        "colab": {
          "base_uri": "https://localhost:8080/"
        },
        "id": "t89s8EzkLupY",
        "outputId": "02dade8f-6280-4cfe-98e5-f9290aec670f"
      },
      "execution_count": 6,
      "outputs": [
        {
          "output_type": "stream",
          "name": "stdout",
          "text": [
            "+------+----------+\n",
            "|Region|OrderCount|\n",
            "+------+----------+\n",
            "| North|         3|\n",
            "+------+----------+\n",
            "only showing top 1 row\n",
            "\n"
          ]
        }
      ]
    },
    {
      "cell_type": "markdown",
      "source": [
        "5. Average Unit Price per Category"
      ],
      "metadata": {
        "id": "7n6jUUXeL1OU"
      }
    },
    {
      "cell_type": "code",
      "source": [
        "from pyspark.sql.functions import avg\n",
        "\n",
        "avg_price_per_category = df.groupBy(\"Category\") \\\n",
        "    .agg(avg(\"UnitPrice\").alias(\"AvgUnitPrice\"))\n",
        "\n",
        "avg_price_per_category.show()"
      ],
      "metadata": {
        "colab": {
          "base_uri": "https://localhost:8080/"
        },
        "id": "9WwtqEkNLyPC",
        "outputId": "6f98b88b-c25c-4876-9cfd-c41796e1b8e3"
      },
      "execution_count": 7,
      "outputs": [
        {
          "output_type": "stream",
          "name": "stdout",
          "text": [
            "+-----------+------------+\n",
            "|   Category|AvgUnitPrice|\n",
            "+-----------+------------+\n",
            "|    Apparel|       850.0|\n",
            "|Electronics|     28125.0|\n",
            "|   Footwear|      2000.0|\n",
            "|Accessories|      3000.0|\n",
            "+-----------+------------+\n",
            "\n"
          ]
        }
      ]
    },
    {
      "cell_type": "markdown",
      "source": [
        "6. All orders where TotalPrice is more than 30,000\n"
      ],
      "metadata": {
        "id": "c8DGwtO2L5HC"
      }
    },
    {
      "cell_type": "code",
      "source": [
        "\n",
        "high_value_30k = df.filter(df[\"TotalPrice\"] > 30000)\n",
        "high_value_30k.show()"
      ],
      "metadata": {
        "colab": {
          "base_uri": "https://localhost:8080/"
        },
        "id": "LEpbgRKYL8DW",
        "outputId": "6850a018-f10c-4ea7-8f23-1653307e0279"
      },
      "execution_count": 8,
      "outputs": [
        {
          "output_type": "stream",
          "name": "stdout",
          "text": [
            "+-------+-------+-----------+--------+---------+------+----------+\n",
            "|OrderID|Product|   Category|Quantity|UnitPrice|Region|TotalPrice|\n",
            "+-------+-------+-----------+--------+---------+------+----------+\n",
            "|   1002| Laptop|Electronics|       1|    55000| South|     55000|\n",
            "|   1005|     TV|Electronics|       1|    40000|  West|     40000|\n",
            "+-------+-------+-----------+--------+---------+------+----------+\n",
            "\n"
          ]
        }
      ]
    },
    {
      "cell_type": "markdown",
      "source": [
        "Data Transformations"
      ],
      "metadata": {
        "id": "DOESZoPxMBuP"
      }
    },
    {
      "cell_type": "markdown",
      "source": [
        "\n",
        "1. Create a new column HighValueOrder which is \"Yes\" if TotalPrice > 20,000,\n",
        "else \"No\" ."
      ],
      "metadata": {
        "id": "a9SC_6EQMJhK"
      }
    },
    {
      "cell_type": "code",
      "source": [
        "\n",
        "from pyspark.sql.functions import when\n",
        "\n",
        "df = df.withColumn(\"HighValueOrder\", when(df[\"TotalPrice\"] > 20000, \"Yes\").otherwise(\"No\"))\n",
        "df.show()"
      ],
      "metadata": {
        "colab": {
          "base_uri": "https://localhost:8080/"
        },
        "id": "kAc0UNscMcGy",
        "outputId": "ab1d655b-0e75-478c-c5d4-763730e700aa"
      },
      "execution_count": 9,
      "outputs": [
        {
          "output_type": "stream",
          "name": "stdout",
          "text": [
            "+-------+----------+-----------+--------+---------+------+----------+--------------+\n",
            "|OrderID|   Product|   Category|Quantity|UnitPrice|Region|TotalPrice|HighValueOrder|\n",
            "+-------+----------+-----------+--------+---------+------+----------+--------------+\n",
            "|   1001|    Mobile|Electronics|       2|    15000| North|     30000|           Yes|\n",
            "|   1002|    Laptop|Electronics|       1|    55000| South|     55000|           Yes|\n",
            "|   1003|   T-Shirt|    Apparel|       3|      500|  East|      1500|            No|\n",
            "|   1004|     Jeans|    Apparel|       2|     1200| North|      2400|            No|\n",
            "|   1005|        TV|Electronics|       1|    40000|  West|     40000|           Yes|\n",
            "|   1006|     Shoes|   Footwear|       4|     2000| South|      8000|            No|\n",
            "|   1007|     Watch|Accessories|       2|     3000|  East|      6000|            No|\n",
            "|   1008|Headphones|Electronics|       3|     2500| North|      7500|            No|\n",
            "+-------+----------+-----------+--------+---------+------+----------+--------------+\n",
            "\n"
          ]
        }
      ]
    },
    {
      "cell_type": "markdown",
      "source": [
        "2. Filter and display all high-value orders in the North region."
      ],
      "metadata": {
        "id": "0CJlg-LCMImU"
      }
    },
    {
      "cell_type": "code",
      "source": [
        "\n",
        "high_north_orders = df.filter((df[\"HighValueOrder\"] == \"Yes\") & (df[\"Region\"] == \"North\"))\n",
        "high_north_orders.show()"
      ],
      "metadata": {
        "colab": {
          "base_uri": "https://localhost:8080/"
        },
        "id": "nlQjjez6Mggq",
        "outputId": "f5b9fea9-454e-4bf4-92c2-0648f13edcb7"
      },
      "execution_count": 10,
      "outputs": [
        {
          "output_type": "stream",
          "name": "stdout",
          "text": [
            "+-------+-------+-----------+--------+---------+------+----------+--------------+\n",
            "|OrderID|Product|   Category|Quantity|UnitPrice|Region|TotalPrice|HighValueOrder|\n",
            "+-------+-------+-----------+--------+---------+------+----------+--------------+\n",
            "|   1001| Mobile|Electronics|       2|    15000| North|     30000|           Yes|\n",
            "+-------+-------+-----------+--------+---------+------+----------+--------------+\n",
            "\n"
          ]
        }
      ]
    },
    {
      "cell_type": "markdown",
      "source": [
        "3. Count how many high-value orders exist per region.\n"
      ],
      "metadata": {
        "id": "9BAcnrpzMk4d"
      }
    },
    {
      "cell_type": "code",
      "source": [
        "\n",
        "high_value_per_region = df.filter(df[\"HighValueOrder\"] == \"Yes\") \\\n",
        "    .groupBy(\"Region\") \\\n",
        "    .agg(count(\"*\").alias(\"HighValueOrderCount\"))\n",
        "\n",
        "high_value_per_region.show()"
      ],
      "metadata": {
        "colab": {
          "base_uri": "https://localhost:8080/"
        },
        "id": "zHKXDhsQMjAQ",
        "outputId": "3e45539a-9446-45d5-ab54-8314785122c4"
      },
      "execution_count": 11,
      "outputs": [
        {
          "output_type": "stream",
          "name": "stdout",
          "text": [
            "+------+-------------------+\n",
            "|Region|HighValueOrderCount|\n",
            "+------+-------------------+\n",
            "| South|                  1|\n",
            "|  West|                  1|\n",
            "| North|                  1|\n",
            "+------+-------------------+\n",
            "\n"
          ]
        }
      ]
    },
    {
      "cell_type": "markdown",
      "source": [
        "Save Results"
      ],
      "metadata": {
        "id": "cq33oLIHMjbs"
      }
    },
    {
      "cell_type": "code",
      "source": [
        "# Filter Only High Value Orders\n",
        "high_value_orders = df.filter(df[\"HighValueOrder\"] == \"Yes\")"
      ],
      "metadata": {
        "id": "3WJz2jZHMtiy"
      },
      "execution_count": 12,
      "outputs": []
    },
    {
      "cell_type": "code",
      "source": [
        "\n",
        "# Save to CSV (with headers)\n",
        "high_value_orders.coalesce(1).write.mode(\"overwrite\").option(\"header\", True).csv(\"high_value_orders\")"
      ],
      "metadata": {
        "id": "qNty6tWRMwQl"
      },
      "execution_count": 13,
      "outputs": []
    },
    {
      "cell_type": "markdown",
      "source": [
        "Download CSV from Google Colab"
      ],
      "metadata": {
        "id": "KCrNIY_YM2N3"
      }
    },
    {
      "cell_type": "code",
      "source": [
        "import shutil\n",
        "import glob\n",
        "\n",
        "# Find the part file created by Spark\n",
        "output_file = glob.glob(\"high_value_orders/part-*.csv\")[0]\n",
        "\n",
        "# Copy to more accessible path\n",
        "shutil.copy(output_file, \"high_value_orders.csv\")"
      ],
      "metadata": {
        "colab": {
          "base_uri": "https://localhost:8080/",
          "height": 35
        },
        "id": "lkoWQ92vM8St",
        "outputId": "8f8c23a6-e9c8-477f-a55e-f9b89eb11618"
      },
      "execution_count": 14,
      "outputs": [
        {
          "output_type": "execute_result",
          "data": {
            "text/plain": [
              "'high_value_orders.csv'"
            ],
            "application/vnd.google.colaboratory.intrinsic+json": {
              "type": "string"
            }
          },
          "metadata": {},
          "execution_count": 14
        }
      ]
    },
    {
      "cell_type": "code",
      "source": [
        "\n",
        "from google.colab import files\n",
        "files.download(\"high_value_orders.csv\")"
      ],
      "metadata": {
        "colab": {
          "base_uri": "https://localhost:8080/",
          "height": 17
        },
        "id": "zAbjB9SHNACT",
        "outputId": "aefc3192-c4dc-428a-8649-75a0833f6478"
      },
      "execution_count": 15,
      "outputs": [
        {
          "output_type": "display_data",
          "data": {
            "text/plain": [
              "<IPython.core.display.Javascript object>"
            ],
            "application/javascript": [
              "\n",
              "    async function download(id, filename, size) {\n",
              "      if (!google.colab.kernel.accessAllowed) {\n",
              "        return;\n",
              "      }\n",
              "      const div = document.createElement('div');\n",
              "      const label = document.createElement('label');\n",
              "      label.textContent = `Downloading \"${filename}\": `;\n",
              "      div.appendChild(label);\n",
              "      const progress = document.createElement('progress');\n",
              "      progress.max = size;\n",
              "      div.appendChild(progress);\n",
              "      document.body.appendChild(div);\n",
              "\n",
              "      const buffers = [];\n",
              "      let downloaded = 0;\n",
              "\n",
              "      const channel = await google.colab.kernel.comms.open(id);\n",
              "      // Send a message to notify the kernel that we're ready.\n",
              "      channel.send({})\n",
              "\n",
              "      for await (const message of channel.messages) {\n",
              "        // Send a message to notify the kernel that we're ready.\n",
              "        channel.send({})\n",
              "        if (message.buffers) {\n",
              "          for (const buffer of message.buffers) {\n",
              "            buffers.push(buffer);\n",
              "            downloaded += buffer.byteLength;\n",
              "            progress.value = downloaded;\n",
              "          }\n",
              "        }\n",
              "      }\n",
              "      const blob = new Blob(buffers, {type: 'application/binary'});\n",
              "      const a = document.createElement('a');\n",
              "      a.href = window.URL.createObjectURL(blob);\n",
              "      a.download = filename;\n",
              "      div.appendChild(a);\n",
              "      a.click();\n",
              "      div.remove();\n",
              "    }\n",
              "  "
            ]
          },
          "metadata": {}
        },
        {
          "output_type": "display_data",
          "data": {
            "text/plain": [
              "<IPython.core.display.Javascript object>"
            ],
            "application/javascript": [
              "download(\"download_47fd4af2-95ad-4098-82b0-7f96ae11aa50\", \"high_value_orders.csv\", 216)"
            ]
          },
          "metadata": {}
        }
      ]
    }
  ]
}