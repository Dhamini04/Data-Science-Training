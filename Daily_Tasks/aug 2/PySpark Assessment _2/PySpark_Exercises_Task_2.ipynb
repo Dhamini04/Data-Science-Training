{
  "nbformat": 4,
  "nbformat_minor": 0,
  "metadata": {
    "colab": {
      "provenance": []
    },
    "kernelspec": {
      "name": "python3",
      "display_name": "Python 3"
    },
    "language_info": {
      "name": "python"
    }
  },
  "cells": [
    {
      "cell_type": "code",
      "execution_count": null,
      "metadata": {
        "id": "5HG3UcefJipW"
      },
      "outputs": [],
      "source": []
    },
    {
      "cell_type": "markdown",
      "source": [
        "#Module 1: Setup & SparkSession Initialization\n",
        "Tasks:\n",
        "* Install and configure PySpark in your local system or Colab.\n",
        "* Initialize Spark with:"
      ],
      "metadata": {
        "id": "GNvOKX8vJkDe"
      }
    },
    {
      "cell_type": "code",
      "source": [
        "from pyspark.sql import SparkSession\n",
        "\n",
        "spark = SparkSession.builder \\\n",
        ".appName(\"BotCampus PySpark Practice\") \\\n",
        ".master(\"local[*]\") \\\n",
        ".getOrCreate()"
      ],
      "metadata": {
        "id": "cUWgLHoDJps2"
      },
      "execution_count": 2,
      "outputs": []
    },
    {
      "cell_type": "markdown",
      "source": [
        "* Create a DataFrame from:"
      ],
      "metadata": {
        "id": "3R97lBaTJzKL"
      }
    },
    {
      "cell_type": "code",
      "source": [
        "data = [\n",
        "(\"Anjali\", \"Bangalore\", 24),\n",
        "(\"Ravi\", \"Hyderabad\", 28),\n",
        "(\"Kavya\", \"Delhi\", 22),\n",
        "(\"Meena\", \"Chennai\", 25),\n",
        "(\"Arjun\", \"Mumbai\", 30)\n",
        "]\n",
        "columns = [\"name\", \"city\", \"age\"]"
      ],
      "metadata": {
        "id": "hdvSjDg-Jt6y"
      },
      "execution_count": 3,
      "outputs": []
    },
    {
      "cell_type": "markdown",
      "source": [
        "* Show schema, explain data types, and convert to RDD."
      ],
      "metadata": {
        "id": "ydt7ETrhKSxK"
      }
    },
    {
      "cell_type": "code",
      "source": [
        "df = spark.createDataFrame(data, columns)\n",
        "df.printSchema()\n",
        "\n",
        "rdd = df.rdd\n",
        "print(rdd.collect())"
      ],
      "metadata": {
        "colab": {
          "base_uri": "https://localhost:8080/"
        },
        "id": "aX-ff61LJ4m6",
        "outputId": "c204069c-67ac-4eb3-a21e-338c1e93466d"
      },
      "execution_count": 6,
      "outputs": [
        {
          "output_type": "stream",
          "name": "stdout",
          "text": [
            "root\n",
            " |-- name: string (nullable = true)\n",
            " |-- city: string (nullable = true)\n",
            " |-- age: long (nullable = true)\n",
            "\n",
            "[Row(name='Anjali', city='Bangalore', age=24), Row(name='Ravi', city='Hyderabad', age=28), Row(name='Kavya', city='Delhi', age=22), Row(name='Meena', city='Chennai', age=25), Row(name='Arjun', city='Mumbai', age=30)]\n"
          ]
        }
      ]
    },
    {
      "cell_type": "markdown",
      "source": [
        "* Print .collect() and df.rdd.map() output."
      ],
      "metadata": {
        "id": "sWbtgyuNLAHG"
      }
    },
    {
      "cell_type": "code",
      "metadata": {
        "colab": {
          "base_uri": "https://localhost:8080/"
        },
        "id": "d9b3eff9",
        "outputId": "c6852416-6fab-47af-8591-8181b80a0913"
      },
      "source": [
        "\n",
        "names_upper = df.rdd.map(lambda row: row.name.upper())\n",
        "print(names_upper.collect())"
      ],
      "execution_count": 7,
      "outputs": [
        {
          "output_type": "stream",
          "name": "stdout",
          "text": [
            "['ANJALI', 'RAVI', 'KAVYA', 'MEENA', 'ARJUN']\n"
          ]
        }
      ]
    },
    {
      "cell_type": "markdown",
      "source": [
        "# Module 2: RDDs & Transformations\n",
        "\n",
        "* Scenario: You received app feedback from users in free-text."
      ],
      "metadata": {
        "id": "uHaExcj1LLPI"
      }
    },
    {
      "cell_type": "code",
      "source": [
        "feedback = spark.sparkContext.parallelize([\n",
        "\"Ravi from Bangalore loved the delivery\",\n",
        "\"Meena from Hyderabad had a late order\",\n",
        "\"Ajay from Pune liked the service\",\n",
        "\"Anjali from Delhi faced UI issues\",\n",
        "\"Rohit from Mumbai gave positive feedback\"\n",
        "])"
      ],
      "metadata": {
        "id": "bVpN5R1VLRjK"
      },
      "execution_count": 8,
      "outputs": []
    },
    {
      "cell_type": "markdown",
      "source": [
        "Tasks:\n",
        "1. Split each line into words ( flatMap ).\n",
        "2. Remove stop words ( from , the , etc.).\n",
        "3. Count each word frequency using reduceByKey .\n",
        "4. Find top 3 most frequent non-stop words."
      ],
      "metadata": {
        "id": "nV-lbmPqLmja"
      }
    },
    {
      "cell_type": "code",
      "source": [
        "#1\n",
        "words = feedback.flatMap(lambda line: line.lower().split())\n"
      ],
      "metadata": {
        "id": "hi0D8whFLliT"
      },
      "execution_count": 9,
      "outputs": []
    },
    {
      "cell_type": "code",
      "source": [
        "#2\n",
        "stop_words = {\"from\", \"the\", \"a\", \"had\", \"in\", \"with\", \"and\"}\n",
        "\n",
        "filtered_words = words.filter(lambda word: word not in stop_words)\n"
      ],
      "metadata": {
        "id": "1iKrT9YhLYJm"
      },
      "execution_count": 10,
      "outputs": []
    },
    {
      "cell_type": "code",
      "source": [
        "#3\n",
        "word_pairs = filtered_words.map(lambda word: (word, 1))\n",
        "word_counts = word_pairs.reduceByKey(lambda a, b: a + b)\n"
      ],
      "metadata": {
        "id": "khWhRukrMb5P"
      },
      "execution_count": 11,
      "outputs": []
    },
    {
      "cell_type": "code",
      "source": [
        "#4\n",
        "top_3 = word_counts.takeOrdered(3, key=lambda x: -x[1])\n",
        "\n",
        "print(\"Top 3 most frequent non-stop words:\")\n",
        "for word, count in top_3:\n",
        "    print(f\"{word}: {count}\")\n"
      ],
      "metadata": {
        "colab": {
          "base_uri": "https://localhost:8080/"
        },
        "id": "XOCAi9l3Mgt8",
        "outputId": "187ab092-3531-47f9-d091-6f40ca5f7273"
      },
      "execution_count": 12,
      "outputs": [
        {
          "output_type": "stream",
          "name": "stdout",
          "text": [
            "Top 3 most frequent non-stop words:\n",
            "loved: 1\n",
            "liked: 1\n",
            "service: 1\n"
          ]
        }
      ]
    },
    {
      "cell_type": "markdown",
      "source": [
        "#Module 3: DataFrames & Transformation (With Joins)\n",
        "DataFrames:\n"
      ],
      "metadata": {
        "id": "15iklenkMzSk"
      }
    },
    {
      "cell_type": "code",
      "source": [
        "students = [\n",
        "(\"Amit\", \"10-A\", 89),\n",
        "\n",
        "(\"Kavya\", \"10-B\", 92),\n",
        "(\"Anjali\", \"10-A\", 78),\n",
        "(\"Rohit\", \"10-B\", 85),\n",
        "(\"Sneha\", \"10-C\", 80)\n",
        "]\n",
        "columns = [\"name\", \"section\", \"marks\"]\n",
        "attendance = [\n",
        "(\"Amit\", 24),\n",
        "(\"Kavya\", 22),\n",
        "(\"Anjali\", 20),\n",
        "(\"Rohit\", 25),\n",
        "(\"Sneha\", 19)\n",
        "]\n",
        "columns2 = [\"name\", \"days_present\"]"
      ],
      "metadata": {
        "id": "WwkJ-WHKM819"
      },
      "execution_count": 13,
      "outputs": []
    },
    {
      "cell_type": "markdown",
      "source": [
        "Tasks:\n",
        "1. Join both DataFrames on name .\n",
        "2. Create a new column: attendance_rate = days_present / 25 .\n",
        "3. Grade students using when :\n",
        "A: >90, B: 80–90, C: <80.\n",
        "4. Filter students with good grades but poor attendance (<80%).\n"
      ],
      "metadata": {
        "id": "YxqtXQKONG5M"
      }
    },
    {
      "cell_type": "code",
      "source": [
        "#1.\n",
        "df_students = spark.createDataFrame(students, columns)\n",
        "df_attendance = spark.createDataFrame(attendance, columns2)\n",
        "df_joined = df_students.join(df_attendance, on=\"name\")"
      ],
      "metadata": {
        "id": "7M6tlQFQNPOB"
      },
      "execution_count": 15,
      "outputs": []
    },
    {
      "cell_type": "code",
      "source": [
        "#2.\n",
        "from pyspark.sql.functions import col\n",
        "\n",
        "df_with_attendance = df_joined.withColumn(\n",
        "    \"attendance_rate\", col(\"days_present\") / 25\n",
        ")"
      ],
      "metadata": {
        "id": "P6m94T2hNBgj"
      },
      "execution_count": 17,
      "outputs": []
    },
    {
      "cell_type": "code",
      "source": [
        "#3\n",
        "from pyspark.sql.functions import when, col\n",
        "\n",
        "df_graded = df_with_attendance.withColumn(\n",
        "    \"grade\",\n",
        "    when(col(\"marks\") > 90, \"A\")\n",
        "    .when((col(\"marks\") >= 80) & (col(\"marks\") <= 90), \"B\")\n",
        "    .otherwise(\"C\")\n",
        ")"
      ],
      "metadata": {
        "id": "OBNwl7LjNFRy"
      },
      "execution_count": 21,
      "outputs": []
    },
    {
      "cell_type": "code",
      "source": [
        "#4.\n",
        "filtered = df_graded.filter(\n",
        "    (col(\"grade\").isin(\"A\", \"B\")) & (col(\"attendance_rate\") < 0.8)\n",
        ")\n",
        "\n",
        "filtered.show()\n"
      ],
      "metadata": {
        "colab": {
          "base_uri": "https://localhost:8080/"
        },
        "id": "93zXbMb1NkXU",
        "outputId": "81dfba32-a96b-432d-e412-4076e81a4d08"
      },
      "execution_count": 20,
      "outputs": [
        {
          "output_type": "stream",
          "name": "stdout",
          "text": [
            "+-----+-------+-----+------------+---------------+-----+\n",
            "| name|section|marks|days_present|attendance_rate|grade|\n",
            "+-----+-------+-----+------------+---------------+-----+\n",
            "|Sneha|   10-C|   80|          19|           0.76|    B|\n",
            "+-----+-------+-----+------------+---------------+-----+\n",
            "\n"
          ]
        }
      ]
    },
    {
      "cell_type": "markdown",
      "source": [
        "#Module 4: Ingest CSV & JSON, Save to Parquet\n",
        "Tasks:\n"
      ],
      "metadata": {
        "id": "syrm22VzNFqK"
      }
    },
    {
      "cell_type": "code",
      "source": [
        "from pyspark.sql import SparkSession\n",
        "from pyspark.sql.functions import col, explode\n",
        "\n",
        "spark = SparkSession.builder \\\n",
        "    .appName(\"Ingest CSV & JSON and Save Parquet\") \\\n",
        "    .master(\"local[*]\") \\\n",
        "    .getOrCreate()\n"
      ],
      "metadata": {
        "id": "zvDlvydTN8om"
      },
      "execution_count": 23,
      "outputs": []
    },
    {
      "cell_type": "code",
      "source": [
        "from google.colab import files\n",
        "uploaded = files.upload()\n"
      ],
      "metadata": {
        "colab": {
          "base_uri": "https://localhost:8080/",
          "height": 108
        },
        "id": "qKp9rVCXOPFo",
        "outputId": "0ab1a9f8-b0b6-4359-bbff-9d82280cf8a7"
      },
      "execution_count": 25,
      "outputs": [
        {
          "output_type": "display_data",
          "data": {
            "text/plain": [
              "<IPython.core.display.HTML object>"
            ],
            "text/html": [
              "\n",
              "     <input type=\"file\" id=\"files-d1360b86-6d5c-4538-8919-ab70f7ec9e4d\" name=\"files[]\" multiple disabled\n",
              "        style=\"border:none\" />\n",
              "     <output id=\"result-d1360b86-6d5c-4538-8919-ab70f7ec9e4d\">\n",
              "      Upload widget is only available when the cell has been executed in the\n",
              "      current browser session. Please rerun this cell to enable.\n",
              "      </output>\n",
              "      <script>// Copyright 2017 Google LLC\n",
              "//\n",
              "// Licensed under the Apache License, Version 2.0 (the \"License\");\n",
              "// you may not use this file except in compliance with the License.\n",
              "// You may obtain a copy of the License at\n",
              "//\n",
              "//      http://www.apache.org/licenses/LICENSE-2.0\n",
              "//\n",
              "// Unless required by applicable law or agreed to in writing, software\n",
              "// distributed under the License is distributed on an \"AS IS\" BASIS,\n",
              "// WITHOUT WARRANTIES OR CONDITIONS OF ANY KIND, either express or implied.\n",
              "// See the License for the specific language governing permissions and\n",
              "// limitations under the License.\n",
              "\n",
              "/**\n",
              " * @fileoverview Helpers for google.colab Python module.\n",
              " */\n",
              "(function(scope) {\n",
              "function span(text, styleAttributes = {}) {\n",
              "  const element = document.createElement('span');\n",
              "  element.textContent = text;\n",
              "  for (const key of Object.keys(styleAttributes)) {\n",
              "    element.style[key] = styleAttributes[key];\n",
              "  }\n",
              "  return element;\n",
              "}\n",
              "\n",
              "// Max number of bytes which will be uploaded at a time.\n",
              "const MAX_PAYLOAD_SIZE = 100 * 1024;\n",
              "\n",
              "function _uploadFiles(inputId, outputId) {\n",
              "  const steps = uploadFilesStep(inputId, outputId);\n",
              "  const outputElement = document.getElementById(outputId);\n",
              "  // Cache steps on the outputElement to make it available for the next call\n",
              "  // to uploadFilesContinue from Python.\n",
              "  outputElement.steps = steps;\n",
              "\n",
              "  return _uploadFilesContinue(outputId);\n",
              "}\n",
              "\n",
              "// This is roughly an async generator (not supported in the browser yet),\n",
              "// where there are multiple asynchronous steps and the Python side is going\n",
              "// to poll for completion of each step.\n",
              "// This uses a Promise to block the python side on completion of each step,\n",
              "// then passes the result of the previous step as the input to the next step.\n",
              "function _uploadFilesContinue(outputId) {\n",
              "  const outputElement = document.getElementById(outputId);\n",
              "  const steps = outputElement.steps;\n",
              "\n",
              "  const next = steps.next(outputElement.lastPromiseValue);\n",
              "  return Promise.resolve(next.value.promise).then((value) => {\n",
              "    // Cache the last promise value to make it available to the next\n",
              "    // step of the generator.\n",
              "    outputElement.lastPromiseValue = value;\n",
              "    return next.value.response;\n",
              "  });\n",
              "}\n",
              "\n",
              "/**\n",
              " * Generator function which is called between each async step of the upload\n",
              " * process.\n",
              " * @param {string} inputId Element ID of the input file picker element.\n",
              " * @param {string} outputId Element ID of the output display.\n",
              " * @return {!Iterable<!Object>} Iterable of next steps.\n",
              " */\n",
              "function* uploadFilesStep(inputId, outputId) {\n",
              "  const inputElement = document.getElementById(inputId);\n",
              "  inputElement.disabled = false;\n",
              "\n",
              "  const outputElement = document.getElementById(outputId);\n",
              "  outputElement.innerHTML = '';\n",
              "\n",
              "  const pickedPromise = new Promise((resolve) => {\n",
              "    inputElement.addEventListener('change', (e) => {\n",
              "      resolve(e.target.files);\n",
              "    });\n",
              "  });\n",
              "\n",
              "  const cancel = document.createElement('button');\n",
              "  inputElement.parentElement.appendChild(cancel);\n",
              "  cancel.textContent = 'Cancel upload';\n",
              "  const cancelPromise = new Promise((resolve) => {\n",
              "    cancel.onclick = () => {\n",
              "      resolve(null);\n",
              "    };\n",
              "  });\n",
              "\n",
              "  // Wait for the user to pick the files.\n",
              "  const files = yield {\n",
              "    promise: Promise.race([pickedPromise, cancelPromise]),\n",
              "    response: {\n",
              "      action: 'starting',\n",
              "    }\n",
              "  };\n",
              "\n",
              "  cancel.remove();\n",
              "\n",
              "  // Disable the input element since further picks are not allowed.\n",
              "  inputElement.disabled = true;\n",
              "\n",
              "  if (!files) {\n",
              "    return {\n",
              "      response: {\n",
              "        action: 'complete',\n",
              "      }\n",
              "    };\n",
              "  }\n",
              "\n",
              "  for (const file of files) {\n",
              "    const li = document.createElement('li');\n",
              "    li.append(span(file.name, {fontWeight: 'bold'}));\n",
              "    li.append(span(\n",
              "        `(${file.type || 'n/a'}) - ${file.size} bytes, ` +\n",
              "        `last modified: ${\n",
              "            file.lastModifiedDate ? file.lastModifiedDate.toLocaleDateString() :\n",
              "                                    'n/a'} - `));\n",
              "    const percent = span('0% done');\n",
              "    li.appendChild(percent);\n",
              "\n",
              "    outputElement.appendChild(li);\n",
              "\n",
              "    const fileDataPromise = new Promise((resolve) => {\n",
              "      const reader = new FileReader();\n",
              "      reader.onload = (e) => {\n",
              "        resolve(e.target.result);\n",
              "      };\n",
              "      reader.readAsArrayBuffer(file);\n",
              "    });\n",
              "    // Wait for the data to be ready.\n",
              "    let fileData = yield {\n",
              "      promise: fileDataPromise,\n",
              "      response: {\n",
              "        action: 'continue',\n",
              "      }\n",
              "    };\n",
              "\n",
              "    // Use a chunked sending to avoid message size limits. See b/62115660.\n",
              "    let position = 0;\n",
              "    do {\n",
              "      const length = Math.min(fileData.byteLength - position, MAX_PAYLOAD_SIZE);\n",
              "      const chunk = new Uint8Array(fileData, position, length);\n",
              "      position += length;\n",
              "\n",
              "      const base64 = btoa(String.fromCharCode.apply(null, chunk));\n",
              "      yield {\n",
              "        response: {\n",
              "          action: 'append',\n",
              "          file: file.name,\n",
              "          data: base64,\n",
              "        },\n",
              "      };\n",
              "\n",
              "      let percentDone = fileData.byteLength === 0 ?\n",
              "          100 :\n",
              "          Math.round((position / fileData.byteLength) * 100);\n",
              "      percent.textContent = `${percentDone}% done`;\n",
              "\n",
              "    } while (position < fileData.byteLength);\n",
              "  }\n",
              "\n",
              "  // All done.\n",
              "  yield {\n",
              "    response: {\n",
              "      action: 'complete',\n",
              "    }\n",
              "  };\n",
              "}\n",
              "\n",
              "scope.google = scope.google || {};\n",
              "scope.google.colab = scope.google.colab || {};\n",
              "scope.google.colab._files = {\n",
              "  _uploadFiles,\n",
              "  _uploadFilesContinue,\n",
              "};\n",
              "})(self);\n",
              "</script> "
            ]
          },
          "metadata": {}
        },
        {
          "output_type": "stream",
          "name": "stdout",
          "text": [
            "Saving employees.csv to employees (1).csv\n",
            "Saving profile.json to profile.json\n"
          ]
        }
      ]
    },
    {
      "cell_type": "markdown",
      "source": [
        "* read both formats into DataFrames."
      ],
      "metadata": {
        "id": "K7Q5rj7vR3Sg"
      }
    },
    {
      "cell_type": "code",
      "source": [
        "df_csv = spark.read.option(\"header\", True).csv(\"/content/employees.csv\", inferSchema=True)\n",
        "df_csv.show()\n"
      ],
      "metadata": {
        "colab": {
          "base_uri": "https://localhost:8080/"
        },
        "id": "5L8v7o0EQFon",
        "outputId": "19aa183e-ffbd-469a-c913-22e1c30b0cb8"
      },
      "execution_count": 26,
      "outputs": [
        {
          "output_type": "stream",
          "name": "stdout",
          "text": [
            "+------+-----+-------+---------+------+\n",
            "|emp_id| name|   dept|     city|salary|\n",
            "+------+-----+-------+---------+------+\n",
            "|   101| Anil|     IT|Bangalore| 80000|\n",
            "|   102|Kiran|     HR|   Mumbai| 65000|\n",
            "|   103|Deepa|Finance|  Chennai| 72000|\n",
            "+------+-----+-------+---------+------+\n",
            "\n"
          ]
        }
      ]
    },
    {
      "cell_type": "code",
      "source": [
        "df_json = spark.read.option(\"multiLine\", True).json(\"/content/profile.json\")\n",
        "df_json.printSchema()\n",
        "df_json.show()\n"
      ],
      "metadata": {
        "colab": {
          "base_uri": "https://localhost:8080/"
        },
        "id": "IoWbuoE5QKCM",
        "outputId": "ebfa5309-e8e8-4d37-edc6-045f8ac8fe9f"
      },
      "execution_count": 27,
      "outputs": [
        {
          "output_type": "stream",
          "name": "stdout",
          "text": [
            "root\n",
            " |-- contact: struct (nullable = true)\n",
            " |    |-- city: string (nullable = true)\n",
            " |    |-- email: string (nullable = true)\n",
            " |-- id: long (nullable = true)\n",
            " |-- name: string (nullable = true)\n",
            " |-- skills: array (nullable = true)\n",
            " |    |-- element: string (containsNull = true)\n",
            "\n",
            "+--------------------+---+-------+--------------------+\n",
            "|             contact| id|   name|              skills|\n",
            "+--------------------+---+-------+--------------------+\n",
            "|{Hyderabad, nandi...|201|Nandini|[Python, Spark, SQL]|\n",
            "+--------------------+---+-------+--------------------+\n",
            "\n"
          ]
        }
      ]
    },
    {
      "cell_type": "markdown",
      "source": [
        "* Flatten nested JSON using select , col , alias , explode ."
      ],
      "metadata": {
        "id": "O90_goHzRwt3"
      }
    },
    {
      "cell_type": "code",
      "source": [
        "from pyspark.sql.functions import explode\n",
        "\n",
        "# Flatten the nested structure and explode the skills array\n",
        "df_flat = df_json.select(\n",
        "    col(\"id\"),\n",
        "    col(\"name\"),\n",
        "    col(\"contact.city\").alias(\"city\"),\n",
        "    col(\"contact.email\").alias(\"email\"),\n",
        "    explode(col(\"skills\")).alias(\"skill\")\n",
        ")\n",
        "\n",
        "df_flat.show(truncate=False)\n"
      ],
      "metadata": {
        "colab": {
          "base_uri": "https://localhost:8080/"
        },
        "id": "hOR6gyTdQaan",
        "outputId": "68dd3ac0-829b-4176-c49a-52466c170e96"
      },
      "execution_count": 28,
      "outputs": [
        {
          "output_type": "stream",
          "name": "stdout",
          "text": [
            "+---+-------+---------+-----------------+------+\n",
            "|id |name   |city     |email            |skill |\n",
            "+---+-------+---------+-----------------+------+\n",
            "|201|Nandini|Hyderabad|nandi@example.com|Python|\n",
            "|201|Nandini|Hyderabad|nandi@example.com|Spark |\n",
            "|201|Nandini|Hyderabad|nandi@example.com|SQL   |\n",
            "+---+-------+---------+-----------------+------+\n",
            "\n"
          ]
        }
      ]
    },
    {
      "cell_type": "markdown",
      "source": [
        "* Save Both as Parquet Partitioned by City"
      ],
      "metadata": {
        "id": "gP7DtGgRSJuC"
      }
    },
    {
      "cell_type": "code",
      "source": [
        "# Save CSV DataFrame to Parquet partitioned by city\n",
        "df_csv.write.mode(\"overwrite\").partitionBy(\"city\").parquet(\"/content/output/csv_partitioned\")\n",
        "\n",
        "# Save Flattened JSON DataFrame to Parquet partitioned by city\n",
        "df_flat.write.mode(\"overwrite\").partitionBy(\"city\").parquet(\"/content/output/json_partitioned\")\n"
      ],
      "metadata": {
        "id": "AjKdIVVHSKII"
      },
      "execution_count": 29,
      "outputs": []
    },
    {
      "cell_type": "code",
      "source": [
        "import os\n",
        "\n",
        "print(\"CSV Output Partitions:\", os.listdir(\"/content/output/csv_partitioned\"))\n",
        "print(\"JSON Output Partitions:\", os.listdir(\"/content/output/json_partitioned\"))\n"
      ],
      "metadata": {
        "colab": {
          "base_uri": "https://localhost:8080/"
        },
        "id": "qDkrrTdBSW1m",
        "outputId": "7a18a955-9a27-4ba7-925a-fe2d89d1575b"
      },
      "execution_count": 30,
      "outputs": [
        {
          "output_type": "stream",
          "name": "stdout",
          "text": [
            "CSV Output Partitions: ['._SUCCESS.crc', 'city=Mumbai', 'city=Bangalore', '_SUCCESS', 'city=Chennai']\n",
            "JSON Output Partitions: ['._SUCCESS.crc', '_SUCCESS', 'city=Hyderabad']\n"
          ]
        }
      ]
    },
    {
      "cell_type": "markdown",
      "source": [
        "#Module 5: Spark SQL with Temp Views\n",
        "🔹 Step 1: Setup Spark & Create DataFrames\n",
        "python\n",
        "Copy\n",
        "Edit\n"
      ],
      "metadata": {
        "id": "jvVxjUqpSoXw"
      }
    },
    {
      "cell_type": "markdown",
      "source": [
        "Tasks:\n",
        "* Register the students DataFrame as students_view ."
      ],
      "metadata": {
        "id": "fha-OQZpTL7X"
      }
    },
    {
      "cell_type": "code",
      "source": [
        "from pyspark.sql import SparkSession\n",
        "\n",
        "# Initialize Spark\n",
        "spark = SparkSession.builder \\\n",
        "    .appName(\"SparkSQL_TempViews\") \\\n",
        "    .getOrCreate()\n",
        "\n",
        "# Students Data\n",
        "students = [\n",
        "    (\"Amit\", \"10-A\", 89),\n",
        "    (\"Kavya\", \"10-B\", 92),\n",
        "    (\"Anjali\", \"10-A\", 78),\n",
        "    (\"Rohit\", \"10-B\", 85),\n",
        "    (\"Sneha\", \"10-C\", 80)\n",
        "]\n",
        "students_columns = [\"name\", \"section\", \"marks\"]\n",
        "\n",
        "attendance = [\n",
        "    (\"Amit\", 24),\n",
        "    (\"Kavya\", 22),\n",
        "    (\"Anjali\", 20),\n",
        "    (\"Rohit\", 25),\n",
        "    (\"Sneha\", 19)\n",
        "]\n",
        "attendance_columns = [\"name\", \"days_present\"]\n",
        "\n",
        "# Create DataFrames\n",
        "df_students = spark.createDataFrame(students, students_columns)\n",
        "df_attendance = spark.createDataFrame(attendance, attendance_columns)\n",
        "\n",
        "# Join both DataFrames\n",
        "df_combined = df_students.join(df_attendance, on=\"name\")\n",
        "\n",
        "# Register as Temp View\n",
        "df_combined.createOrReplaceTempView(\"students_view\")\n"
      ],
      "metadata": {
        "id": "eywoPV-4Sumh"
      },
      "execution_count": 31,
      "outputs": []
    },
    {
      "cell_type": "markdown",
      "source": [
        "\n",
        "Write and run the following queries:\n",
        "* a) Average marks per section\n",
        "* b) Top scorer in each section\n",
        "* c) Count of students in each grade category\n",
        "* d) Students with marks above class average\n",
        "* e) Attendance-adjusted performance"
      ],
      "metadata": {
        "id": "q-_HAdcDS6FD"
      }
    },
    {
      "cell_type": "code",
      "source": [
        "# a) Average marks per section\n",
        "spark.sql(\"\"\"\n",
        "SELECT section, ROUND(AVG(marks), 2) AS avg_marks\n",
        "FROM students_view\n",
        "GROUP BY section\n",
        "\"\"\").show()\n"
      ],
      "metadata": {
        "colab": {
          "base_uri": "https://localhost:8080/"
        },
        "id": "l7Oh0tCVTRUO",
        "outputId": "b428fd8f-bb2f-4b7b-ee2e-55efc95f2360"
      },
      "execution_count": 32,
      "outputs": [
        {
          "output_type": "stream",
          "name": "stdout",
          "text": [
            "+-------+---------+\n",
            "|section|avg_marks|\n",
            "+-------+---------+\n",
            "|   10-C|     80.0|\n",
            "|   10-A|     83.5|\n",
            "|   10-B|     88.5|\n",
            "+-------+---------+\n",
            "\n"
          ]
        }
      ]
    },
    {
      "cell_type": "code",
      "source": [
        "# b)\n",
        "spark.sql(\"\"\"\n",
        "SELECT section, name, marks\n",
        "FROM (\n",
        "    SELECT section, name, marks,\n",
        "           RANK() OVER (PARTITION BY section ORDER BY marks DESC) as rnk\n",
        "    FROM students_view\n",
        ") WHERE rnk = 1\n",
        "\"\"\").show()\n"
      ],
      "metadata": {
        "colab": {
          "base_uri": "https://localhost:8080/"
        },
        "id": "5OFa9Ux9TYiM",
        "outputId": "4739e5a1-a2e0-48df-f848-54f229b77d77"
      },
      "execution_count": 33,
      "outputs": [
        {
          "output_type": "stream",
          "name": "stdout",
          "text": [
            "+-------+-----+-----+\n",
            "|section| name|marks|\n",
            "+-------+-----+-----+\n",
            "|   10-A| Amit|   89|\n",
            "|   10-B|Kavya|   92|\n",
            "|   10-C|Sneha|   80|\n",
            "+-------+-----+-----+\n",
            "\n"
          ]
        }
      ]
    },
    {
      "cell_type": "markdown",
      "source": [],
      "metadata": {
        "id": "mkw5DCAZTzRT"
      }
    },
    {
      "cell_type": "code",
      "source": [
        "# c)\n",
        "spark.sql(\"\"\"\n",
        "SELECT\n",
        "  CASE\n",
        "    WHEN marks > 90 THEN 'A'\n",
        "    WHEN marks BETWEEN 80 AND 90 THEN 'B'\n",
        "    ELSE 'C'\n",
        "  END AS grade,\n",
        "  COUNT(*) AS count\n",
        "FROM students_view\n",
        "GROUP BY grade\n",
        "\"\"\").show()\n"
      ],
      "metadata": {
        "colab": {
          "base_uri": "https://localhost:8080/"
        },
        "id": "xbBbITgcTgjf",
        "outputId": "b32bdc27-d925-401a-a50d-b896248a2f3f"
      },
      "execution_count": 34,
      "outputs": [
        {
          "output_type": "stream",
          "name": "stdout",
          "text": [
            "+-----+-----+\n",
            "|grade|count|\n",
            "+-----+-----+\n",
            "|    B|    3|\n",
            "|    C|    1|\n",
            "|    A|    1|\n",
            "+-----+-----+\n",
            "\n"
          ]
        }
      ]
    },
    {
      "cell_type": "code",
      "source": [
        "# d)\n",
        "spark.sql(\"\"\"\n",
        "SELECT name, section, marks\n",
        "FROM students_view\n",
        "WHERE marks > (SELECT AVG(marks) FROM students_view)\n",
        "\"\"\").show()\n"
      ],
      "metadata": {
        "colab": {
          "base_uri": "https://localhost:8080/"
        },
        "id": "n1pQwd0kTkBK",
        "outputId": "1c6edaa1-2fde-4ebf-f75a-1619dfa964b2"
      },
      "execution_count": 35,
      "outputs": [
        {
          "output_type": "stream",
          "name": "stdout",
          "text": [
            "+-----+-------+-----+\n",
            "| name|section|marks|\n",
            "+-----+-------+-----+\n",
            "| Amit|   10-A|   89|\n",
            "|Kavya|   10-B|   92|\n",
            "|Rohit|   10-B|   85|\n",
            "+-----+-------+-----+\n",
            "\n"
          ]
        }
      ]
    },
    {
      "cell_type": "code",
      "source": [
        "# e)\n",
        "spark.sql(\"\"\"\n",
        "SELECT name, section, marks, days_present,\n",
        "       ROUND((marks * (days_present / 25)), 2) AS adj_performance\n",
        "FROM students_view\n",
        "\"\"\").show()"
      ],
      "metadata": {
        "colab": {
          "base_uri": "https://localhost:8080/"
        },
        "id": "GmDxlfFpTrCW",
        "outputId": "74971f99-41cc-426e-9e59-53de50c9c097"
      },
      "execution_count": 36,
      "outputs": [
        {
          "output_type": "stream",
          "name": "stdout",
          "text": [
            "+------+-------+-----+------------+---------------+\n",
            "|  name|section|marks|days_present|adj_performance|\n",
            "+------+-------+-----+------------+---------------+\n",
            "|  Amit|   10-A|   89|          24|          85.44|\n",
            "|Anjali|   10-A|   78|          20|           62.4|\n",
            "| Kavya|   10-B|   92|          22|          80.96|\n",
            "| Rohit|   10-B|   85|          25|           85.0|\n",
            "| Sneha|   10-C|   80|          19|           60.8|\n",
            "+------+-------+-----+------------+---------------+\n",
            "\n"
          ]
        }
      ]
    },
    {
      "cell_type": "markdown",
      "source": [
        "#Module 6: Partitioned Data & Incremental Loading\n",
        "Step 1: Full Load"
      ],
      "metadata": {
        "id": "fvyvhkl5T6ZQ"
      }
    },
    {
      "cell_type": "code",
      "source": [
        "df_students.write.mode(\"overwrite\").partitionBy(\"section\").parquet(\"output/students/\")"
      ],
      "metadata": {
        "id": "AfDyKALOT8Pa"
      },
      "execution_count": 38,
      "outputs": []
    },
    {
      "cell_type": "markdown",
      "source": [
        "incremental load"
      ],
      "metadata": {
        "id": "5ZAzhpl4UKMR"
      }
    },
    {
      "cell_type": "code",
      "source": [
        "incremental = [(\"Tejas\", \"10-A\", 91)]\n",
        "df_inc = spark.createDataFrame(incremental, [\"name\", \"section\", \"marks\"])\n",
        "df_inc.write.mode(\"append\").partitionBy(\"section\").parquet(\"output/students/\")"
      ],
      "metadata": {
        "id": "iSH64EOaUOBA"
      },
      "execution_count": 39,
      "outputs": []
    },
    {
      "cell_type": "markdown",
      "source": [
        "Tasks:\n",
        "* List files in output/students/ using Python.\n",
        "* Read only partition 10-A and list students.\n",
        "* Compare before/after counts for section 10-A ."
      ],
      "metadata": {
        "id": "5GDax6WXUb_R"
      }
    },
    {
      "cell_type": "code",
      "source": [
        "import os\n",
        "\n",
        "files = os.listdir(\"output/students/\")\n",
        "for f in files:\n",
        "    print(f)\n"
      ],
      "metadata": {
        "colab": {
          "base_uri": "https://localhost:8080/"
        },
        "id": "YEl4-fWfUXMa",
        "outputId": "093094c8-1475-4bb0-81bb-f0c4c1d1e55e"
      },
      "execution_count": 40,
      "outputs": [
        {
          "output_type": "stream",
          "name": "stdout",
          "text": [
            "._SUCCESS.crc\n",
            "section=10-A\n",
            "section=10-B\n",
            "_SUCCESS\n",
            "section=10-C\n"
          ]
        }
      ]
    },
    {
      "cell_type": "code",
      "source": [
        "df_10a = spark.read.parquet(\"output/students/section=10-A\")\n",
        "df_10a.show()\n"
      ],
      "metadata": {
        "colab": {
          "base_uri": "https://localhost:8080/"
        },
        "id": "Cqf_kS28Unaj",
        "outputId": "d6cb4f7e-736c-4ed2-b2dd-89d2f25ac0e2"
      },
      "execution_count": 41,
      "outputs": [
        {
          "output_type": "stream",
          "name": "stdout",
          "text": [
            "+------+-----+\n",
            "|  name|marks|\n",
            "+------+-----+\n",
            "|Anjali|   78|\n",
            "| Tejas|   91|\n",
            "|  Amit|   89|\n",
            "+------+-----+\n",
            "\n"
          ]
        }
      ]
    },
    {
      "cell_type": "code",
      "source": [
        "# After full load\n",
        "df_full = spark.read.parquet(\"output/students/\")\n",
        "count_before = df_full.filter(df_full.section == \"10-A\").count()\n",
        "\n",
        "# Append incremental and read again\n",
        "df_after = spark.read.parquet(\"output/students/\")\n",
        "count_after = df_after.filter(df_after.section == \"10-A\").count()\n",
        "\n",
        "print(f\"Before Increment: {count_before}\")\n",
        "print(f\"After Increment: {count_after}\")\n"
      ],
      "metadata": {
        "colab": {
          "base_uri": "https://localhost:8080/"
        },
        "id": "ZySPCOX9UsKx",
        "outputId": "c0cdc9d2-a4d8-48a3-ec05-635d9d94ed4e"
      },
      "execution_count": 42,
      "outputs": [
        {
          "output_type": "stream",
          "name": "stdout",
          "text": [
            "Before Increment: 3\n",
            "After Increment: 3\n"
          ]
        }
      ]
    },
    {
      "cell_type": "markdown",
      "source": [
        "# Module 7: ETL Pipeline – End to End\n",
        "  \n",
        "\n",
        "  tasks\n",
        "  1. Load CSV with inferred schema.\n",
        "2. Fill null bonuses with 2000 .\n",
        "3. Create total_ctc = salary + bonus .\n",
        "4. Filter employees with total_ctc > 65000 .\n",
        "5. Save result in:\n",
        "\n",
        "a) JSON format.\n",
        "b) Parquet format partitioned by department."
      ],
      "metadata": {
        "id": "NPo2O44iUwH_"
      }
    },
    {
      "cell_type": "code",
      "source": [
        "#1\n",
        "df_raw = spark.read.option(\"header\", True).option(\"inferSchema\", True).csv(\"employees.csv\")\n",
        "df_raw.show()\n"
      ],
      "metadata": {
        "colab": {
          "base_uri": "https://localhost:8080/"
        },
        "id": "z48pNCyuVGHD",
        "outputId": "66ee2429-f19f-4a02-9b69-3403890c93e5"
      },
      "execution_count": 43,
      "outputs": [
        {
          "output_type": "stream",
          "name": "stdout",
          "text": [
            "+------+-----+-------+---------+------+\n",
            "|emp_id| name|   dept|     city|salary|\n",
            "+------+-----+-------+---------+------+\n",
            "|   101| Anil|     IT|Bangalore| 80000|\n",
            "|   102|Kiran|     HR|   Mumbai| 65000|\n",
            "|   103|Deepa|Finance|  Chennai| 72000|\n",
            "+------+-----+-------+---------+------+\n",
            "\n"
          ]
        }
      ]
    },
    {
      "cell_type": "code",
      "source": [
        "#2\n",
        "from pyspark.sql.functions import lit\n",
        "\n",
        "df_filled = df_raw.withColumn(\"bonus\", lit(2000))\n",
        "df_filled.show()"
      ],
      "metadata": {
        "colab": {
          "base_uri": "https://localhost:8080/"
        },
        "id": "CC85xG6YVMIJ",
        "outputId": "608f588a-3920-4d11-9a90-2ba3675e783a"
      },
      "execution_count": 45,
      "outputs": [
        {
          "output_type": "stream",
          "name": "stdout",
          "text": [
            "+------+-----+-------+---------+------+-----+\n",
            "|emp_id| name|   dept|     city|salary|bonus|\n",
            "+------+-----+-------+---------+------+-----+\n",
            "|   101| Anil|     IT|Bangalore| 80000| 2000|\n",
            "|   102|Kiran|     HR|   Mumbai| 65000| 2000|\n",
            "|   103|Deepa|Finance|  Chennai| 72000| 2000|\n",
            "+------+-----+-------+---------+------+-----+\n",
            "\n"
          ]
        }
      ]
    },
    {
      "cell_type": "code",
      "source": [
        "#3\n",
        "from pyspark.sql.functions import col\n",
        "\n",
        "df_ctc = df_filled.withColumn(\"total_ctc\", col(\"salary\") + col(\"bonus\"))\n"
      ],
      "metadata": {
        "id": "ah2FC1nfVXqr"
      },
      "execution_count": 46,
      "outputs": []
    },
    {
      "cell_type": "code",
      "source": [
        "#4\n",
        "df_filtered = df_ctc.filter(col(\"total_ctc\") > 65000)\n",
        "df_filtered.show()\n"
      ],
      "metadata": {
        "colab": {
          "base_uri": "https://localhost:8080/"
        },
        "id": "SVmIDzSSVaXw",
        "outputId": "2e8f4dc4-183f-4d75-9eb0-7b9947a6ea2c"
      },
      "execution_count": 47,
      "outputs": [
        {
          "output_type": "stream",
          "name": "stdout",
          "text": [
            "+------+-----+-------+---------+------+-----+---------+\n",
            "|emp_id| name|   dept|     city|salary|bonus|total_ctc|\n",
            "+------+-----+-------+---------+------+-----+---------+\n",
            "|   101| Anil|     IT|Bangalore| 80000| 2000|    82000|\n",
            "|   102|Kiran|     HR|   Mumbai| 65000| 2000|    67000|\n",
            "|   103|Deepa|Finance|  Chennai| 72000| 2000|    74000|\n",
            "+------+-----+-------+---------+------+-----+---------+\n",
            "\n"
          ]
        }
      ]
    },
    {
      "cell_type": "code",
      "source": [
        "#5\n",
        "#a)\n",
        "df_filtered.write.mode(\"overwrite\").json(\"output/etl_employees_json/\")\n"
      ],
      "metadata": {
        "id": "Q_lMakaXVvlS"
      },
      "execution_count": 50,
      "outputs": []
    },
    {
      "cell_type": "code",
      "source": [
        "#5\n",
        "#b)\n",
        "df_filtered.write.mode(\"overwrite\").partitionBy(\"dept\").parquet(\"output/etl_employees_parquet/\")\n"
      ],
      "metadata": {
        "id": "0il8D-iNV2db"
      },
      "execution_count": 51,
      "outputs": []
    },
    {
      "cell_type": "code",
      "source": [
        "import os\n",
        "\n",
        "print(\"JSON Output Files:\")\n",
        "for root, dirs, files in os.walk(\"output/etl_employees_json/\"):\n",
        "    for file in files:\n",
        "        print(os.path.join(root, file))\n",
        "\n",
        "print(\"\\nParquet Output Files (Partitioned by dept):\")\n",
        "for root, dirs, files in os.walk(\"output/etl_employees_parquet/\"):\n",
        "    for file in files:\n",
        "        print(os.path.join(root, file))\n"
      ],
      "metadata": {
        "colab": {
          "base_uri": "https://localhost:8080/"
        },
        "id": "ju7hqnDcV7PK",
        "outputId": "0ec9ef70-6fa4-476c-984f-b96774c654e9"
      },
      "execution_count": 52,
      "outputs": [
        {
          "output_type": "stream",
          "name": "stdout",
          "text": [
            "JSON Output Files:\n",
            "output/etl_employees_json/._SUCCESS.crc\n",
            "output/etl_employees_json/.part-00000-053cdeb0-0972-441e-9754-bdc1f2810cd4-c000.json.crc\n",
            "output/etl_employees_json/part-00000-053cdeb0-0972-441e-9754-bdc1f2810cd4-c000.json\n",
            "output/etl_employees_json/_SUCCESS\n",
            "\n",
            "Parquet Output Files (Partitioned by dept):\n",
            "output/etl_employees_parquet/._SUCCESS.crc\n",
            "output/etl_employees_parquet/_SUCCESS\n",
            "output/etl_employees_parquet/dept=HR/.part-00000-75c38bbe-578a-4ebe-b0ca-e5d65fb95ff8.c000.snappy.parquet.crc\n",
            "output/etl_employees_parquet/dept=HR/part-00000-75c38bbe-578a-4ebe-b0ca-e5d65fb95ff8.c000.snappy.parquet\n",
            "output/etl_employees_parquet/dept=IT/.part-00000-75c38bbe-578a-4ebe-b0ca-e5d65fb95ff8.c000.snappy.parquet.crc\n",
            "output/etl_employees_parquet/dept=IT/part-00000-75c38bbe-578a-4ebe-b0ca-e5d65fb95ff8.c000.snappy.parquet\n",
            "output/etl_employees_parquet/dept=Finance/.part-00000-75c38bbe-578a-4ebe-b0ca-e5d65fb95ff8.c000.snappy.parquet.crc\n",
            "output/etl_employees_parquet/dept=Finance/part-00000-75c38bbe-578a-4ebe-b0ca-e5d65fb95ff8.c000.snappy.parquet\n"
          ]
        }
      ]
    }
  ]
}