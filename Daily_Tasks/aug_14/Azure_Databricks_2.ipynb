{
  "nbformat": 4,
  "nbformat_minor": 0,
  "metadata": {
    "colab": {
      "provenance": []
    },
    "kernelspec": {
      "name": "python3",
      "display_name": "Python 3"
    },
    "language_info": {
      "name": "python"
    }
  },
  "cells": [
    {
      "cell_type": "code",
      "execution_count": 1,
      "metadata": {
        "colab": {
          "base_uri": "https://localhost:8080/"
        },
        "id": "jBlllSJ6_ufS",
        "outputId": "3e142bee-41d5-4208-bad9-cb68feec821a"
      },
      "outputs": [
        {
          "output_type": "stream",
          "name": "stdout",
          "text": [
            "Requirement already satisfied: pyspark==3.5.1 in /usr/local/lib/python3.11/dist-packages (3.5.1)\n",
            "Collecting delta-spark==3.1.0\n",
            "  Using cached delta_spark-3.1.0-py3-none-any.whl.metadata (1.9 kB)\n",
            "Requirement already satisfied: py4j==0.10.9.7 in /usr/local/lib/python3.11/dist-packages (from pyspark==3.5.1) (0.10.9.7)\n",
            "Requirement already satisfied: importlib-metadata>=1.0.0 in /usr/local/lib/python3.11/dist-packages (from delta-spark==3.1.0) (8.7.0)\n",
            "Requirement already satisfied: zipp>=3.20 in /usr/local/lib/python3.11/dist-packages (from importlib-metadata>=1.0.0->delta-spark==3.1.0) (3.23.0)\n",
            "Using cached delta_spark-3.1.0-py3-none-any.whl (21 kB)\n",
            "Installing collected packages: delta-spark\n",
            "  Attempting uninstall: delta-spark\n",
            "    Found existing installation: delta-spark 3.2.0\n",
            "    Uninstalling delta-spark-3.2.0:\n",
            "      Successfully uninstalled delta-spark-3.2.0\n",
            "Successfully installed delta-spark-3.1.0\n"
          ]
        }
      ],
      "source": [
        "\n",
        "# Install dependencies (only needed in Google Colab)\n",
        "# In Azure Databricks, skip this cell\n",
        "!pip install pyspark==3.5.1 delta-spark==3.1.0\n",
        "from pyspark.sql import SparkSession\n",
        "from delta import configure_spark_with_delta_pip\n"
      ]
    },
    {
      "cell_type": "code",
      "source": [
        "# using DELTA in colab\n",
        "!pip install delta-spark==3.2.0 -q\n",
        "import pyspark\n",
        "from delta import *\n",
        "from pyspark.sql.functions import *\n",
        "\n",
        "# Create a SparkSession with Delta Lake extensions\n",
        "# The '.config(...)' lines are crucial for enabling Delta Lake's features\n",
        "builder = pyspark.sql.SparkSession.builder.appName(\"DataRideHailing\") \\\n",
        "    .config(\"spark.sql.extensions\", \"io.delta.sql.DeltaSparkSessionExtension\") \\\n",
        "    .config(\"spark.sql.catalog.spark_catalog\", \"org.apache.spark.sql.delta.catalog.DeltaCatalog\")\n",
        "\n",
        "# Get or create the SparkSession\n",
        "spark = configure_spark_with_delta_pip(builder).getOrCreate()\n",
        "\n",
        "print(\"Spark and Delta Lake are ready!\")"
      ],
      "metadata": {
        "colab": {
          "base_uri": "https://localhost:8080/"
        },
        "id": "IZn44y8ZDpZT",
        "outputId": "7ace95db-bbaf-4b16-d4b4-e66216fac67f"
      },
      "execution_count": 2,
      "outputs": [
        {
          "output_type": "stream",
          "name": "stdout",
          "text": [
            "Spark and Delta Lake are ready!\n"
          ]
        }
      ]
    },
    {
      "cell_type": "code",
      "source": [
        "\n",
        "from pyspark.sql import SparkSession\n",
        "from delta import configure_spark_with_delta_pip\n",
        "from pyspark.sql import types as T\n",
        "from datetime import datetime\n",
        "\n",
        "# ---------- Inline data ----------\n",
        "# ---------- Schemas ----------\n",
        "trip_schema = T.StructType([\n",
        "    T.StructField(\"trip_id\", T.IntegerType()),\n",
        "    T.StructField(\"rider_id\", T.StringType()),\n",
        "    T.StructField(\"driver_id\", T.StringType()),\n",
        "    T.StructField(\"city\", T.StringType()),\n",
        "    T.StructField(\"distance_km\", T.DoubleType()),\n",
        "    T.StructField(\"fare\", T.DoubleType()),\n",
        "    T.StructField(\"tip\", T.DoubleType()),\n",
        "    T.StructField(\"ts\", T.TimestampType())\n",
        "])\n",
        "\n",
        "driver_schema = T.StructType([\n",
        "    T.StructField(\"driver_id\", T.StringType()),\n",
        "    T.StructField(\"driver_name\", T.StringType()),\n",
        "    T.StructField(\"rating\", T.DoubleType()),\n",
        "    T.StructField(\"vehicle\", T.StringType())\n",
        "])\n",
        "\n",
        "\n",
        "# ---------- Data ----------\n",
        "trips_rows = [\n",
        "    (1001,\"R001\",\"D010\",\"Bengaluru\", 12.4, 320.0, 20.0, datetime(2025,8,8,8,5,0)),\n",
        "    (1002,\"R002\",\"D011\",\"Hyderabad\", 6.2, 150.0, 10.0, datetime(2025,8,8,8,15,0)),\n",
        "    (1003,\"R003\",\"D012\",\"Pune\", 3.5, 90.0, 0.0, datetime(2025,8,8,8,20,0)),\n",
        "    (1004,\"R001\",\"D010\",\"Bengaluru\", 18.9, 480.0, 25.0, datetime(2025,8,8,8,45,0)),\n",
        "    (1005,\"R004\",\"D013\",\"Chennai\", 10.0, 260.0, 15.0, datetime(2025,8,8,9,5,0)),\n",
        "    (1006,\"R005\",\"D012\",\"Pune\", 2.2, 70.0, 0.0, datetime(2025,8,8,9,10,0)),\n",
        "]\n",
        "\n",
        "drivers_rows = [\n",
        "    (\"D010\",\"Anil\", 4.8,\"WagonR\"),\n",
        "    (\"D011\",\"Sana\", 4.6,\"i20\"),\n",
        "    (\"D012\",\"Rakesh\", 4.4,\"Swift\"),\n",
        "    (\"D013\",\"Meera\", 4.9,\"Ciaz\")\n",
        "]\n",
        ""
      ],
      "metadata": {
        "id": "zQL8-wT7Dubs"
      },
      "execution_count": 5,
      "outputs": []
    },
    {
      "cell_type": "code",
      "source": [
        "# Create DataFrames\n",
        "trips_df = spark.createDataFrame(trips_rows, schema=trip_schema)\n",
        "drivers_df = spark.createDataFrame(drivers_rows, schema=driver_schema)"
      ],
      "metadata": {
        "id": "LOGoLk48D8zq"
      },
      "execution_count": 6,
      "outputs": []
    },
    {
      "cell_type": "code",
      "source": [
        "# ---------- Save as Delta ----------\n",
        "BASE = \"/tmp/delta/ride_hailing\"\n",
        "TRIPS_PATH = f\"{BASE}/trips\"\n",
        "DRIVERS_PATH = f\"{BASE}/drivers\"\n",
        "\n",
        "trips_df.write.format(\"delta\").mode(\"overwrite\").save(TRIPS_PATH)\n",
        "drivers_df.write.format(\"delta\").mode(\"overwrite\").save(DRIVERS_PATH)\n",
        "\n",
        "print(\"Seeded:\")\n",
        "print(\" Trips ->\", TRIPS_PATH)\n",
        "print(\" Drivers ->\", DRIVERS_PATH)"
      ],
      "metadata": {
        "colab": {
          "base_uri": "https://localhost:8080/"
        },
        "id": "0kZX_zPbD-FG",
        "outputId": "f2654031-4593-4c25-b6ce-9a2793838fee"
      },
      "execution_count": 7,
      "outputs": [
        {
          "output_type": "stream",
          "name": "stdout",
          "text": [
            "Seeded:\n",
            " Trips -> /tmp/delta/ride_hailing/trips\n",
            " Drivers -> /tmp/delta/ride_hailing/drivers\n"
          ]
        }
      ]
    },
    {
      "cell_type": "code",
      "source": [
        "# Show drivers and trips tables\n",
        "drivers_df.show()\n",
        "trips_df.show()"
      ],
      "metadata": {
        "colab": {
          "base_uri": "https://localhost:8080/"
        },
        "id": "ivZhaDNFEGBb",
        "outputId": "ade16e67-896c-47a5-cb4f-e19df0665243"
      },
      "execution_count": 8,
      "outputs": [
        {
          "output_type": "stream",
          "name": "stdout",
          "text": [
            "+---------+-----------+------+-------+\n",
            "|driver_id|driver_name|rating|vehicle|\n",
            "+---------+-----------+------+-------+\n",
            "|     D010|       Anil|   4.8| WagonR|\n",
            "|     D011|       Sana|   4.6|    i20|\n",
            "|     D012|     Rakesh|   4.4|  Swift|\n",
            "|     D013|      Meera|   4.9|   Ciaz|\n",
            "+---------+-----------+------+-------+\n",
            "\n",
            "+-------+--------+---------+---------+-----------+-----+----+-------------------+\n",
            "|trip_id|rider_id|driver_id|     city|distance_km| fare| tip|                 ts|\n",
            "+-------+--------+---------+---------+-----------+-----+----+-------------------+\n",
            "|   1001|    R001|     D010|Bengaluru|       12.4|320.0|20.0|2025-08-08 08:05:00|\n",
            "|   1002|    R002|     D011|Hyderabad|        6.2|150.0|10.0|2025-08-08 08:15:00|\n",
            "|   1003|    R003|     D012|     Pune|        3.5| 90.0| 0.0|2025-08-08 08:20:00|\n",
            "|   1004|    R001|     D010|Bengaluru|       18.9|480.0|25.0|2025-08-08 08:45:00|\n",
            "|   1005|    R004|     D013|  Chennai|       10.0|260.0|15.0|2025-08-08 09:05:00|\n",
            "|   1006|    R005|     D012|     Pune|        2.2| 70.0| 0.0|2025-08-08 09:10:00|\n",
            "+-------+--------+---------+---------+-----------+-----+----+-------------------+\n",
            "\n"
          ]
        }
      ]
    },
    {
      "cell_type": "markdown",
      "source": [
        "#1) Managed vs Unmanaged Tables"
      ],
      "metadata": {
        "id": "jFpEWfsSEMOU"
      }
    },
    {
      "cell_type": "code",
      "source": [
        "# Create a managed Delta table trips_managed by AS SELECT from the Delta path.\n",
        "spark.sql(f\"DROP TABLE IF EXISTS trips_managed\")\n",
        "\n",
        "spark.sql(f\"\"\"\n",
        "CREATE TABLE trips_managed\n",
        "USING DELTA\n",
        "AS SELECT * FROM delta.`{TRIPS_PATH}`\n",
        "\"\"\")"
      ],
      "metadata": {
        "colab": {
          "base_uri": "https://localhost:8080/"
        },
        "id": "DDwMP3hiEI-y",
        "outputId": "847286de-9bf8-47bb-9c54-6b0c9b238ad7"
      },
      "execution_count": 9,
      "outputs": [
        {
          "output_type": "execute_result",
          "data": {
            "text/plain": [
              "DataFrame[]"
            ]
          },
          "metadata": {},
          "execution_count": 9
        }
      ]
    },
    {
      "cell_type": "code",
      "source": [
        "\n",
        "# Create an external (unmanaged) table drivers_ext that points to DRIVERS_PATH .\n",
        "spark.sql(f\"DROP TABLE IF EXISTS drivers_ext\")\n",
        "\n",
        "spark.sql(f\"\"\"\n",
        "CREATE TABLE drivers_ext\n",
        "USING DELTA\n",
        "LOCATION '{DRIVERS_PATH}'\n",
        "\"\"\")"
      ],
      "metadata": {
        "colab": {
          "base_uri": "https://localhost:8080/"
        },
        "id": "8ZkUb2SfES9w",
        "outputId": "21b23af2-8ef8-458d-b720-e6e70ce4d973"
      },
      "execution_count": 10,
      "outputs": [
        {
          "output_type": "execute_result",
          "data": {
            "text/plain": [
              "DataFrame[]"
            ]
          },
          "metadata": {},
          "execution_count": 10
        }
      ]
    },
    {
      "cell_type": "code",
      "source": [
        "\n",
        "# Verify locations with DESCRIBE DETAIL and explain the difference in your own words.\n",
        "\n",
        "print(\"Managed table detail:\")\n",
        "spark.sql(\"DESCRIBE DETAIL trips_managed\").show(truncate=False)\n",
        "print(\"Unmanaged table detail:\")\n",
        "spark.sql(\"DESCRIBE DETAIL drivers_ext\").show(truncate=False)\n",
        "# Difference:\n",
        "# Managed table → Data lives inside the metastore's warehouse dir; dropped table removes data.\n",
        "# Unmanaged table → Points to existing Delta path; dropped table does not delete files."
      ],
      "metadata": {
        "colab": {
          "base_uri": "https://localhost:8080/"
        },
        "id": "yGPJihVUEWWy",
        "outputId": "c36a47ac-f827-4fea-a9d2-dd9c443871cf"
      },
      "execution_count": 11,
      "outputs": [
        {
          "output_type": "stream",
          "name": "stdout",
          "text": [
            "Managed table detail:\n",
            "+------+------------------------------------+-----------------------------------+-----------+-------------------------------------------+-----------------------+-----------------------+----------------+-----------------+--------+-----------+----------+----------------+----------------+------------------------+\n",
            "|format|id                                  |name                               |description|location                                   |createdAt              |lastModified           |partitionColumns|clusteringColumns|numFiles|sizeInBytes|properties|minReaderVersion|minWriterVersion|tableFeatures           |\n",
            "+------+------------------------------------+-----------------------------------+-----------+-------------------------------------------+-----------------------+-----------------------+----------------+-----------------+--------+-----------+----------+----------------+----------------+------------------------+\n",
            "|delta |b32e0247-f9f6-4e03-b217-89de6940e451|spark_catalog.default.trips_managed|NULL       |file:/content/spark-warehouse/trips_managed|2025-08-14 10:12:28.514|2025-08-14 10:12:40.306|[]              |[]               |2       |4536       |{}        |1               |2               |[appendOnly, invariants]|\n",
            "+------+------------------------------------+-----------------------------------+-----------+-------------------------------------------+-----------------------+-----------------------+----------------+-----------------+--------+-----------+----------+----------------+----------------+------------------------+\n",
            "\n",
            "Unmanaged table detail:\n",
            "+------+------------------------------------+---------------------------------+-----------+------------------------------------+---------------------+-----------------------+----------------+-----------------+--------+-----------+----------+----------------+----------------+------------------------+\n",
            "|format|id                                  |name                             |description|location                            |createdAt            |lastModified           |partitionColumns|clusteringColumns|numFiles|sizeInBytes|properties|minReaderVersion|minWriterVersion|tableFeatures           |\n",
            "+------+------------------------------------+---------------------------------+-----------+------------------------------------+---------------------+-----------------------+----------------+-----------------+--------+-----------+----------+----------------+----------------+------------------------+\n",
            "|delta |aedb6a0c-7086-4fe5-b9da-5d855454572b|spark_catalog.default.drivers_ext|NULL       |file:/tmp/delta/ride_hailing/drivers|2025-08-14 10:11:36.7|2025-08-14 10:11:38.072|[]              |[]               |2       |2481       |{}        |1               |2               |[appendOnly, invariants]|\n",
            "+------+------------------------------------+---------------------------------+-----------+------------------------------------+---------------------+-----------------------+----------------+-----------------+--------+-----------+----------+----------------+----------------+------------------------+\n",
            "\n"
          ]
        }
      ]
    },
    {
      "cell_type": "code",
      "source": [
        "# show tables from managed and unmanaged tables\n",
        "spark.sql(\"SHOW TABLES\").show()"
      ],
      "metadata": {
        "colab": {
          "base_uri": "https://localhost:8080/"
        },
        "id": "Ov_7EJDzEZvG",
        "outputId": "95e41984-5c81-4797-8fc6-e2e0b43da563"
      },
      "execution_count": 12,
      "outputs": [
        {
          "output_type": "stream",
          "name": "stdout",
          "text": [
            "+---------+-------------+-----------+\n",
            "|namespace|    tableName|isTemporary|\n",
            "+---------+-------------+-----------+\n",
            "|  default|  drivers_ext|      false|\n",
            "|  default|trips_managed|      false|\n",
            "+---------+-------------+-----------+\n",
            "\n"
          ]
        }
      ]
    },
    {
      "cell_type": "code",
      "source": [
        "\n",
        "# show records of tables managed and unmanaged\n",
        "spark.sql(\"SELECT * FROM trips_managed\").show()\n",
        "spark.sql(\"SELECT * FROM drivers_ext\").show()"
      ],
      "metadata": {
        "colab": {
          "base_uri": "https://localhost:8080/"
        },
        "id": "wTMQNpF7EcWA",
        "outputId": "53d53e33-14f0-45ab-851d-ce9c4b073896"
      },
      "execution_count": 13,
      "outputs": [
        {
          "output_type": "stream",
          "name": "stdout",
          "text": [
            "+-------+--------+---------+---------+-----------+-----+----+-------------------+\n",
            "|trip_id|rider_id|driver_id|     city|distance_km| fare| tip|                 ts|\n",
            "+-------+--------+---------+---------+-----------+-----+----+-------------------+\n",
            "|   1004|    R001|     D010|Bengaluru|       18.9|480.0|25.0|2025-08-08 08:45:00|\n",
            "|   1005|    R004|     D013|  Chennai|       10.0|260.0|15.0|2025-08-08 09:05:00|\n",
            "|   1006|    R005|     D012|     Pune|        2.2| 70.0| 0.0|2025-08-08 09:10:00|\n",
            "|   1001|    R001|     D010|Bengaluru|       12.4|320.0|20.0|2025-08-08 08:05:00|\n",
            "|   1002|    R002|     D011|Hyderabad|        6.2|150.0|10.0|2025-08-08 08:15:00|\n",
            "|   1003|    R003|     D012|     Pune|        3.5| 90.0| 0.0|2025-08-08 08:20:00|\n",
            "+-------+--------+---------+---------+-----------+-----+----+-------------------+\n",
            "\n",
            "+---------+-----------+------+-------+\n",
            "|driver_id|driver_name|rating|vehicle|\n",
            "+---------+-----------+------+-------+\n",
            "|     D012|     Rakesh|   4.4|  Swift|\n",
            "|     D013|      Meera|   4.9|   Ciaz|\n",
            "|     D010|       Anil|   4.8| WagonR|\n",
            "|     D011|       Sana|   4.6|    i20|\n",
            "+---------+-----------+------+-------+\n",
            "\n"
          ]
        }
      ]
    },
    {
      "cell_type": "markdown",
      "source": [
        "#2) Read & Explore"
      ],
      "metadata": {
        "id": "RGapEN5zEfGJ"
      }
    },
    {
      "cell_type": "code",
      "source": [
        "# Read both tables, print schemas, and show 10 rows.\n",
        "df_trips = spark.read.format(\"delta\").load(TRIPS_PATH)\n",
        "df_drivers = spark.read.format(\"delta\").load(DRIVERS_PATH)\n",
        "\n",
        "df_trips.printSchema()\n",
        "df_drivers.printSchema()"
      ],
      "metadata": {
        "colab": {
          "base_uri": "https://localhost:8080/"
        },
        "id": "krAiYeqKEgtu",
        "outputId": "57a4b19d-97f0-47a6-c5fa-9f4b2a066c6e"
      },
      "execution_count": 14,
      "outputs": [
        {
          "output_type": "stream",
          "name": "stdout",
          "text": [
            "root\n",
            " |-- trip_id: integer (nullable = true)\n",
            " |-- rider_id: string (nullable = true)\n",
            " |-- driver_id: string (nullable = true)\n",
            " |-- city: string (nullable = true)\n",
            " |-- distance_km: double (nullable = true)\n",
            " |-- fare: double (nullable = true)\n",
            " |-- tip: double (nullable = true)\n",
            " |-- ts: timestamp (nullable = true)\n",
            "\n",
            "root\n",
            " |-- driver_id: string (nullable = true)\n",
            " |-- driver_name: string (nullable = true)\n",
            " |-- rating: double (nullable = true)\n",
            " |-- vehicle: string (nullable = true)\n",
            "\n"
          ]
        }
      ]
    },
    {
      "cell_type": "code",
      "source": [
        "\n",
        "# Compute a derived column total_amount = fare + tip and show top 5 trips by total_amount .\n",
        "from pyspark.sql import functions as F\n",
        "df_trips.withColumn(\"total_amount\", F.col(\"fare\") + F.col(\"tip\")) \\\n",
        "    .orderBy(F.desc(\"total_amount\")).show(5, truncate=False)"
      ],
      "metadata": {
        "colab": {
          "base_uri": "https://localhost:8080/"
        },
        "id": "yu2hDfH4Ejq7",
        "outputId": "c6f2e00e-1022-4b01-b391-6b55d2283cb3"
      },
      "execution_count": 15,
      "outputs": [
        {
          "output_type": "stream",
          "name": "stdout",
          "text": [
            "+-------+--------+---------+---------+-----------+-----+----+-------------------+------------+\n",
            "|trip_id|rider_id|driver_id|city     |distance_km|fare |tip |ts                 |total_amount|\n",
            "+-------+--------+---------+---------+-----------+-----+----+-------------------+------------+\n",
            "|1004   |R001    |D010     |Bengaluru|18.9       |480.0|25.0|2025-08-08 08:45:00|505.0       |\n",
            "|1001   |R001    |D010     |Bengaluru|12.4       |320.0|20.0|2025-08-08 08:05:00|340.0       |\n",
            "|1005   |R004    |D013     |Chennai  |10.0       |260.0|15.0|2025-08-08 09:05:00|275.0       |\n",
            "|1002   |R002    |D011     |Hyderabad|6.2        |150.0|10.0|2025-08-08 08:15:00|160.0       |\n",
            "|1003   |R003    |D012     |Pune     |3.5        |90.0 |0.0 |2025-08-08 08:20:00|90.0        |\n",
            "+-------+--------+---------+---------+-----------+-----+----+-------------------+------------+\n",
            "only showing top 5 rows\n",
            "\n"
          ]
        }
      ]
    },
    {
      "cell_type": "markdown",
      "source": [
        "#3) Update (Business Rule)"
      ],
      "metadata": {
        "id": "x5U-J9J-EnI7"
      }
    },
    {
      "cell_type": "code",
      "source": [
        "# Increase tip by 5 for trips in Bengaluru where distance_km > 15 .\n",
        "# Show before/after for affected rows only.\n",
        "\n",
        "from delta.tables import DeltaTable\n",
        "delta_trips = DeltaTable.forPath(spark, TRIPS_PATH)\n",
        "\n",
        "print(\"Before update:\")\n",
        "df_trips.filter((F.col(\"city\")==\"Bengaluru\") & (F.col(\"distance_km\")>15)).show()\n",
        "\n",
        "delta_trips.update(\n",
        "    condition=\"city='Bengaluru' AND distance_km>15\",\n",
        "    set={\"tip\": F.col(\"tip\") + 5}\n",
        ")\n",
        "\n",
        "print(\"After update:\")\n",
        "spark.read.format(\"delta\").load(TRIPS_PATH) \\\n",
        "    .filter((F.col(\"city\")==\"Bengaluru\") & (F.col(\"distance_km\")>15)).show()"
      ],
      "metadata": {
        "colab": {
          "base_uri": "https://localhost:8080/"
        },
        "id": "Qc_3cVhiEpch",
        "outputId": "c52f5c0c-bb63-4ae3-f789-302c6646f94e"
      },
      "execution_count": 16,
      "outputs": [
        {
          "output_type": "stream",
          "name": "stdout",
          "text": [
            "Before update:\n",
            "+-------+--------+---------+---------+-----------+-----+----+-------------------+\n",
            "|trip_id|rider_id|driver_id|     city|distance_km| fare| tip|                 ts|\n",
            "+-------+--------+---------+---------+-----------+-----+----+-------------------+\n",
            "|   1004|    R001|     D010|Bengaluru|       18.9|480.0|25.0|2025-08-08 08:45:00|\n",
            "+-------+--------+---------+---------+-----------+-----+----+-------------------+\n",
            "\n",
            "After update:\n",
            "+-------+--------+---------+---------+-----------+-----+----+-------------------+\n",
            "|trip_id|rider_id|driver_id|     city|distance_km| fare| tip|                 ts|\n",
            "+-------+--------+---------+---------+-----------+-----+----+-------------------+\n",
            "|   1004|    R001|     D010|Bengaluru|       18.9|480.0|30.0|2025-08-08 08:45:00|\n",
            "+-------+--------+---------+---------+-----------+-----+----+-------------------+\n",
            "\n"
          ]
        }
      ]
    },
    {
      "cell_type": "markdown",
      "source": [
        "#4) Delete (Data Quality)"
      ],
      "metadata": {
        "id": "2LfS0YzbEtJC"
      }
    },
    {
      "cell_type": "code",
      "source": [
        "\n",
        "# Delete trips where fare <= 0 or distance_km <= 0 (simulate bad ingest).\n",
        "delta_trips.delete(\"fare<=0 OR distance_km<=0\")\n",
        "# Show remaining row count.\n",
        "print(\"Row count after delete:\", spark.read.format(\"delta\").load(TRIPS_PATH).count())"
      ],
      "metadata": {
        "colab": {
          "base_uri": "https://localhost:8080/"
        },
        "id": "DiCjbdUqEw4r",
        "outputId": "cac04545-3e05-4ec9-e3f6-df64abfe9d8d"
      },
      "execution_count": 17,
      "outputs": [
        {
          "output_type": "stream",
          "name": "stdout",
          "text": [
            "Row count after delete: 6\n"
          ]
        }
      ]
    },
    {
      "cell_type": "markdown",
      "source": [
        "#5) Merge (Upsert New Batch)"
      ],
      "metadata": {
        "id": "cNaVroc7E2X4"
      }
    },
    {
      "cell_type": "code",
      "source": [
        "# Create a new inline batch with:\n",
        "# one existing trip_id (e.g., 1004) but a corrected fare or tip, and\n",
        "# one new trip (e.g., 1007). Perform a MERGE (match on trip_id ) to update the existing and insert the new.\n",
        "# Show rows for trip_id IN (1004,1007) to confirm.\n",
        "\n",
        "new_batch = [\n",
        "    (1004,\"R001\",\"D010\",\"Bengaluru\", 18.9, 500.0, 30.0, datetime(2025,8,8,8,45,0)),\n",
        "    (1007,\"R006\",\"D011\",\"Hyderabad\", 5.0, 120.0, 10.0, datetime(2025,8,8,9,20,0)),\n",
        "]\n",
        "df_new = spark.createDataFrame(new_batch, schema=trip_schema)\n",
        "\n",
        "delta_trips.alias(\"t\").merge(\n",
        "    df_new.alias(\"n\"),\n",
        "    \"t.trip_id = n.trip_id\"\n",
        ").whenMatchedUpdateAll().whenNotMatchedInsertAll().execute()\n",
        "\n",
        "spark.read.format(\"delta\").load(TRIPS_PATH) \\\n",
        "    .filter(F.col(\"trip_id\").isin(1004,1007)).show()"
      ],
      "metadata": {
        "colab": {
          "base_uri": "https://localhost:8080/"
        },
        "id": "0j7ndXMSE7iT",
        "outputId": "eab3efea-83db-45eb-fc47-97bf7c2f510e"
      },
      "execution_count": 18,
      "outputs": [
        {
          "output_type": "stream",
          "name": "stdout",
          "text": [
            "+-------+--------+---------+---------+-----------+-----+----+-------------------+\n",
            "|trip_id|rider_id|driver_id|     city|distance_km| fare| tip|                 ts|\n",
            "+-------+--------+---------+---------+-----------+-----+----+-------------------+\n",
            "|   1004|    R001|     D010|Bengaluru|       18.9|500.0|30.0|2025-08-08 08:45:00|\n",
            "|   1007|    R006|     D011|Hyderabad|        5.0|120.0|10.0|2025-08-08 09:20:00|\n",
            "+-------+--------+---------+---------+-----------+-----+----+-------------------+\n",
            "\n"
          ]
        }
      ]
    },
    {
      "cell_type": "markdown",
      "source": [
        "#6) Gold View (Join & KPIs)"
      ],
      "metadata": {
        "id": "hf4lYGgzE-uZ"
      }
    },
    {
      "cell_type": "code",
      "source": [
        "# Join trips with drivers on driver_id .\n",
        "df_gold = spark.read.format(\"delta\").load(TRIPS_PATH).alias(\"t\") \\\n",
        "    .join(df_drivers.alias(\"d\"), \"driver_id\") \\\n",
        "    .withColumn(\"total_amount\", F.col(\"fare\")+F.col(\"tip\")) \\\n",
        "    .select(\"trip_id\",\"city\",\"driver_name\",\"rating\",\"distance_km\",\"total_amount\",\"ts\")\n",
        "\n",
        "# Create a gold view with columns: trip_id, city, driver_name, rating, distance_km, total_amount, ts .\n",
        "df_gold.createOrReplaceTempView(\"gold_view\")\n",
        "\n",
        "# Compute city-wise total revenue and average driver rating.\n",
        "spark.sql(\"\"\"\n",
        "SELECT city, SUM(total_amount) AS total_revenue, AVG(rating) AS avg_rating\n",
        "FROM gold_view GROUP BY city\n",
        "\"\"\").show()\n",
        "\n",
        "# Compute driver-wise total trips and top 3 drivers by revenue.\n",
        "spark.sql(\"\"\"\n",
        "SELECT driver_name, SUM(total_amount) AS revenue\n",
        "FROM gold_view GROUP BY driver_name ORDER BY revenue DESC LIMIT 3\n",
        "\"\"\").show()"
      ],
      "metadata": {
        "colab": {
          "base_uri": "https://localhost:8080/"
        },
        "id": "VMDjL92jFCpm",
        "outputId": "9aff323c-101d-4b1a-8f2d-2e612fed318f"
      },
      "execution_count": 19,
      "outputs": [
        {
          "output_type": "stream",
          "name": "stdout",
          "text": [
            "+---------+-------------+----------+\n",
            "|     city|total_revenue|avg_rating|\n",
            "+---------+-------------+----------+\n",
            "|  Chennai|        275.0|       4.9|\n",
            "|     Pune|        160.0|       4.4|\n",
            "|Bengaluru|        870.0|       4.8|\n",
            "|Hyderabad|        290.0|       4.6|\n",
            "+---------+-------------+----------+\n",
            "\n",
            "+-----------+-------+\n",
            "|driver_name|revenue|\n",
            "+-----------+-------+\n",
            "|       Anil|  870.0|\n",
            "|       Sana|  290.0|\n",
            "|      Meera|  275.0|\n",
            "+-----------+-------+\n",
            "\n"
          ]
        }
      ]
    },
    {
      "cell_type": "markdown",
      "source": [
        "#7) Time Travel & History"
      ],
      "metadata": {
        "id": "E_SrNAbuFF8d"
      }
    },
    {
      "cell_type": "code",
      "source": [
        "\n",
        "\n",
        "# Show DESCRIBE HISTORY for the trips table (the one you updated/merged).\n",
        "spark.sql(f\"DESCRIBE HISTORY delta.`{TRIPS_PATH}`\").show(truncate=False)"
      ],
      "metadata": {
        "colab": {
          "base_uri": "https://localhost:8080/"
        },
        "id": "zwgYi47eFKjG",
        "outputId": "2404e621-e100-4609-d613-ad3fb0e776ac"
      },
      "execution_count": 20,
      "outputs": [
        {
          "output_type": "stream",
          "name": "stdout",
          "text": [
            "+-------+-----------------------+------+--------+---------+---------------------------------------------------------------------------------------------------------------------------------------------------------------------------------------+----+--------+---------+-----------+--------------+-------------+--------------------------------------------------------------------------------------------------------------------------------------------------------------------------------------------------------------------------------------------------------------------------------------------------------------------------------------------------------------------------------------------------------------------------------------------------------------------------------------------------------------------------------------------------------------------------------------------------------------------------------------------------------+------------+-----------------------------------+\n",
            "|version|timestamp              |userId|userName|operation|operationParameters                                                                                                                                                                    |job |notebook|clusterId|readVersion|isolationLevel|isBlindAppend|operationMetrics                                                                                                                                                                                                                                                                                                                                                                                                                                                                                                                                                                                                                                        |userMetadata|engineInfo                         |\n",
            "+-------+-----------------------+------+--------+---------+---------------------------------------------------------------------------------------------------------------------------------------------------------------------------------------+----+--------+---------+-----------+--------------+-------------+--------------------------------------------------------------------------------------------------------------------------------------------------------------------------------------------------------------------------------------------------------------------------------------------------------------------------------------------------------------------------------------------------------------------------------------------------------------------------------------------------------------------------------------------------------------------------------------------------------------------------------------------------------+------------+-----------------------------------+\n",
            "|2      |2025-08-14 10:15:39.417|NULL  |NULL    |MERGE    |{predicate -> [\"(trip_id#4160 = trip_id#5891)\"], matchedPredicates -> [{\"actionType\":\"update\"}], notMatchedPredicates -> [{\"actionType\":\"insert\"}], notMatchedBySourcePredicates -> []}|NULL|NULL    |NULL     |1          |Serializable  |false        |{numTargetRowsCopied -> 2, numTargetRowsDeleted -> 0, numTargetFilesAdded -> 1, numTargetBytesAdded -> 2321, numTargetBytesRemoved -> 2268, numTargetDeletionVectorsAdded -> 0, numTargetRowsMatchedUpdated -> 1, executionTimeMs -> 4987, numTargetRowsInserted -> 1, numTargetRowsMatchedDeleted -> 0, numTargetDeletionVectorsUpdated -> 0, scanTimeMs -> 3178, numTargetRowsUpdated -> 1, numOutputRows -> 4, numTargetDeletionVectorsRemoved -> 0, numTargetRowsNotMatchedBySourceUpdated -> 0, numTargetChangeFilesAdded -> 0, numSourceRows -> 2, numTargetFilesRemoved -> 1, numTargetRowsNotMatchedBySourceDeleted -> 0, rewriteTimeMs -> 1210}|NULL        |Apache-Spark/3.5.1 Delta-Lake/3.2.0|\n",
            "|1      |2025-08-14 10:14:26.943|NULL  |NULL    |UPDATE   |{predicate -> [\"((city#4163 = Bengaluru) AND (distance_km#4164 > 15.0))\"]}                                                                                                             |NULL|NULL    |NULL     |0          |Serializable  |false        |{numRemovedFiles -> 1, numRemovedBytes -> 2268, numCopiedRows -> 2, numDeletionVectorsAdded -> 0, numDeletionVectorsRemoved -> 0, numAddedChangeFiles -> 0, executionTimeMs -> 2955, numDeletionVectorsUpdated -> 0, scanTimeMs -> 2283, numAddedFiles -> 1, numUpdatedRows -> 1, numAddedBytes -> 2268, rewriteTimeMs -> 668}                                                                                                                                                                                                                                                                                                                          |NULL        |Apache-Spark/3.5.1 Delta-Lake/3.2.0|\n",
            "|0      |2025-08-14 10:11:35.313|NULL  |NULL    |WRITE    |{mode -> Overwrite, partitionBy -> []}                                                                                                                                                 |NULL|NULL    |NULL     |NULL       |Serializable  |false        |{numFiles -> 2, numOutputRows -> 6, numOutputBytes -> 4536}                                                                                                                                                                                                                                                                                                                                                                                                                                                                                                                                                                                             |NULL        |Apache-Spark/3.5.1 Delta-Lake/3.2.0|\n",
            "+-------+-----------------------+------+--------+---------+---------------------------------------------------------------------------------------------------------------------------------------------------------------------------------------+----+--------+---------+-----------+--------------+-------------+--------------------------------------------------------------------------------------------------------------------------------------------------------------------------------------------------------------------------------------------------------------------------------------------------------------------------------------------------------------------------------------------------------------------------------------------------------------------------------------------------------------------------------------------------------------------------------------------------------------------------------------------------------+------------+-----------------------------------+\n",
            "\n"
          ]
        }
      ]
    },
    {
      "cell_type": "code",
      "source": [
        "\n",
        "# Read the table as of version 0, and compare counts and a few rows with the latest version.\n",
        "version0 = spark.read.format(\"delta\").option(\"versionAsOf\",0).load(TRIPS_PATH)\n",
        "print(\"Version 0 count:\", version0.count())\n",
        "print(\"Latest count:\", spark.read.format(\"delta\").load(TRIPS_PATH).count())"
      ],
      "metadata": {
        "colab": {
          "base_uri": "https://localhost:8080/"
        },
        "id": "mxwEQ-9IFPxP",
        "outputId": "7c6e9679-77ac-460f-d0fa-90583ebfb797"
      },
      "execution_count": 21,
      "outputs": [
        {
          "output_type": "stream",
          "name": "stdout",
          "text": [
            "Version 0 count: 6\n",
            "Latest count: 7\n"
          ]
        }
      ]
    },
    {
      "cell_type": "markdown",
      "source": [
        "#8) Partitioned Rewrite (Performance)"
      ],
      "metadata": {
        "id": "JtFu4Z1YFSgR"
      }
    },
    {
      "cell_type": "code",
      "source": [
        "\n",
        "# Rewrite the trips table partitioned by city into a new Delta path.\n",
        "PARTITIONED_PATH = f\"{BASE}/trips_partitioned\"\n",
        "spark.read.format(\"delta\").load(TRIPS_PATH) \\\n",
        "    .write.format(\"delta\").mode(\"overwrite\").partitionBy(\"city\").save(PARTITIONED_PATH)\n",
        "\n",
        ""
      ],
      "metadata": {
        "id": "m4sYi5iCFR3k"
      },
      "execution_count": 22,
      "outputs": []
    },
    {
      "cell_type": "code",
      "source": [
        "# Compare file layout (optional: list files) and run a simple filter city='Bengaluru' to observe read behavior/time.\n",
        "print(\"Filter Bengaluru from partitioned table:\")\n",
        "spark.read.format(\"delta\").load(PARTITIONED_PATH).filter(F.col(\"city\")==\"Bengaluru\").show()\n"
      ],
      "metadata": {
        "colab": {
          "base_uri": "https://localhost:8080/"
        },
        "id": "mJV1yWiZFfsj",
        "outputId": "bc773ee3-8025-4d89-c795-c0215e859169"
      },
      "execution_count": 23,
      "outputs": [
        {
          "output_type": "stream",
          "name": "stdout",
          "text": [
            "Filter Bengaluru from partitioned table:\n",
            "+-------+--------+---------+---------+-----------+-----+----+-------------------+\n",
            "|trip_id|rider_id|driver_id|     city|distance_km| fare| tip|                 ts|\n",
            "+-------+--------+---------+---------+-----------+-----+----+-------------------+\n",
            "|   1001|    R001|     D010|Bengaluru|       12.4|320.0|20.0|2025-08-08 08:05:00|\n",
            "|   1004|    R001|     D010|Bengaluru|       18.9|500.0|30.0|2025-08-08 08:45:00|\n",
            "+-------+--------+---------+---------+-----------+-----+----+-------------------+\n",
            "\n"
          ]
        }
      ]
    },
    {
      "cell_type": "markdown",
      "source": [
        "#9) Incremental Load Simulation"
      ],
      "metadata": {
        "id": "w5M0PvUhFjLa"
      }
    },
    {
      "cell_type": "code",
      "source": [
        " # Create a small incremental batch (e.g., trip_ids 1008–1009) with a new city (e.g., Mumbai).\n",
        "incremental = [\n",
        "    (1008,\"R007\",\"D012\",\"Mumbai\", 8.0, 200.0, 15.0, datetime(2025,8,8,10,0,0)),\n",
        "    (1009,\"R008\",\"D013\",\"Mumbai\", 6.5, 180.0, 12.0, datetime(2025,8,8,10,10,0)),\n",
        "]\n",
        "\n",
        "# Append to the trips table.\n",
        "spark.createDataFrame(incremental, schema=trip_schema) \\\n",
        "    .write.format(\"delta\").mode(\"append\").save(TRIPS_PATH)\n",
        "\n",
        "\n",
        "# Re-run the city-wise revenue aggregation and note the change.\n",
        "spark.read.format(\"delta\").load(TRIPS_PATH) \\\n",
        "    .groupBy(\"city\").agg(F.sum(F.col(\"fare\")+F.col(\"tip\")).alias(\"total_revenue\")).show()"
      ],
      "metadata": {
        "colab": {
          "base_uri": "https://localhost:8080/"
        },
        "id": "nIhp5GvaFkI4",
        "outputId": "42aba77c-94c1-43dd-cc1c-c8cd806294d6"
      },
      "execution_count": 24,
      "outputs": [
        {
          "output_type": "stream",
          "name": "stdout",
          "text": [
            "+---------+-------------+\n",
            "|     city|total_revenue|\n",
            "+---------+-------------+\n",
            "|  Chennai|        275.0|\n",
            "|     Pune|        160.0|\n",
            "|Bengaluru|        870.0|\n",
            "|Hyderabad|        290.0|\n",
            "|   Mumbai|        407.0|\n",
            "+---------+-------------+\n",
            "\n"
          ]
        }
      ]
    },
    {
      "cell_type": "markdown",
      "source": [
        "#10) Simple Streaming (File Stream → Console)"
      ],
      "metadata": {
        "id": "ynngMYJvFs8n"
      }
    },
    {
      "cell_type": "code",
      "source": [
        "\n",
        "# Start a structured stream that reads Delta from TRIPS_PATH in readStream mode and writes to console (append).\n",
        "stream_df = spark.readStream.format(\"delta\").load(TRIPS_PATH)\n",
        "query = stream_df.writeStream.format(\"console\").outputMode(\"append\").trigger(processingTime=\"5 seconds\").start()\n",
        "\n",
        "# While the stream runs, append another tiny batch (e.g., one more Mumbai trip) and observe the new row displayed.\n",
        "# Tip: Use .trigger(processingTime='5 seconds') to throttle updates.\n",
        "# Append while stream runs\n",
        "import time\n",
        "time.sleep(5)\n",
        "spark.createDataFrame([(1010,\"R009\",\"D010\",\"Mumbai\", 7.0, 210.0, 10.0, datetime(2025,8,8,10,20,0))], schema=trip_schema) \\\n",
        "    .write.format(\"delta\").mode(\"append\").save(TRIPS_PATH)\n",
        "time.sleep(10)\n",
        "query.stop()"
      ],
      "metadata": {
        "id": "kDALxpawFutI"
      },
      "execution_count": 25,
      "outputs": []
    },
    {
      "cell_type": "markdown",
      "source": [
        "#11) Visualization"
      ],
      "metadata": {
        "id": "ztEi180uF07H"
      }
    },
    {
      "cell_type": "code",
      "source": [
        "\n",
        "# Convert the gold view results (city revenue) to Pandas and plot a bar chart of city vs total revenue.\n",
        "import pandas as pd\n",
        "import matplotlib.pyplot as plt\n",
        "\n",
        "city_rev = spark.sql(\"\"\"\n",
        "SELECT city, SUM(total_amount) AS total_revenue FROM gold_view GROUP BY city\n",
        "\"\"\").toPandas()\n",
        "\n",
        "plt.bar(city_rev['city'], city_rev['total_revenue'])\n",
        "plt.rcParams['axes.prop_cycle'] = plt.cycler(color=['red'])\n",
        "plt.title(\"City vs Total Revenue\")\n",
        "plt.xlabel(\"City\")\n",
        "plt.ylabel(\"Total Revenue\")\n",
        "plt.show()"
      ],
      "metadata": {
        "colab": {
          "base_uri": "https://localhost:8080/",
          "height": 472
        },
        "id": "21XOYW48F4y8",
        "outputId": "9855d192-25de-40dc-f097-a2571e9956f1"
      },
      "execution_count": 28,
      "outputs": [
        {
          "output_type": "display_data",
          "data": {
            "text/plain": [
              "<Figure size 640x480 with 1 Axes>"
            ],
            "image/png": "[encoded data removed]"
          },
          "metadata": {}
        }
      ]
    },
    {
      "cell_type": "code",
      "source": [
        "\n",
        "# Plot a line chart of hourly revenue: group by hour(ts) and sum total_amount .\n",
        "hourly = spark.sql(\"\"\"\n",
        "SELECT hour(ts) AS hr, SUM(total_amount) AS total_rev FROM gold_view GROUP BY hr ORDER BY hr\n",
        "\"\"\").toPandas()\n",
        "\n",
        "plt.plot(hourly['hr'], hourly['total_rev'], marker='o')\n",
        "plt.rcParams['axes.prop_cycle'] = plt.cycler(color=['orange'])\n",
        "plt.title(\"Hourly Revenue\")\n",
        "plt.xlabel(\"Hour\")\n",
        "plt.ylabel(\"Total Revenue\")\n",
        "plt.show()"
      ],
      "metadata": {
        "colab": {
          "base_uri": "https://localhost:8080/",
          "height": 472
        },
        "id": "A76kTrltGF_d",
        "outputId": "f73b2636-d7d7-4454-b83a-3ec86eeb15c4"
      },
      "execution_count": 29,
      "outputs": [
        {
          "output_type": "display_data",
          "data": {
            "text/plain": [
              "<Figure size 640x480 with 1 Axes>"
            ],
            "image/png": "[encoded data removed]"
          },
          "metadata": {}
        }
      ]
    },
    {
      "cell_type": "markdown",
      "source": [
        "#12) Managed vs Unmanaged Cleanup"
      ],
      "metadata": {
        "id": "ixr-ZRPbGOE9"
      }
    },
    {
      "cell_type": "code",
      "source": [
        "# Drop if exists\n",
        "spark.sql(\"DROP TABLE IF EXISTS trips_managed_real\")\n",
        "\n",
        "# Create a true managed table (data stored in warehouse path)\n",
        "df_trips.write.format(\"delta\").saveAsTable(\"trips_managed_real\")\n",
        "\n",
        "print(\"\\nManaged table detail BEFORE drop:\")\n",
        "spark.sql(\"DESCRIBE DETAIL trips_managed_real\").show(truncate=False)\n",
        "\n",
        "# Get warehouse location from Spark config\n",
        "warehouse_dir = spark.conf.get(\"spark.sql.warehouse.dir\")\n",
        "managed_path = f\"{warehouse_dir}/trips_managed_real\"\n",
        "\n",
        "# Drop the managed table\n",
        "spark.sql(\"DROP TABLE trips_managed_real\")\n",
        "\n",
        "# Check if the data folder still exists\n",
        "import os\n",
        "print(\"Managed table data exists after drop?\", os.path.exists(managed_path))\n",
        "\n",
        "# Now check unmanaged table behavior\n",
        "spark.sql(\"DROP TABLE IF EXISTS drivers_ext\")\n",
        "print(\"Unmanaged drivers data exists after drop?\", os.path.exists(DRIVERS_PATH))\n"
      ],
      "metadata": {
        "colab": {
          "base_uri": "https://localhost:8080/"
        },
        "id": "VWRiGES4GPg2",
        "outputId": "3e3deaf3-447c-40ab-a120-a052cd8c065e"
      },
      "execution_count": 30,
      "outputs": [
        {
          "output_type": "stream",
          "name": "stdout",
          "text": [
            "\n",
            "Managed table detail BEFORE drop:\n",
            "+------+------------------------------------+----------------------------------------+-----------+------------------------------------------------+-----------------------+-----------------------+----------------+-----------------+--------+-----------+----------+----------------+----------------+------------------------+\n",
            "|format|id                                  |name                                    |description|location                                        |createdAt              |lastModified           |partitionColumns|clusteringColumns|numFiles|sizeInBytes|properties|minReaderVersion|minWriterVersion|tableFeatures           |\n",
            "+------+------------------------------------+----------------------------------------+-----------+------------------------------------------------+-----------------------+-----------------------+----------------+-----------------+--------+-----------+----------+----------------+----------------+------------------------+\n",
            "|delta |dd4eaadf-94c2-4ee7-abfc-31db4487f15a|spark_catalog.default.trips_managed_real|NULL       |file:/content/spark-warehouse/trips_managed_real|2025-08-14 10:21:19.434|2025-08-14 10:21:21.869|[]              |[]               |2       |4850       |{}        |1               |2               |[appendOnly, invariants]|\n",
            "+------+------------------------------------+----------------------------------------+-----------+------------------------------------------------+-----------------------+-----------------------+----------------+-----------------+--------+-----------+----------+----------------+----------------+------------------------+\n",
            "\n",
            "Managed table data exists after drop? False\n",
            "Unmanaged drivers data exists after drop? True\n"
          ]
        }
      ]
    },
    {
      "cell_type": "markdown",
      "source": [
        "#13) Constraint/Quality Check (Optional)"
      ],
      "metadata": {
        "id": "wnK2FmV6GUkc"
      }
    },
    {
      "cell_type": "code",
      "source": [
        "\n",
        "bad_data = [(1011,\"R010\",\"D011\",\"Pune\", 5.0, 100.0, -5.0, datetime(2025,8,8,11,0,0))]\n",
        "df_bad = spark.createDataFrame(bad_data, schema=trip_schema)\n",
        "df_bad_filtered = df_bad.filter(F.col(\"tip\") >= 0)  # rejects bad data\n",
        "df_bad_filtered.show()"
      ],
      "metadata": {
        "colab": {
          "base_uri": "https://localhost:8080/"
        },
        "id": "kpuNWTNYGWIt",
        "outputId": "003dcb9b-5289-4ddc-9947-9c762428e80a"
      },
      "execution_count": 31,
      "outputs": [
        {
          "output_type": "stream",
          "name": "stdout",
          "text": [
            "+-------+--------+---------+----+-----------+----+---+---+\n",
            "|trip_id|rider_id|driver_id|city|distance_km|fare|tip| ts|\n",
            "+-------+--------+---------+----+-----------+----+---+---+\n",
            "+-------+--------+---------+----+-----------+----+---+---+\n",
            "\n"
          ]
        }
      ]
    },
    {
      "cell_type": "markdown",
      "source": [
        "#14) Convert Parquet → Delta (Optional)"
      ],
      "metadata": {
        "id": "nuy-hkZyGYyc"
      }
    },
    {
      "cell_type": "code",
      "source": [
        "PARQUET_PATH = f\"{BASE}/parquet_sample\"\n",
        "spark.read.format(\"delta\").load(TRIPS_PATH).limit(3).write.mode(\"overwrite\").parquet(PARQUET_PATH)\n",
        "spark.sql(f\"CONVERT TO DELTA parquet.`{PARQUET_PATH}`\")\n",
        "spark.read.format(\"delta\").load(PARQUET_PATH).show()"
      ],
      "metadata": {
        "colab": {
          "base_uri": "https://localhost:8080/"
        },
        "id": "bG-ye00WGb8z",
        "outputId": "5dfb7a03-7e28-4304-a6d7-35c1a8e7b1e0"
      },
      "execution_count": 32,
      "outputs": [
        {
          "output_type": "stream",
          "name": "stdout",
          "text": [
            "+-------+--------+---------+---------+-----------+-----+----+-------------------+\n",
            "|trip_id|rider_id|driver_id|     city|distance_km| fare| tip|                 ts|\n",
            "+-------+--------+---------+---------+-----------+-----+----+-------------------+\n",
            "|   1004|    R001|     D010|Bengaluru|       18.9|500.0|30.0|2025-08-08 08:45:00|\n",
            "|   1005|    R004|     D013|  Chennai|       10.0|260.0|15.0|2025-08-08 09:05:00|\n",
            "|   1006|    R005|     D012|     Pune|        2.2| 70.0| 0.0|2025-08-08 09:10:00|\n",
            "+-------+--------+---------+---------+-----------+-----+----+-------------------+\n",
            "\n"
          ]
        }
      ]
    },
    {
      "cell_type": "markdown",
      "source": [
        "##15) Bonus KPI Dashboard (Notebook Display)"
      ],
      "metadata": {
        "id": "OjHArTg3GfO0"
      }
    },
    {
      "cell_type": "code",
      "source": [
        "import matplotlib.pyplot as plt\n",
        "import pandas as pd\n",
        "from pyspark.sql import functions as F\n",
        "\n",
        "# 1) Total Revenue\n",
        "total_revenue = df_gold.groupBy().sum(\"total_amount\").collect()[0][0]\n",
        "print(f\"Total Revenue: {total_revenue:.2f}\")\n",
        ""
      ],
      "metadata": {
        "colab": {
          "base_uri": "https://localhost:8080/"
        },
        "id": "wJxTJKVyGoIX",
        "outputId": "7ea8f81a-7f3b-4fd3-f4ef-7c0c7df04c8c"
      },
      "execution_count": 33,
      "outputs": [
        {
          "output_type": "stream",
          "name": "stdout",
          "text": [
            "Total Revenue: 2222.00\n"
          ]
        }
      ]
    },
    {
      "cell_type": "code",
      "source": [
        "# 2) Trips per city(BAR)\n",
        "city_trips = (\n",
        "    df_gold.groupBy(\"city\")\n",
        "           .count()\n",
        "           .orderBy(F.desc(\"count\"))\n",
        "           .toPandas()\n",
        ")\n",
        "plt.figure(figsize=(6,4))\n",
        "plt.bar(city_trips[\"city\"], city_trips[\"count\"], color=\"green\")\n",
        "plt.title(\"Trips per City\")\n",
        "plt.xlabel(\"City\")\n",
        "plt.ylabel(\"Number of Trips\")\n",
        "plt.tight_layout()\n",
        "plt.show()"
      ],
      "metadata": {
        "colab": {
          "base_uri": "https://localhost:8080/",
          "height": 407
        },
        "id": "gPEw2YFNGtS_",
        "outputId": "b97787dd-311d-46b7-ec61-8100ddd6a7c5"
      },
      "execution_count": 35,
      "outputs": [
        {
          "output_type": "display_data",
          "data": {
            "text/plain": [
              "<Figure size 600x400 with 1 Axes>"
            ],
            "image/png": "[encoded data removed]"
          },
          "metadata": {}
        }
      ]
    },
    {
      "cell_type": "code",
      "source": [
        "# 3) Top drivers by revenue(BAR)\n",
        "driver_revenue = (\n",
        "    df_gold.groupBy(\"driver_name\")\n",
        "           .sum(\"total_amount\")\n",
        "           .withColumnRenamed(\"sum(total_amount)\", \"revenue\")\n",
        "           .orderBy(F.desc(\"revenue\"))\n",
        "           .limit(5)\n",
        "           .toPandas()\n",
        ")\n",
        "plt.figure(figsize=(6,4))\n",
        "plt.bar(driver_revenue[\"driver_name\"], driver_revenue[\"revenue\"], color=\"violet\")\n",
        "plt.title(\"Top Drivers by Revenue\")\n",
        "plt.xlabel(\"Driver\")\n",
        "plt.ylabel(\"Revenue\")\n",
        "plt.tight_layout()\n",
        "plt.show()"
      ],
      "metadata": {
        "colab": {
          "base_uri": "https://localhost:8080/",
          "height": 407
        },
        "id": "ae1KmQPoG1Ps",
        "outputId": "f0183131-1712-409d-ff9c-95ce6c6678e6"
      },
      "execution_count": 37,
      "outputs": [
        {
          "output_type": "display_data",
          "data": {
            "text/plain": [
              "<Figure size 600x400 with 1 Axes>"
            ],
            "image/png": "[encoded data removed]"
          },
          "metadata": {}
        }
      ]
    },
    {
      "cell_type": "code",
      "source": [
        "# 4) Revenue by hour(LINE)\n",
        "hourly_revenue = (\n",
        "    df_gold.withColumn(\"hour\", F.hour(\"ts\"))\n",
        "           .groupBy(\"hour\")\n",
        "           .sum(\"total_amount\")\n",
        "           .withColumnRenamed(\"sum(total_amount)\", \"revenue\")\n",
        "           .orderBy(\"hour\")\n",
        "           .toPandas()\n",
        ")\n",
        "plt.figure(figsize=(7,4))\n",
        "plt.plot(hourly_revenue[\"hour\"], hourly_revenue[\"revenue\"], marker=\"o\", linestyle=\"-\")\n",
        "plt.rcParams['axes.prop_cycle'] = plt.cycler(color=['brown'])\n",
        "plt.title(\"Revenue by Hour\")\n",
        "plt.xlabel(\"Hour of Day\")\n",
        "plt.ylabel(\"Revenue\")\n",
        "plt.grid(True)\n",
        "plt.tight_layout()\n",
        "plt.show()\n",
        ""
      ],
      "metadata": {
        "colab": {
          "base_uri": "https://localhost:8080/",
          "height": 407
        },
        "id": "BVt5CXmsG7BB",
        "outputId": "d2959fab-1de7-473d-ac8f-ad7c5a7eaa77"
      },
      "execution_count": 39,
      "outputs": [
        {
          "output_type": "display_data",
          "data": {
            "text/plain": [
              "<Figure size 700x400 with 1 Axes>"
            ],
            "image/png": "[encoded data removed]"
          },
          "metadata": {}
        }
      ]
    }
  ]
}