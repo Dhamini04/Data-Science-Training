{
  "nbformat": 4,
  "nbformat_minor": 0,
  "metadata": {
    "colab": {
      "provenance": []
    },
    "kernelspec": {
      "name": "python3",
      "display_name": "Python 3"
    },
    "language_info": {
      "name": "python"
    }
  },
  "cells": [
    {
      "cell_type": "code",
      "execution_count": 6,
      "metadata": {
        "id": "g1xjgu3QwS-k"
      },
      "outputs": [],
      "source": [
        "!pip install pyspark==3.5.0 delta-spark==3.1.0 --quiet\n"
      ]
    },
    {
      "cell_type": "code",
      "source": [
        "from pyspark.sql import SparkSession\n",
        "from delta import configure_spark_with_delta_pip\n",
        "\n",
        "builder = (\n",
        "    SparkSession.builder.appName(\"DeltaDemo\")\n",
        "    .config(\"spark.sql.extensions\", \"io.delta.sql.DeltaSparkSessionExtension\")\n",
        "    .config(\"spark.sql.catalog.spark_catalog\", \"org.apache.spark.sql.delta.catalog.DeltaCatalog\")\n",
        ")\n",
        "spark = configure_spark_with_delta_pip(builder).getOrCreate()\n",
        "\n"
      ],
      "metadata": {
        "id": "P5su3ZB9wsGw"
      },
      "execution_count": 7,
      "outputs": []
    },
    {
      "cell_type": "markdown",
      "source": [
        "Dataset Creation"
      ],
      "metadata": {
        "id": "rjnZkKKDw7id"
      }
    },
    {
      "cell_type": "code",
      "source": [
        "# Path for storing Delta table\n",
        "delta_path = \"/tmp/orders_delta\"\n",
        "\n",
        "# Create sample DataFrame\n",
        "data = [\n",
        "    (1, \"John\", \"Electronics\", 2, 300),\n",
        "    (2, \"Sara\", \"Clothing\",    1,  50),\n",
        "    (3, \"Mike\", \"Electronics\", 4, 600),\n",
        "    (4, \"Nina\", \"Clothing\",    3, 150),\n",
        "]\n",
        "cols = [\"order_id\", \"customer_name\", \"category\", \"quantity\", \"amount\"]\n",
        "df = spark.createDataFrame(data, cols)\n",
        "\n",
        "# Save as Delta table\n",
        "df.write.format(\"delta\").mode(\"overwrite\").option(\"overwriteSchema\", \"true\").save(delta_path)\n",
        "\n",
        "df.show()"
      ],
      "metadata": {
        "colab": {
          "base_uri": "https://localhost:8080/"
        },
        "id": "Q4OnKgLlyLQE",
        "outputId": "a6a069bf-f7c3-4bf3-b501-c0a706fcc533"
      },
      "execution_count": 10,
      "outputs": [
        {
          "output_type": "stream",
          "name": "stdout",
          "text": [
            "+--------+-------------+-----------+--------+------+\n",
            "|order_id|customer_name|   category|quantity|amount|\n",
            "+--------+-------------+-----------+--------+------+\n",
            "|       1|         John|Electronics|       2|   300|\n",
            "|       2|         Sara|   Clothing|       1|    50|\n",
            "|       3|         Mike|Electronics|       4|   600|\n",
            "|       4|         Nina|   Clothing|       3|   150|\n",
            "+--------+-------------+-----------+--------+------+\n",
            "\n"
          ]
        }
      ]
    },
    {
      "cell_type": "markdown",
      "source": [
        "Managed vs Unmanaged Tables"
      ],
      "metadata": {
        "id": "qqYA9g2NyX_J"
      }
    },
    {
      "cell_type": "code",
      "source": [
        "# Managed table\n",
        "spark.sql(\"DROP TABLE IF EXISTS orders_managed\")\n",
        "spark.sql(f\"\"\"\n",
        "CREATE TABLE orders_managed\n",
        "USING DELTA\n",
        "LOCATION '{delta_path}'\n",
        "\"\"\")\n",
        "\n",
        "# Unmanaged table (points to same location)\n",
        "spark.sql(\"DROP TABLE IF EXISTS orders_unmanaged\")\n",
        "spark.sql(f\"\"\"\n",
        "CREATE TABLE orders_unmanaged\n",
        "USING DELTA\n",
        "LOCATION '{delta_path}'\n",
        "\"\"\")\n",
        "\n",
        "spark.sql(\"SELECT * FROM orders_managed\").show()\n",
        "spark.sql(\"SELECT * FROM orders_unmanaged\").show()\n"
      ],
      "metadata": {
        "colab": {
          "base_uri": "https://localhost:8080/"
        },
        "id": "94ZExgZ3yTgf",
        "outputId": "cac50e8e-7a30-44b3-be64-bb332d8f2242"
      },
      "execution_count": 11,
      "outputs": [
        {
          "output_type": "stream",
          "name": "stdout",
          "text": [
            "+--------+-------------+-----------+--------+------+\n",
            "|order_id|customer_name|   category|quantity|amount|\n",
            "+--------+-------------+-----------+--------+------+\n",
            "|       3|         Mike|Electronics|       4|   600|\n",
            "|       4|         Nina|   Clothing|       3|   150|\n",
            "|       1|         John|Electronics|       2|   300|\n",
            "|       2|         Sara|   Clothing|       1|    50|\n",
            "+--------+-------------+-----------+--------+------+\n",
            "\n",
            "+--------+-------------+-----------+--------+------+\n",
            "|order_id|customer_name|   category|quantity|amount|\n",
            "+--------+-------------+-----------+--------+------+\n",
            "|       3|         Mike|Electronics|       4|   600|\n",
            "|       4|         Nina|   Clothing|       3|   150|\n",
            "|       1|         John|Electronics|       2|   300|\n",
            "|       2|         Sara|   Clothing|       1|    50|\n",
            "+--------+-------------+-----------+--------+------+\n",
            "\n"
          ]
        }
      ]
    },
    {
      "cell_type": "markdown",
      "source": [
        "Managed vs Unmanaged Tables\n",
        "\n",
        "```\n",
        "# This is formatted as code\n",
        "```\n",
        "\n"
      ],
      "metadata": {
        "id": "aFzPevUkw3uF"
      }
    },
    {
      "cell_type": "markdown",
      "source": [
        "3) CRUD Operations"
      ],
      "metadata": {
        "id": "8fPMbVbDxWYD"
      }
    },
    {
      "cell_type": "code",
      "source": [
        "from delta.tables import DeltaTable\n",
        "\n",
        "delta = DeltaTable.forPath(spark, delta_path)\n",
        "\n",
        "# UPDATE\n",
        "delta.update(\"category = 'Clothing'\", {\"amount\": \"amount + 20\"})\n",
        "\n",
        "# DELETE\n",
        "delta.delete(\"quantity < 2\")\n",
        "\n",
        "# MERGE\n",
        "new_data = [\n",
        "    (3, \"Mike\", \"Electronics\", 4, 650),\n",
        "    (5, \"Emma\", \"Furniture\",   1, 200),\n",
        "]\n",
        "new_df = spark.createDataFrame(new_data, cols)\n",
        "(delta.alias(\"t\")\n",
        " .merge(new_df.alias(\"s\"), \"t.order_id = s.order_id\")\n",
        " .whenMatchedUpdateAll()\n",
        " .whenNotMatchedInsertAll()\n",
        " .execute())\n",
        "\n",
        "delta.toDF().show()\n"
      ],
      "metadata": {
        "colab": {
          "base_uri": "https://localhost:8080/"
        },
        "id": "LQLOTH7AxXCm",
        "outputId": "a6ee1fc5-20dc-4cc4-db67-b3b48d1a59ca"
      },
      "execution_count": 12,
      "outputs": [
        {
          "output_type": "stream",
          "name": "stdout",
          "text": [
            "+--------+-------------+-----------+--------+------+\n",
            "|order_id|customer_name|   category|quantity|amount|\n",
            "+--------+-------------+-----------+--------+------+\n",
            "|       3|         Mike|Electronics|       4|   650|\n",
            "|       4|         Nina|   Clothing|       3|   170|\n",
            "|       5|         Emma|  Furniture|       1|   200|\n",
            "|       1|         John|Electronics|       2|   300|\n",
            "+--------+-------------+-----------+--------+------+\n",
            "\n"
          ]
        }
      ]
    },
    {
      "cell_type": "markdown",
      "source": [
        "3) History & Time Travel"
      ],
      "metadata": {
        "id": "MeI7VMOcyzTB"
      }
    },
    {
      "cell_type": "code",
      "source": [
        "# Show table history\n",
        "delta.history().show()\n",
        "\n",
        "# Read from first version with data (version 1)\n",
        "v1 = spark.read.format(\"delta\").option(\"versionAsOf\", 1).load(delta_path)\n",
        "print(\"Version 1:\")\n",
        "v1.show()\n",
        "\n",
        "# Read latest version\n",
        "latest = spark.read.format(\"delta\").load(delta_path)\n",
        "print(\"Latest:\")\n",
        "latest.show()\n",
        "\n"
      ],
      "metadata": {
        "colab": {
          "base_uri": "https://localhost:8080/"
        },
        "id": "KT56Rrh1y0bK",
        "outputId": "e89d81bf-5826-4743-b442-77fd6f14cbcb"
      },
      "execution_count": 14,
      "outputs": [
        {
          "output_type": "stream",
          "name": "stdout",
          "text": [
            "+-------+--------------------+------+--------+------------+--------------------+----+--------+---------+-----------+--------------+-------------+--------------------+------------+--------------------+\n",
            "|version|           timestamp|userId|userName|   operation| operationParameters| job|notebook|clusterId|readVersion|isolationLevel|isBlindAppend|    operationMetrics|userMetadata|          engineInfo|\n",
            "+-------+--------------------+------+--------+------------+--------------------+----+--------+---------+-----------+--------------+-------------+--------------------+------------+--------------------+\n",
            "|      4|2025-08-14 08:56:...|  NULL|    NULL|       MERGE|{predicate -> [\"(...|NULL|    NULL|     NULL|          3|  Serializable|        false|{numTargetRowsCop...|        NULL|Apache-Spark/3.5....|\n",
            "|      3|2025-08-14 08:56:...|  NULL|    NULL|      DELETE|{predicate -> [\"(...|NULL|    NULL|     NULL|          2|  Serializable|        false|{numRemovedFiles ...|        NULL|Apache-Spark/3.5....|\n",
            "|      2|2025-08-14 08:55:...|  NULL|    NULL|      UPDATE|{predicate -> [\"(...|NULL|    NULL|     NULL|          1|  Serializable|        false|{numRemovedFiles ...|        NULL|Apache-Spark/3.5....|\n",
            "|      1|2025-08-14 08:53:...|  NULL|    NULL|       WRITE|{mode -> Overwrit...|NULL|    NULL|     NULL|          0|  Serializable|        false|{numFiles -> 2, n...|        NULL|Apache-Spark/3.5....|\n",
            "|      0|2025-08-14 08:49:...|  NULL|    NULL|CREATE TABLE|{isManaged -> fal...|NULL|    NULL|     NULL|       NULL|  Serializable|         true|                  {}|        NULL|Apache-Spark/3.5....|\n",
            "+-------+--------------------+------+--------+------------+--------------------+----+--------+---------+-----------+--------------+-------------+--------------------+------------+--------------------+\n",
            "\n",
            "Version 1:\n",
            "+--------+-------------+-----------+--------+------+\n",
            "|order_id|customer_name|   category|quantity|amount|\n",
            "+--------+-------------+-----------+--------+------+\n",
            "|       3|         Mike|Electronics|       4|   600|\n",
            "|       4|         Nina|   Clothing|       3|   150|\n",
            "|       1|         John|Electronics|       2|   300|\n",
            "|       2|         Sara|   Clothing|       1|    50|\n",
            "+--------+-------------+-----------+--------+------+\n",
            "\n",
            "Latest:\n",
            "+--------+-------------+-----------+--------+------+\n",
            "|order_id|customer_name|   category|quantity|amount|\n",
            "+--------+-------------+-----------+--------+------+\n",
            "|       3|         Mike|Electronics|       4|   650|\n",
            "|       4|         Nina|   Clothing|       3|   170|\n",
            "|       5|         Emma|  Furniture|       1|   200|\n",
            "|       1|         John|Electronics|       2|   300|\n",
            "+--------+-------------+-----------+--------+------+\n",
            "\n"
          ]
        }
      ]
    },
    {
      "cell_type": "markdown",
      "source": [
        "4) Incremental Load"
      ],
      "metadata": {
        "id": "IzjlzkC5zNxI"
      }
    },
    {
      "cell_type": "code",
      "source": [
        "# Mini-batch\n",
        "batch = [\n",
        "    (6, \"Liam\", \"Electronics\", 2, 500),\n",
        "    (7, \"Olivia\", \"Clothing\",  5, 400),\n",
        "]\n",
        "batch_df = spark.createDataFrame(batch, cols)\n",
        "\n",
        "# Append\n",
        "batch_df.write.format(\"delta\").mode(\"append\").save(delta_path)\n",
        "\n",
        "spark.read.format(\"delta\").load(delta_path).show()\n"
      ],
      "metadata": {
        "colab": {
          "base_uri": "https://localhost:8080/"
        },
        "id": "QQgBv1TBzSqK",
        "outputId": "7fac1676-b020-492c-f876-34503b6a9374"
      },
      "execution_count": 15,
      "outputs": [
        {
          "output_type": "stream",
          "name": "stdout",
          "text": [
            "+--------+-------------+-----------+--------+------+\n",
            "|order_id|customer_name|   category|quantity|amount|\n",
            "+--------+-------------+-----------+--------+------+\n",
            "|       3|         Mike|Electronics|       4|   650|\n",
            "|       4|         Nina|   Clothing|       3|   170|\n",
            "|       5|         Emma|  Furniture|       1|   200|\n",
            "|       6|         Liam|Electronics|       2|   500|\n",
            "|       1|         John|Electronics|       2|   300|\n",
            "|       7|       Olivia|   Clothing|       5|   400|\n",
            "+--------+-------------+-----------+--------+------+\n",
            "\n"
          ]
        }
      ]
    },
    {
      "cell_type": "code",
      "source": [],
      "metadata": {
        "id": "jfEkKeksz6xQ"
      },
      "execution_count": null,
      "outputs": []
    },
    {
      "cell_type": "markdown",
      "source": [
        "5) Simple Streaming Read"
      ],
      "metadata": {
        "id": "VIpfzUzQzf7X"
      }
    },
    {
      "cell_type": "code",
      "source": [
        "# Start streaming into memory\n",
        "query = (spark.readStream.format(\"delta\").load(delta_path)\n",
        "         .writeStream\n",
        "         .format(\"memory\")    # keep results in memory\n",
        "         .queryName(\"orders_stream\")\n",
        "         .outputMode(\"append\")\n",
        "         .start())\n",
        "\n"
      ],
      "metadata": {
        "id": "G5N8sqF4z8TV"
      },
      "execution_count": 21,
      "outputs": []
    },
    {
      "cell_type": "code",
      "source": [
        "import time\n",
        "\n",
        "for _ in range(5):\n",
        "    spark.sql(\"SELECT * FROM orders_stream\").show()\n",
        "    time.sleep(5)  # wait between checks\n"
      ],
      "metadata": {
        "colab": {
          "base_uri": "https://localhost:8080/"
        },
        "id": "dfkPPi_F0a3g",
        "outputId": "f689678b-3367-4bcc-af95-e9f0718cfa48"
      },
      "execution_count": 22,
      "outputs": [
        {
          "output_type": "stream",
          "name": "stdout",
          "text": [
            "+--------+-------------+-----------+--------+------+\n",
            "|order_id|customer_name|   category|quantity|amount|\n",
            "+--------+-------------+-----------+--------+------+\n",
            "|       3|         Mike|Electronics|       4|   650|\n",
            "|       4|         Nina|   Clothing|       3|   170|\n",
            "|       5|         Emma|  Furniture|       1|   200|\n",
            "|       1|         John|Electronics|       2|   300|\n",
            "|       6|         Liam|Electronics|       2|   500|\n",
            "|       7|       Olivia|   Clothing|       5|   400|\n",
            "|       8|         Noah|     Sports|       3|   300|\n",
            "|       9|          Ava|      Books|       2|   120|\n",
            "+--------+-------------+-----------+--------+------+\n",
            "\n",
            "+--------+-------------+-----------+--------+------+\n",
            "|order_id|customer_name|   category|quantity|amount|\n",
            "+--------+-------------+-----------+--------+------+\n",
            "|       3|         Mike|Electronics|       4|   650|\n",
            "|       4|         Nina|   Clothing|       3|   170|\n",
            "|       5|         Emma|  Furniture|       1|   200|\n",
            "|       1|         John|Electronics|       2|   300|\n",
            "|       6|         Liam|Electronics|       2|   500|\n",
            "|       7|       Olivia|   Clothing|       5|   400|\n",
            "|       8|         Noah|     Sports|       3|   300|\n",
            "|       9|          Ava|      Books|       2|   120|\n",
            "+--------+-------------+-----------+--------+------+\n",
            "\n",
            "+--------+-------------+-----------+--------+------+\n",
            "|order_id|customer_name|   category|quantity|amount|\n",
            "+--------+-------------+-----------+--------+------+\n",
            "|       3|         Mike|Electronics|       4|   650|\n",
            "|       4|         Nina|   Clothing|       3|   170|\n",
            "|       5|         Emma|  Furniture|       1|   200|\n",
            "|       1|         John|Electronics|       2|   300|\n",
            "|       6|         Liam|Electronics|       2|   500|\n",
            "|       7|       Olivia|   Clothing|       5|   400|\n",
            "|       8|         Noah|     Sports|       3|   300|\n",
            "|       9|          Ava|      Books|       2|   120|\n",
            "+--------+-------------+-----------+--------+------+\n",
            "\n",
            "+--------+-------------+-----------+--------+------+\n",
            "|order_id|customer_name|   category|quantity|amount|\n",
            "+--------+-------------+-----------+--------+------+\n",
            "|       3|         Mike|Electronics|       4|   650|\n",
            "|       4|         Nina|   Clothing|       3|   170|\n",
            "|       5|         Emma|  Furniture|       1|   200|\n",
            "|       1|         John|Electronics|       2|   300|\n",
            "|       6|         Liam|Electronics|       2|   500|\n",
            "|       7|       Olivia|   Clothing|       5|   400|\n",
            "|       8|         Noah|     Sports|       3|   300|\n",
            "|       9|          Ava|      Books|       2|   120|\n",
            "+--------+-------------+-----------+--------+------+\n",
            "\n",
            "+--------+-------------+-----------+--------+------+\n",
            "|order_id|customer_name|   category|quantity|amount|\n",
            "+--------+-------------+-----------+--------+------+\n",
            "|       3|         Mike|Electronics|       4|   650|\n",
            "|       4|         Nina|   Clothing|       3|   170|\n",
            "|       5|         Emma|  Furniture|       1|   200|\n",
            "|       1|         John|Electronics|       2|   300|\n",
            "|       6|         Liam|Electronics|       2|   500|\n",
            "|       7|       Olivia|   Clothing|       5|   400|\n",
            "|       8|         Noah|     Sports|       3|   300|\n",
            "|       9|          Ava|      Books|       2|   120|\n",
            "+--------+-------------+-----------+--------+------+\n",
            "\n"
          ]
        }
      ]
    },
    {
      "cell_type": "markdown",
      "source": [
        "6) Visualization"
      ],
      "metadata": {
        "id": "m2rqiM4qzodG"
      }
    },
    {
      "cell_type": "code",
      "source": [
        "import matplotlib.pyplot as plt\n",
        "\n",
        "pdf = spark.read.format(\"delta\").load(delta_path).toPandas()\n",
        "category_totals = pdf.groupby(\"category\")[\"amount\"].sum().reset_index()\n",
        "\n",
        "plt.bar(category_totals[\"category\"], category_totals[\"amount\"])\n",
        "plt.xlabel(\"Category\")\n",
        "plt.ylabel(\"Total Amount\")\n",
        "plt.title(\"Category vs Total Amount\")\n",
        "plt.show()\n"
      ],
      "metadata": {
        "colab": {
          "base_uri": "https://localhost:8080/",
          "height": 472
        },
        "id": "8EQziiW9zrRX",
        "outputId": "eb7fc5a3-c2da-4b3b-c1a1-cee5777b86d0"
      },
      "execution_count": 17,
      "outputs": [
        {
          "output_type": "display_data",
          "data": {
            "text/plain": [
              "<Figure size 640x480 with 1 Axes>"
            ],
            "image/png": "[encoded data removed]"
          },
          "metadata": {}
        }
      ]
    },
    {
      "cell_type": "markdown",
      "source": [],
      "metadata": {
        "id": "VAexGcjqzkzI"
      }
    }
  ]
}